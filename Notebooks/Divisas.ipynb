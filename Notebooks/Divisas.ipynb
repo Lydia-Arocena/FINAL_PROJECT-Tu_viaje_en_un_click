{
 "cells": [
  {
   "cell_type": "code",
   "execution_count": 54,
   "id": "41aedb34",
   "metadata": {},
   "outputs": [],
   "source": [
    "from selenium import webdriver\n",
    "from selenium.webdriver.chrome.options import Options\n",
    "import time\n",
    "import pandas as pd\n",
    "from selenium.webdriver.support.ui import Select\n",
    "from webdriver_manager.chrome import ChromeDriverManager\n",
    "from selenium.webdriver.common.keys import Keys\n",
    "\n",
    "import warnings\n",
    "warnings.filterwarnings(\"ignore\")\n",
    "\n",
    "import re"
   ]
  },
  {
   "cell_type": "code",
   "execution_count": 2,
   "id": "d9105d7f",
   "metadata": {},
   "outputs": [],
   "source": [
    "opciones=Options()\n",
    "\n",
    "opciones.add_experimental_option('excludeSwitches', ['enable-automation'])\n",
    "opciones.add_experimental_option('useAutomationExtension', False)\n",
    "opciones.headless=False    \n",
    "opciones.add_argument('--start-maximized')        \n",
    "opciones.add_argument('user-data-dir=selenium')    \n",
    "opciones.add_argument('--incognito')         "
   ]
  },
  {
   "cell_type": "code",
   "execution_count": 71,
   "id": "4327d7f4",
   "metadata": {},
   "outputs": [],
   "source": [
    "driver = webdriver.Chrome(\"./chromedriver.exe\")\n",
    "url= \"https://fxtop.com/es/lista-de-paises.php\"\n",
    "driver.get(url)\n",
    "driver.implicitly_wait(5)\n",
    "driver.find_element_by_css_selector(\"body > div > div.fc-dialog-container > div.fc-dialog.fc-choice-dialog > div.fc-footer-buttons-container > div.fc-footer-buttons > button.fc-button.fc-cta-consent.fc-primary-button\").click()\n",
    "\n",
    "dicc={\"Countries\":[],\"Divisas\":[],\"Abrev\":[]}\n",
    "\n",
    "for i in range(2,245):\n",
    "    dicc[\"Countries\"].append(driver.find_element_by_css_selector(f\"body > table > tbody > tr > td:nth-child(2) > table > tbody > tr > td:nth-child(2) > table > tbody > tr:nth-child(5) > td > table > tbody > tr:nth-child({i}) > td:nth-child(1)\").text)\n",
    "    dicc[\"Divisas\"].append(driver.find_element_by_css_selector(f\"body > table > tbody > tr > td:nth-child(2) > table > tbody > tr > td:nth-child(2) > table > tbody > tr:nth-child(5) > td > table > tbody > tr:nth-child({i}) > td:nth-child(3)\").text)\n",
    "    dicc[\"Abrev\"].append(driver.find_element_by_css_selector(f\"body > table > tbody > tr > td:nth-child(2) > table > tbody > tr > td:nth-child(2) > table > tbody > tr:nth-child(5) > td > table > tbody > tr:nth-child({i}) > td:nth-child(4)\").text)\n",
    "\n",
    "driver.quit()"
   ]
  },
  {
   "cell_type": "code",
   "execution_count": 72,
   "id": "c09a83d1",
   "metadata": {},
   "outputs": [],
   "source": [
    "div=pd.DataFrame(dicc)"
   ]
  },
  {
   "cell_type": "code",
   "execution_count": 73,
   "id": "d7fb4669",
   "metadata": {},
   "outputs": [
    {
     "data": {
      "text/html": [
       "<div>\n",
       "<style scoped>\n",
       "    .dataframe tbody tr th:only-of-type {\n",
       "        vertical-align: middle;\n",
       "    }\n",
       "\n",
       "    .dataframe tbody tr th {\n",
       "        vertical-align: top;\n",
       "    }\n",
       "\n",
       "    .dataframe thead th {\n",
       "        text-align: right;\n",
       "    }\n",
       "</style>\n",
       "<table border=\"1\" class=\"dataframe\">\n",
       "  <thead>\n",
       "    <tr style=\"text-align: right;\">\n",
       "      <th></th>\n",
       "      <th>Countries</th>\n",
       "      <th>Divisas</th>\n",
       "      <th>Abrev</th>\n",
       "    </tr>\n",
       "  </thead>\n",
       "  <tbody>\n",
       "    <tr>\n",
       "      <th>0</th>\n",
       "      <td>Martinica</td>\n",
       "      <td>EUR euro</td>\n",
       "      <td>EUR / EUR</td>\n",
       "    </tr>\n",
       "    <tr>\n",
       "      <th>1</th>\n",
       "      <td>Afganistán</td>\n",
       "      <td>AFN afgani afgano</td>\n",
       "      <td>EUR / AFN</td>\n",
       "    </tr>\n",
       "    <tr>\n",
       "      <th>2</th>\n",
       "      <td>África del Sur</td>\n",
       "      <td>ZAR rand sudafricano</td>\n",
       "      <td>EUR / ZAR</td>\n",
       "    </tr>\n",
       "    <tr>\n",
       "      <th>3</th>\n",
       "      <td>Albania</td>\n",
       "      <td>ALL lek albanés</td>\n",
       "      <td>EUR / ALL</td>\n",
       "    </tr>\n",
       "    <tr>\n",
       "      <th>4</th>\n",
       "      <td>Alemania</td>\n",
       "      <td>EUR euro</td>\n",
       "      <td>EUR / EUR</td>\n",
       "    </tr>\n",
       "  </tbody>\n",
       "</table>\n",
       "</div>"
      ],
      "text/plain": [
       "        Countries               Divisas      Abrev\n",
       "0       Martinica              EUR euro  EUR / EUR\n",
       "1      Afganistán     AFN afgani afgano  EUR / AFN\n",
       "2  África del Sur  ZAR rand sudafricano  EUR / ZAR\n",
       "3         Albania       ALL lek albanés  EUR / ALL\n",
       "4        Alemania              EUR euro  EUR / EUR"
      ]
     },
     "execution_count": 73,
     "metadata": {},
     "output_type": "execute_result"
    }
   ],
   "source": [
    "div.head()"
   ]
  },
  {
   "cell_type": "code",
   "execution_count": 111,
   "id": "4b5b83e5",
   "metadata": {},
   "outputs": [],
   "source": [
    "abr=[]\n",
    "for fila in div.Abrev:\n",
    "    abr.append(fila.split(\" / \")[1])\n",
    "    "
   ]
  },
  {
   "cell_type": "code",
   "execution_count": 113,
   "id": "15421174",
   "metadata": {},
   "outputs": [],
   "source": [
    "div['Abrev']=abr"
   ]
  },
  {
   "cell_type": "code",
   "execution_count": 114,
   "id": "e9283b74",
   "metadata": {},
   "outputs": [
    {
     "data": {
      "text/html": [
       "<div>\n",
       "<style scoped>\n",
       "    .dataframe tbody tr th:only-of-type {\n",
       "        vertical-align: middle;\n",
       "    }\n",
       "\n",
       "    .dataframe tbody tr th {\n",
       "        vertical-align: top;\n",
       "    }\n",
       "\n",
       "    .dataframe thead th {\n",
       "        text-align: right;\n",
       "    }\n",
       "</style>\n",
       "<table border=\"1\" class=\"dataframe\">\n",
       "  <thead>\n",
       "    <tr style=\"text-align: right;\">\n",
       "      <th></th>\n",
       "      <th>Countries</th>\n",
       "      <th>Divisas</th>\n",
       "      <th>Abrev</th>\n",
       "    </tr>\n",
       "  </thead>\n",
       "  <tbody>\n",
       "    <tr>\n",
       "      <th>0</th>\n",
       "      <td>Martinica</td>\n",
       "      <td>EUR euro</td>\n",
       "      <td>EUR</td>\n",
       "    </tr>\n",
       "    <tr>\n",
       "      <th>1</th>\n",
       "      <td>Afganistán</td>\n",
       "      <td>AFN afgani afgano</td>\n",
       "      <td>AFN</td>\n",
       "    </tr>\n",
       "    <tr>\n",
       "      <th>2</th>\n",
       "      <td>África del Sur</td>\n",
       "      <td>ZAR rand sudafricano</td>\n",
       "      <td>ZAR</td>\n",
       "    </tr>\n",
       "    <tr>\n",
       "      <th>3</th>\n",
       "      <td>Albania</td>\n",
       "      <td>ALL lek albanés</td>\n",
       "      <td>ALL</td>\n",
       "    </tr>\n",
       "    <tr>\n",
       "      <th>4</th>\n",
       "      <td>Alemania</td>\n",
       "      <td>EUR euro</td>\n",
       "      <td>EUR</td>\n",
       "    </tr>\n",
       "  </tbody>\n",
       "</table>\n",
       "</div>"
      ],
      "text/plain": [
       "        Countries               Divisas Abrev\n",
       "0       Martinica              EUR euro   EUR\n",
       "1      Afganistán     AFN afgani afgano   AFN\n",
       "2  África del Sur  ZAR rand sudafricano   ZAR\n",
       "3         Albania       ALL lek albanés   ALL\n",
       "4        Alemania              EUR euro   EUR"
      ]
     },
     "execution_count": 114,
     "metadata": {},
     "output_type": "execute_result"
    }
   ],
   "source": [
    "div.head()"
   ]
  },
  {
   "cell_type": "code",
   "execution_count": 149,
   "id": "ccf07e26",
   "metadata": {},
   "outputs": [],
   "source": [
    "prueba=re.findall(\"^[a-z]+\",\"ALL lek albanés\")"
   ]
  },
  {
   "cell_type": "code",
   "execution_count": 150,
   "id": "d92706ba",
   "metadata": {},
   "outputs": [
    {
     "data": {
      "text/plain": [
       "[]"
      ]
     },
     "execution_count": 150,
     "metadata": {},
     "output_type": "execute_result"
    }
   ],
   "source": [
    "prueba"
   ]
  },
  {
   "cell_type": "code",
   "execution_count": null,
   "id": "2f991e8d",
   "metadata": {},
   "outputs": [],
   "source": []
  }
 ],
 "metadata": {
  "kernelspec": {
   "display_name": "ironhack",
   "language": "python",
   "name": "ironhack"
  },
  "language_info": {
   "codemirror_mode": {
    "name": "ipython",
    "version": 3
   },
   "file_extension": ".py",
   "mimetype": "text/x-python",
   "name": "python",
   "nbconvert_exporter": "python",
   "pygments_lexer": "ipython3",
   "version": "3.8.5"
  }
 },
 "nbformat": 4,
 "nbformat_minor": 5
}
