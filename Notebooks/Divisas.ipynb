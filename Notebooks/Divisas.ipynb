{
 "cells": [
  {
   "cell_type": "code",
   "execution_count": 1,
   "id": "41aedb34",
   "metadata": {},
   "outputs": [],
   "source": [
    "from selenium import webdriver\n",
    "from selenium.webdriver.chrome.options import Options\n",
    "import time\n",
    "import pandas as pd\n",
    "from selenium.webdriver.support.ui import Select\n",
    "from webdriver_manager.chrome import ChromeDriverManager\n",
    "from selenium.webdriver.common.keys import Keys\n",
    "\n",
    "import warnings\n",
    "warnings.filterwarnings(\"ignore\")\n",
    "\n",
    "import re\n",
    "\n",
    "from pymongo import MongoClient\n",
    "import pandas as pd"
   ]
  },
  {
   "cell_type": "code",
   "execution_count": 12,
   "id": "d9105d7f",
   "metadata": {},
   "outputs": [],
   "source": [
    "opciones=Options()\n",
    "\n",
    "opciones.add_experimental_option('excludeSwitches', ['enable-automation'])\n",
    "opciones.add_experimental_option('useAutomationExtension', False)\n",
    "opciones.headless=False    \n",
    "opciones.add_argument('--start-maximized')        \n",
    "opciones.add_argument('user-data-dir=selenium')    \n",
    "opciones.add_argument('--incognito')         "
   ]
  },
  {
   "cell_type": "code",
   "execution_count": 13,
   "id": "4327d7f4",
   "metadata": {},
   "outputs": [],
   "source": [
    "driver = webdriver.Chrome(\"./chromedriver.exe\")\n",
    "url= \"https://fxtop.com/es/lista-de-paises.php\"\n",
    "driver.get(url)\n",
    "driver.implicitly_wait(5)\n",
    "driver.find_element_by_css_selector(\"body > div > div.fc-dialog-container > div.fc-dialog.fc-choice-dialog > div.fc-footer-buttons-container > div.fc-footer-buttons > button.fc-button.fc-cta-consent.fc-primary-button\").click()\n",
    "\n",
    "dicc={\"Countries\":[],\"Divisas\":[],\"Abrev\":[]}\n",
    "\n",
    "for i in range(2,245):\n",
    "    dicc[\"Countries\"].append(driver.find_element_by_css_selector(f\"body > table > tbody > tr > td:nth-child(2) > table > tbody > tr > td:nth-child(2) > table > tbody > tr:nth-child(5) > td > table > tbody > tr:nth-child({i}) > td:nth-child(1)\").text)\n",
    "    dicc[\"Divisas\"].append(driver.find_element_by_css_selector(f\"body > table > tbody > tr > td:nth-child(2) > table > tbody > tr > td:nth-child(2) > table > tbody > tr:nth-child(5) > td > table > tbody > tr:nth-child({i}) > td:nth-child(3)\").text)\n",
    "    dicc[\"Abrev\"].append(driver.find_element_by_css_selector(f\"body > table > tbody > tr > td:nth-child(2) > table > tbody > tr > td:nth-child(2) > table > tbody > tr:nth-child(5) > td > table > tbody > tr:nth-child({i}) > td:nth-child(4)\").text)\n",
    "\n",
    "driver.quit()"
   ]
  },
  {
   "cell_type": "code",
   "execution_count": 14,
   "id": "c09a83d1",
   "metadata": {},
   "outputs": [],
   "source": [
    "div=pd.DataFrame(dicc)"
   ]
  },
  {
   "cell_type": "code",
   "execution_count": 15,
   "id": "d7fb4669",
   "metadata": {},
   "outputs": [
    {
     "data": {
      "text/html": [
       "<div>\n",
       "<style scoped>\n",
       "    .dataframe tbody tr th:only-of-type {\n",
       "        vertical-align: middle;\n",
       "    }\n",
       "\n",
       "    .dataframe tbody tr th {\n",
       "        vertical-align: top;\n",
       "    }\n",
       "\n",
       "    .dataframe thead th {\n",
       "        text-align: right;\n",
       "    }\n",
       "</style>\n",
       "<table border=\"1\" class=\"dataframe\">\n",
       "  <thead>\n",
       "    <tr style=\"text-align: right;\">\n",
       "      <th></th>\n",
       "      <th>Countries</th>\n",
       "      <th>Divisas</th>\n",
       "      <th>Abrev</th>\n",
       "    </tr>\n",
       "  </thead>\n",
       "  <tbody>\n",
       "    <tr>\n",
       "      <th>0</th>\n",
       "      <td>Martinica</td>\n",
       "      <td>EUR euro</td>\n",
       "      <td>EUR / EUR</td>\n",
       "    </tr>\n",
       "    <tr>\n",
       "      <th>1</th>\n",
       "      <td>Afganistán</td>\n",
       "      <td>AFN afgani afgano</td>\n",
       "      <td>EUR / AFN</td>\n",
       "    </tr>\n",
       "    <tr>\n",
       "      <th>2</th>\n",
       "      <td>África del Sur</td>\n",
       "      <td>ZAR rand sudafricano</td>\n",
       "      <td>EUR / ZAR</td>\n",
       "    </tr>\n",
       "    <tr>\n",
       "      <th>3</th>\n",
       "      <td>Albania</td>\n",
       "      <td>ALL lek albanés</td>\n",
       "      <td>EUR / ALL</td>\n",
       "    </tr>\n",
       "    <tr>\n",
       "      <th>4</th>\n",
       "      <td>Alemania</td>\n",
       "      <td>EUR euro</td>\n",
       "      <td>EUR / EUR</td>\n",
       "    </tr>\n",
       "  </tbody>\n",
       "</table>\n",
       "</div>"
      ],
      "text/plain": [
       "        Countries               Divisas      Abrev\n",
       "0       Martinica              EUR euro  EUR / EUR\n",
       "1      Afganistán     AFN afgani afgano  EUR / AFN\n",
       "2  África del Sur  ZAR rand sudafricano  EUR / ZAR\n",
       "3         Albania       ALL lek albanés  EUR / ALL\n",
       "4        Alemania              EUR euro  EUR / EUR"
      ]
     },
     "execution_count": 15,
     "metadata": {},
     "output_type": "execute_result"
    }
   ],
   "source": [
    "div.head()"
   ]
  },
  {
   "cell_type": "code",
   "execution_count": 16,
   "id": "4b5b83e5",
   "metadata": {},
   "outputs": [],
   "source": [
    "abr=[]\n",
    "for fila in div.Abrev:\n",
    "    abr.append(fila.split(\" / \")[1])\n",
    "    "
   ]
  },
  {
   "cell_type": "code",
   "execution_count": 17,
   "id": "15421174",
   "metadata": {},
   "outputs": [],
   "source": [
    "div['Abrev']=abr"
   ]
  },
  {
   "cell_type": "code",
   "execution_count": 18,
   "id": "e9283b74",
   "metadata": {},
   "outputs": [
    {
     "data": {
      "text/html": [
       "<div>\n",
       "<style scoped>\n",
       "    .dataframe tbody tr th:only-of-type {\n",
       "        vertical-align: middle;\n",
       "    }\n",
       "\n",
       "    .dataframe tbody tr th {\n",
       "        vertical-align: top;\n",
       "    }\n",
       "\n",
       "    .dataframe thead th {\n",
       "        text-align: right;\n",
       "    }\n",
       "</style>\n",
       "<table border=\"1\" class=\"dataframe\">\n",
       "  <thead>\n",
       "    <tr style=\"text-align: right;\">\n",
       "      <th></th>\n",
       "      <th>Countries</th>\n",
       "      <th>Divisas</th>\n",
       "      <th>Abrev</th>\n",
       "    </tr>\n",
       "  </thead>\n",
       "  <tbody>\n",
       "    <tr>\n",
       "      <th>0</th>\n",
       "      <td>Martinica</td>\n",
       "      <td>EUR euro</td>\n",
       "      <td>EUR</td>\n",
       "    </tr>\n",
       "    <tr>\n",
       "      <th>1</th>\n",
       "      <td>Afganistán</td>\n",
       "      <td>AFN afgani afgano</td>\n",
       "      <td>AFN</td>\n",
       "    </tr>\n",
       "    <tr>\n",
       "      <th>2</th>\n",
       "      <td>África del Sur</td>\n",
       "      <td>ZAR rand sudafricano</td>\n",
       "      <td>ZAR</td>\n",
       "    </tr>\n",
       "    <tr>\n",
       "      <th>3</th>\n",
       "      <td>Albania</td>\n",
       "      <td>ALL lek albanés</td>\n",
       "      <td>ALL</td>\n",
       "    </tr>\n",
       "    <tr>\n",
       "      <th>4</th>\n",
       "      <td>Alemania</td>\n",
       "      <td>EUR euro</td>\n",
       "      <td>EUR</td>\n",
       "    </tr>\n",
       "  </tbody>\n",
       "</table>\n",
       "</div>"
      ],
      "text/plain": [
       "        Countries               Divisas Abrev\n",
       "0       Martinica              EUR euro   EUR\n",
       "1      Afganistán     AFN afgani afgano   AFN\n",
       "2  África del Sur  ZAR rand sudafricano   ZAR\n",
       "3         Albania       ALL lek albanés   ALL\n",
       "4        Alemania              EUR euro   EUR"
      ]
     },
     "execution_count": 18,
     "metadata": {},
     "output_type": "execute_result"
    }
   ],
   "source": [
    "div.head()"
   ]
  },
  {
   "cell_type": "code",
   "execution_count": 19,
   "metadata": {},
   "outputs": [],
   "source": [
    "divisas=list(div.Divisas)"
   ]
  },
  {
   "cell_type": "code",
   "execution_count": 29,
   "metadata": {},
   "outputs": [],
   "source": [
    "divisas_lista=[]\n",
    "for d in divisas:\n",
    "    elemento=re.findall(\"[a-z].*\",d)\n",
    "    divisas_lista.append(elemento[0])"
   ]
  },
  {
   "cell_type": "code",
   "execution_count": 30,
   "id": "ccf07e26",
   "metadata": {},
   "outputs": [],
   "source": [
    "div[\"Divisas\"]=divisas_lista"
   ]
  },
  {
   "cell_type": "code",
   "execution_count": 31,
   "id": "d92706ba",
   "metadata": {},
   "outputs": [
    {
     "data": {
      "text/html": [
       "<div>\n",
       "<style scoped>\n",
       "    .dataframe tbody tr th:only-of-type {\n",
       "        vertical-align: middle;\n",
       "    }\n",
       "\n",
       "    .dataframe tbody tr th {\n",
       "        vertical-align: top;\n",
       "    }\n",
       "\n",
       "    .dataframe thead th {\n",
       "        text-align: right;\n",
       "    }\n",
       "</style>\n",
       "<table border=\"1\" class=\"dataframe\">\n",
       "  <thead>\n",
       "    <tr style=\"text-align: right;\">\n",
       "      <th></th>\n",
       "      <th>Countries</th>\n",
       "      <th>Divisas</th>\n",
       "      <th>Abrev</th>\n",
       "    </tr>\n",
       "  </thead>\n",
       "  <tbody>\n",
       "    <tr>\n",
       "      <th>0</th>\n",
       "      <td>Martinica</td>\n",
       "      <td>euro</td>\n",
       "      <td>EUR</td>\n",
       "    </tr>\n",
       "    <tr>\n",
       "      <th>1</th>\n",
       "      <td>Afganistán</td>\n",
       "      <td>afgani afgano</td>\n",
       "      <td>AFN</td>\n",
       "    </tr>\n",
       "    <tr>\n",
       "      <th>2</th>\n",
       "      <td>África del Sur</td>\n",
       "      <td>rand sudafricano</td>\n",
       "      <td>ZAR</td>\n",
       "    </tr>\n",
       "    <tr>\n",
       "      <th>3</th>\n",
       "      <td>Albania</td>\n",
       "      <td>lek albanés</td>\n",
       "      <td>ALL</td>\n",
       "    </tr>\n",
       "    <tr>\n",
       "      <th>4</th>\n",
       "      <td>Alemania</td>\n",
       "      <td>euro</td>\n",
       "      <td>EUR</td>\n",
       "    </tr>\n",
       "  </tbody>\n",
       "</table>\n",
       "</div>"
      ],
      "text/plain": [
       "        Countries           Divisas Abrev\n",
       "0       Martinica              euro   EUR\n",
       "1      Afganistán     afgani afgano   AFN\n",
       "2  África del Sur  rand sudafricano   ZAR\n",
       "3         Albania       lek albanés   ALL\n",
       "4        Alemania              euro   EUR"
      ]
     },
     "execution_count": 31,
     "metadata": {},
     "output_type": "execute_result"
    }
   ],
   "source": [
    "div.head()"
   ]
  },
  {
   "cell_type": "code",
   "execution_count": 67,
   "metadata": {},
   "outputs": [],
   "source": [
    "div.Countries = div.Countries.str.replace(\"España\", \"Espana\")"
   ]
  },
  {
   "cell_type": "code",
   "execution_count": 68,
   "id": "2f991e8d",
   "metadata": {},
   "outputs": [],
   "source": [
    "div.to_csv(\"../Data/divisasdf.csv\")"
   ]
  },
  {
   "cell_type": "code",
   "execution_count": 40,
   "metadata": {},
   "outputs": [],
   "source": [
    "def get_country(city):\n",
    "    \"\"\"\n",
    "    Esta función devuelve el país de una ciudad dada.\n",
    "    Args: Ciudad (string).\n",
    "    Return: País (string).\n",
    "    \"\"\"\n",
    "    client = MongoClient(\"localhost:27017\")\n",
    "    db = client.get_database(\"Tu_viaje_ideal_en_un_click\")\n",
    "    c = db.get_collection(\"coordenadas\")\n",
    "    cond={\"City\": city}\n",
    "    #pr={\"IATA\": 1,\"Country\":0, \"_id\":0, \"City\":1, \"Location\":0}\n",
    "    div=list(c.find(cond))\n",
    "    paises=div[0]['Country']\n",
    "    \n",
    "    return paises"
   ]
  },
  {
   "cell_type": "code",
   "execution_count": 57,
   "metadata": {},
   "outputs": [
    {
     "data": {
      "text/plain": [
       "'Alemania'"
      ]
     },
     "execution_count": 57,
     "metadata": {},
     "output_type": "execute_result"
    }
   ],
   "source": [
    "get_country(\"Madrid\")"
   ]
  },
  {
   "cell_type": "code",
   "execution_count": 66,
   "metadata": {},
   "outputs": [
    {
     "data": {
      "text/plain": [
       "'EUR'"
      ]
     },
     "execution_count": 66,
     "metadata": {},
     "output_type": "execute_result"
    }
   ],
   "source": [
    "list(div[div[\"Countries\"] == \"Espana\"][\"Abrev\"])[0]"
   ]
  },
  {
   "cell_type": "code",
   "execution_count": 3,
   "metadata": {},
   "outputs": [],
   "source": [
    "def load_data():\n",
    "    return pd.read_csv(\"../Data/divisasdf.csv\")"
   ]
  },
  {
   "cell_type": "code",
   "execution_count": 4,
   "metadata": {},
   "outputs": [
    {
     "data": {
      "text/html": [
       "<div>\n",
       "<style scoped>\n",
       "    .dataframe tbody tr th:only-of-type {\n",
       "        vertical-align: middle;\n",
       "    }\n",
       "\n",
       "    .dataframe tbody tr th {\n",
       "        vertical-align: top;\n",
       "    }\n",
       "\n",
       "    .dataframe thead th {\n",
       "        text-align: right;\n",
       "    }\n",
       "</style>\n",
       "<table border=\"1\" class=\"dataframe\">\n",
       "  <thead>\n",
       "    <tr style=\"text-align: right;\">\n",
       "      <th></th>\n",
       "      <th>Unnamed: 0</th>\n",
       "      <th>Countries</th>\n",
       "      <th>Divisas</th>\n",
       "      <th>Abrev</th>\n",
       "    </tr>\n",
       "  </thead>\n",
       "  <tbody>\n",
       "    <tr>\n",
       "      <th>0</th>\n",
       "      <td>0</td>\n",
       "      <td>Martinica</td>\n",
       "      <td>euro</td>\n",
       "      <td>EUR</td>\n",
       "    </tr>\n",
       "    <tr>\n",
       "      <th>1</th>\n",
       "      <td>1</td>\n",
       "      <td>Afganistán</td>\n",
       "      <td>afgani afgano</td>\n",
       "      <td>AFN</td>\n",
       "    </tr>\n",
       "    <tr>\n",
       "      <th>2</th>\n",
       "      <td>2</td>\n",
       "      <td>África del Sur</td>\n",
       "      <td>rand sudafricano</td>\n",
       "      <td>ZAR</td>\n",
       "    </tr>\n",
       "    <tr>\n",
       "      <th>3</th>\n",
       "      <td>3</td>\n",
       "      <td>Albania</td>\n",
       "      <td>lek albanés</td>\n",
       "      <td>ALL</td>\n",
       "    </tr>\n",
       "    <tr>\n",
       "      <th>4</th>\n",
       "      <td>4</td>\n",
       "      <td>Alemania</td>\n",
       "      <td>euro</td>\n",
       "      <td>EUR</td>\n",
       "    </tr>\n",
       "    <tr>\n",
       "      <th>...</th>\n",
       "      <td>...</td>\n",
       "      <td>...</td>\n",
       "      <td>...</td>\n",
       "      <td>...</td>\n",
       "    </tr>\n",
       "    <tr>\n",
       "      <th>238</th>\n",
       "      <td>238</td>\n",
       "      <td>Yemen</td>\n",
       "      <td>rial yemeni</td>\n",
       "      <td>YER</td>\n",
       "    </tr>\n",
       "    <tr>\n",
       "      <th>239</th>\n",
       "      <td>239</td>\n",
       "      <td>Yibuti</td>\n",
       "      <td>franco yibutiano</td>\n",
       "      <td>DJF</td>\n",
       "    </tr>\n",
       "    <tr>\n",
       "      <th>240</th>\n",
       "      <td>240</td>\n",
       "      <td>Yugoslavia</td>\n",
       "      <td>dinar yugoslavo</td>\n",
       "      <td>YUN</td>\n",
       "    </tr>\n",
       "    <tr>\n",
       "      <th>241</th>\n",
       "      <td>241</td>\n",
       "      <td>Zambia</td>\n",
       "      <td>kwacha zambiano</td>\n",
       "      <td>ZMW</td>\n",
       "    </tr>\n",
       "    <tr>\n",
       "      <th>242</th>\n",
       "      <td>242</td>\n",
       "      <td>Zimbabue</td>\n",
       "      <td>dólar zimbabuense</td>\n",
       "      <td>ZWL</td>\n",
       "    </tr>\n",
       "  </tbody>\n",
       "</table>\n",
       "<p>243 rows × 4 columns</p>\n",
       "</div>"
      ],
      "text/plain": [
       "     Unnamed: 0       Countries            Divisas Abrev\n",
       "0             0       Martinica               euro   EUR\n",
       "1             1      Afganistán      afgani afgano   AFN\n",
       "2             2  África del Sur   rand sudafricano   ZAR\n",
       "3             3         Albania        lek albanés   ALL\n",
       "4             4        Alemania               euro   EUR\n",
       "..          ...             ...                ...   ...\n",
       "238         238           Yemen        rial yemeni   YER\n",
       "239         239          Yibuti   franco yibutiano   DJF\n",
       "240         240      Yugoslavia    dinar yugoslavo   YUN\n",
       "241         241          Zambia    kwacha zambiano   ZMW\n",
       "242         242        Zimbabue  dólar zimbabuense   ZWL\n",
       "\n",
       "[243 rows x 4 columns]"
      ]
     },
     "execution_count": 4,
     "metadata": {},
     "output_type": "execute_result"
    }
   ],
   "source": [
    "load_data()"
   ]
  },
  {
   "cell_type": "code",
   "execution_count": null,
   "metadata": {},
   "outputs": [],
   "source": []
  }
 ],
 "metadata": {
  "kernelspec": {
   "display_name": "ironhack",
   "language": "python",
   "name": "ironhack"
  },
  "language_info": {
   "codemirror_mode": {
    "name": "ipython",
    "version": 3
   },
   "file_extension": ".py",
   "mimetype": "text/x-python",
   "name": "python",
   "nbconvert_exporter": "python",
   "pygments_lexer": "ipython3",
   "version": "3.8.5"
  }
 },
 "nbformat": 4,
 "nbformat_minor": 5
}
