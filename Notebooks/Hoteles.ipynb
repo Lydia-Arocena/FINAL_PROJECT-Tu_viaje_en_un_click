{
 "cells": [
  {
   "cell_type": "code",
   "execution_count": 35,
   "id": "f378174c",
   "metadata": {},
   "outputs": [],
   "source": [
    "from selenium import webdriver\n",
    "from selenium.webdriver.chrome.options import Options\n",
    "import time\n",
    "import pandas as pd\n",
    "from selenium.webdriver.support.ui import Select\n",
    "from webdriver_manager.chrome import ChromeDriverManager\n",
    "from selenium.webdriver.common.keys import Keys\n",
    "\n",
    "import warnings\n",
    "warnings.filterwarnings(\"ignore\")"
   ]
  },
  {
   "cell_type": "markdown",
   "id": "8fb05498",
   "metadata": {},
   "source": [
    "### HOTELES"
   ]
  },
  {
   "cell_type": "code",
   "execution_count": 36,
   "id": "1b21b046",
   "metadata": {},
   "outputs": [],
   "source": [
    "opciones=Options()\n",
    "\n",
    "opciones.add_experimental_option('excludeSwitches', ['enable-automation'])\n",
    "opciones.add_experimental_option('useAutomationExtension', False)\n",
    "opciones.headless=False    \n",
    "opciones.add_argument('--start-maximized')        \n",
    "opciones.add_argument('user-data-dir=selenium')    \n",
    "opciones.add_argument('--incognito')         "
   ]
  },
  {
   "cell_type": "code",
   "execution_count": 39,
   "id": "bdadc27e",
   "metadata": {},
   "outputs": [
    {
     "ename": "ElementClickInterceptedException",
     "evalue": "Message: element click intercepted: Element <button data-sb-id=\"main\" type=\"submit\" class=\"sb-searchbox__button \" data-et-click=\"    customGoal:bLdLOLOLOCcPOKZRSdWSaLMMSPSYeRT:2 customGoal:INLGHUDSJNQQdKBUPfECIAEcOHT:4      \">...</button> is not clickable at point (126, 507). Other element would receive the click: <span aria-hidden=\"true\">...</span>\n  (Session info: chrome=96.0.4664.45)\nStacktrace:\nBacktrace:\n\tOrdinal0 [0x00A36903+2517251]\n\tOrdinal0 [0x009CF8E1+2095329]\n\tOrdinal0 [0x008D2848+1058888]\n\tOrdinal0 [0x00903509+1258761]\n\tOrdinal0 [0x00901868+1251432]\n\tOrdinal0 [0x008FF65D+1242717]\n\tOrdinal0 [0x008FE4A8+1238184]\n\tOrdinal0 [0x008F4037+1196087]\n\tOrdinal0 [0x009164D3+1336531]\n\tOrdinal0 [0x008F3A36+1194550]\n\tOrdinal0 [0x009165BA+1336762]\n\tOrdinal0 [0x00925BBF+1399743]\n\tOrdinal0 [0x0091639B+1336219]\n\tOrdinal0 [0x008F27A7+1189799]\n\tOrdinal0 [0x008F3609+1193481]\n\tGetHandleVerifier [0x00BC5904+1577972]\n\tGetHandleVerifier [0x00C70B97+2279047]\n\tGetHandleVerifier [0x00AC6D09+534521]\n\tGetHandleVerifier [0x00AC5DB9+530601]\n\tOrdinal0 [0x009D4FF9+2117625]\n\tOrdinal0 [0x009D98A8+2136232]\n\tOrdinal0 [0x009D99E2+2136546]\n\tOrdinal0 [0x009E3541+2176321]\n\tBaseThreadInitThunk [0x75C8FA29+25]\n\tRtlGetAppContainerNamedObjectPath [0x77CF7A9E+286]\n\tRtlGetAppContainerNamedObjectPath [0x77CF7A6E+238]\n",
     "output_type": "error",
     "traceback": [
      "\u001b[0;31m---------------------------------------------------------------------------\u001b[0m",
      "\u001b[0;31mElementClickInterceptedException\u001b[0m          Traceback (most recent call last)",
      "\u001b[0;32m<ipython-input-39-d92d704b1dd2>\u001b[0m in \u001b[0;36m<module>\u001b[0;34m\u001b[0m\n\u001b[1;32m      8\u001b[0m \u001b[0mdriver\u001b[0m\u001b[0;34m.\u001b[0m\u001b[0mfind_element_by_css_selector\u001b[0m\u001b[0;34m(\u001b[0m\u001b[0;34m\"#frm > div.xp__fieldset.js--sb-fieldset.accommodation > div.xp__button > div.sb-searchbox-submit-col.-submit-button > button\"\u001b[0m\u001b[0;34m)\u001b[0m\u001b[0;34m.\u001b[0m\u001b[0mclick\u001b[0m\u001b[0;34m(\u001b[0m\u001b[0;34m)\u001b[0m\u001b[0;34m\u001b[0m\u001b[0;34m\u001b[0m\u001b[0m\n\u001b[1;32m      9\u001b[0m \u001b[0;31m#driver.find_element_by_css_selector(\"#frm > div:nth-child(9) > div > div.xp-calendar > div > div > div.bui-calendar__content > div:nth-child(1) > table > tbody > tr:nth-child(5) > td:nth-child(4) > span > span\").click()\u001b[0m\u001b[0;34m\u001b[0m\u001b[0;34m\u001b[0m\u001b[0;34m\u001b[0m\u001b[0m\n\u001b[0;32m---> 10\u001b[0;31m \u001b[0mdriver\u001b[0m\u001b[0;34m.\u001b[0m\u001b[0mfind_element_by_css_selector\u001b[0m\u001b[0;34m(\u001b[0m\u001b[0;34m\"#frm > div.sb-searchbox__row.u-clearfix.-submit.sb-searchbox__footer.-last > div.sb-searchbox-submit-col.-submit-button > button\"\u001b[0m\u001b[0;34m)\u001b[0m\u001b[0;34m.\u001b[0m\u001b[0mclick\u001b[0m\u001b[0;34m(\u001b[0m\u001b[0;34m)\u001b[0m\u001b[0;34m\u001b[0m\u001b[0;34m\u001b[0m\u001b[0m\n\u001b[0m\u001b[1;32m     11\u001b[0m \u001b[0mdriver\u001b[0m\u001b[0;34m.\u001b[0m\u001b[0mfind_element_by_css_selector\u001b[0m\u001b[0;34m(\u001b[0m\u001b[0;34m\"#frm > div:nth-child(9) > div > div.sb-dates__grid.u-clearfix > div.sb-dates__col.--checkin-field.xp__date-time > div > div > div > div.sb-date-field__display\"\u001b[0m\u001b[0;34m)\u001b[0m\u001b[0;34m.\u001b[0m\u001b[0msend_keys\u001b[0m\u001b[0;34m(\u001b[0m\u001b[0;34m\"16 de diciembre de 2021\"\u001b[0m\u001b[0;34m)\u001b[0m\u001b[0;34m\u001b[0m\u001b[0;34m\u001b[0m\u001b[0m\n",
      "\u001b[0;32m~/anaconda3/envs/ironhack/lib/python3.8/site-packages/selenium/webdriver/remote/webelement.py\u001b[0m in \u001b[0;36mclick\u001b[0;34m(self)\u001b[0m\n\u001b[1;32m     78\u001b[0m     \u001b[0;32mdef\u001b[0m \u001b[0mclick\u001b[0m\u001b[0;34m(\u001b[0m\u001b[0mself\u001b[0m\u001b[0;34m)\u001b[0m \u001b[0;34m->\u001b[0m \u001b[0;32mNone\u001b[0m\u001b[0;34m:\u001b[0m\u001b[0;34m\u001b[0m\u001b[0;34m\u001b[0m\u001b[0m\n\u001b[1;32m     79\u001b[0m         \u001b[0;34m\"\"\"Clicks the element.\"\"\"\u001b[0m\u001b[0;34m\u001b[0m\u001b[0;34m\u001b[0m\u001b[0m\n\u001b[0;32m---> 80\u001b[0;31m         \u001b[0mself\u001b[0m\u001b[0;34m.\u001b[0m\u001b[0m_execute\u001b[0m\u001b[0;34m(\u001b[0m\u001b[0mCommand\u001b[0m\u001b[0;34m.\u001b[0m\u001b[0mCLICK_ELEMENT\u001b[0m\u001b[0;34m)\u001b[0m\u001b[0;34m\u001b[0m\u001b[0;34m\u001b[0m\u001b[0m\n\u001b[0m\u001b[1;32m     81\u001b[0m \u001b[0;34m\u001b[0m\u001b[0m\n\u001b[1;32m     82\u001b[0m     \u001b[0;32mdef\u001b[0m \u001b[0msubmit\u001b[0m\u001b[0;34m(\u001b[0m\u001b[0mself\u001b[0m\u001b[0;34m)\u001b[0m\u001b[0;34m:\u001b[0m\u001b[0;34m\u001b[0m\u001b[0;34m\u001b[0m\u001b[0m\n",
      "\u001b[0;32m~/anaconda3/envs/ironhack/lib/python3.8/site-packages/selenium/webdriver/remote/webelement.py\u001b[0m in \u001b[0;36m_execute\u001b[0;34m(self, command, params)\u001b[0m\n\u001b[1;32m    691\u001b[0m             \u001b[0mparams\u001b[0m \u001b[0;34m=\u001b[0m \u001b[0;34m{\u001b[0m\u001b[0;34m}\u001b[0m\u001b[0;34m\u001b[0m\u001b[0;34m\u001b[0m\u001b[0m\n\u001b[1;32m    692\u001b[0m         \u001b[0mparams\u001b[0m\u001b[0;34m[\u001b[0m\u001b[0;34m'id'\u001b[0m\u001b[0;34m]\u001b[0m \u001b[0;34m=\u001b[0m \u001b[0mself\u001b[0m\u001b[0;34m.\u001b[0m\u001b[0m_id\u001b[0m\u001b[0;34m\u001b[0m\u001b[0;34m\u001b[0m\u001b[0m\n\u001b[0;32m--> 693\u001b[0;31m         \u001b[0;32mreturn\u001b[0m \u001b[0mself\u001b[0m\u001b[0;34m.\u001b[0m\u001b[0m_parent\u001b[0m\u001b[0;34m.\u001b[0m\u001b[0mexecute\u001b[0m\u001b[0;34m(\u001b[0m\u001b[0mcommand\u001b[0m\u001b[0;34m,\u001b[0m \u001b[0mparams\u001b[0m\u001b[0;34m)\u001b[0m\u001b[0;34m\u001b[0m\u001b[0;34m\u001b[0m\u001b[0m\n\u001b[0m\u001b[1;32m    694\u001b[0m \u001b[0;34m\u001b[0m\u001b[0m\n\u001b[1;32m    695\u001b[0m     \u001b[0;32mdef\u001b[0m \u001b[0mfind_element\u001b[0m\u001b[0;34m(\u001b[0m\u001b[0mself\u001b[0m\u001b[0;34m,\u001b[0m \u001b[0mby\u001b[0m\u001b[0;34m=\u001b[0m\u001b[0mBy\u001b[0m\u001b[0;34m.\u001b[0m\u001b[0mID\u001b[0m\u001b[0;34m,\u001b[0m \u001b[0mvalue\u001b[0m\u001b[0;34m=\u001b[0m\u001b[0;32mNone\u001b[0m\u001b[0;34m)\u001b[0m\u001b[0;34m:\u001b[0m\u001b[0;34m\u001b[0m\u001b[0;34m\u001b[0m\u001b[0m\n",
      "\u001b[0;32m~/anaconda3/envs/ironhack/lib/python3.8/site-packages/selenium/webdriver/remote/webdriver.py\u001b[0m in \u001b[0;36mexecute\u001b[0;34m(self, driver_command, params)\u001b[0m\n\u001b[1;32m    416\u001b[0m         \u001b[0mresponse\u001b[0m \u001b[0;34m=\u001b[0m \u001b[0mself\u001b[0m\u001b[0;34m.\u001b[0m\u001b[0mcommand_executor\u001b[0m\u001b[0;34m.\u001b[0m\u001b[0mexecute\u001b[0m\u001b[0;34m(\u001b[0m\u001b[0mdriver_command\u001b[0m\u001b[0;34m,\u001b[0m \u001b[0mparams\u001b[0m\u001b[0;34m)\u001b[0m\u001b[0;34m\u001b[0m\u001b[0;34m\u001b[0m\u001b[0m\n\u001b[1;32m    417\u001b[0m         \u001b[0;32mif\u001b[0m \u001b[0mresponse\u001b[0m\u001b[0;34m:\u001b[0m\u001b[0;34m\u001b[0m\u001b[0;34m\u001b[0m\u001b[0m\n\u001b[0;32m--> 418\u001b[0;31m             \u001b[0mself\u001b[0m\u001b[0;34m.\u001b[0m\u001b[0merror_handler\u001b[0m\u001b[0;34m.\u001b[0m\u001b[0mcheck_response\u001b[0m\u001b[0;34m(\u001b[0m\u001b[0mresponse\u001b[0m\u001b[0;34m)\u001b[0m\u001b[0;34m\u001b[0m\u001b[0;34m\u001b[0m\u001b[0m\n\u001b[0m\u001b[1;32m    419\u001b[0m             response['value'] = self._unwrap_value(\n\u001b[1;32m    420\u001b[0m                 response.get('value', None))\n",
      "\u001b[0;32m~/anaconda3/envs/ironhack/lib/python3.8/site-packages/selenium/webdriver/remote/errorhandler.py\u001b[0m in \u001b[0;36mcheck_response\u001b[0;34m(self, response)\u001b[0m\n\u001b[1;32m    241\u001b[0m                 \u001b[0malert_text\u001b[0m \u001b[0;34m=\u001b[0m \u001b[0mvalue\u001b[0m\u001b[0;34m[\u001b[0m\u001b[0;34m'alert'\u001b[0m\u001b[0;34m]\u001b[0m\u001b[0;34m.\u001b[0m\u001b[0mget\u001b[0m\u001b[0;34m(\u001b[0m\u001b[0;34m'text'\u001b[0m\u001b[0;34m)\u001b[0m\u001b[0;34m\u001b[0m\u001b[0;34m\u001b[0m\u001b[0m\n\u001b[1;32m    242\u001b[0m             \u001b[0;32mraise\u001b[0m \u001b[0mexception_class\u001b[0m\u001b[0;34m(\u001b[0m\u001b[0mmessage\u001b[0m\u001b[0;34m,\u001b[0m \u001b[0mscreen\u001b[0m\u001b[0;34m,\u001b[0m \u001b[0mstacktrace\u001b[0m\u001b[0;34m,\u001b[0m \u001b[0malert_text\u001b[0m\u001b[0;34m)\u001b[0m  \u001b[0;31m# type: ignore[call-arg]  # mypy is not smart enough here\u001b[0m\u001b[0;34m\u001b[0m\u001b[0;34m\u001b[0m\u001b[0m\n\u001b[0;32m--> 243\u001b[0;31m         \u001b[0;32mraise\u001b[0m \u001b[0mexception_class\u001b[0m\u001b[0;34m(\u001b[0m\u001b[0mmessage\u001b[0m\u001b[0;34m,\u001b[0m \u001b[0mscreen\u001b[0m\u001b[0;34m,\u001b[0m \u001b[0mstacktrace\u001b[0m\u001b[0;34m)\u001b[0m\u001b[0;34m\u001b[0m\u001b[0;34m\u001b[0m\u001b[0m\n\u001b[0m\u001b[1;32m    244\u001b[0m \u001b[0;34m\u001b[0m\u001b[0m\n\u001b[1;32m    245\u001b[0m     \u001b[0;32mdef\u001b[0m \u001b[0m_value_or_default\u001b[0m\u001b[0;34m(\u001b[0m\u001b[0mself\u001b[0m\u001b[0;34m,\u001b[0m \u001b[0mobj\u001b[0m\u001b[0;34m:\u001b[0m \u001b[0mMapping\u001b[0m\u001b[0;34m[\u001b[0m\u001b[0m_KT\u001b[0m\u001b[0;34m,\u001b[0m \u001b[0m_VT\u001b[0m\u001b[0;34m]\u001b[0m\u001b[0;34m,\u001b[0m \u001b[0mkey\u001b[0m\u001b[0;34m:\u001b[0m \u001b[0m_KT\u001b[0m\u001b[0;34m,\u001b[0m \u001b[0mdefault\u001b[0m\u001b[0;34m:\u001b[0m \u001b[0m_VT\u001b[0m\u001b[0;34m)\u001b[0m \u001b[0;34m->\u001b[0m \u001b[0m_VT\u001b[0m\u001b[0;34m:\u001b[0m\u001b[0;34m\u001b[0m\u001b[0;34m\u001b[0m\u001b[0m\n",
      "\u001b[0;31mElementClickInterceptedException\u001b[0m: Message: element click intercepted: Element <button data-sb-id=\"main\" type=\"submit\" class=\"sb-searchbox__button \" data-et-click=\"    customGoal:bLdLOLOLOCcPOKZRSdWSaLMMSPSYeRT:2 customGoal:INLGHUDSJNQQdKBUPfECIAEcOHT:4      \">...</button> is not clickable at point (126, 507). Other element would receive the click: <span aria-hidden=\"true\">...</span>\n  (Session info: chrome=96.0.4664.45)\nStacktrace:\nBacktrace:\n\tOrdinal0 [0x00A36903+2517251]\n\tOrdinal0 [0x009CF8E1+2095329]\n\tOrdinal0 [0x008D2848+1058888]\n\tOrdinal0 [0x00903509+1258761]\n\tOrdinal0 [0x00901868+1251432]\n\tOrdinal0 [0x008FF65D+1242717]\n\tOrdinal0 [0x008FE4A8+1238184]\n\tOrdinal0 [0x008F4037+1196087]\n\tOrdinal0 [0x009164D3+1336531]\n\tOrdinal0 [0x008F3A36+1194550]\n\tOrdinal0 [0x009165BA+1336762]\n\tOrdinal0 [0x00925BBF+1399743]\n\tOrdinal0 [0x0091639B+1336219]\n\tOrdinal0 [0x008F27A7+1189799]\n\tOrdinal0 [0x008F3609+1193481]\n\tGetHandleVerifier [0x00BC5904+1577972]\n\tGetHandleVerifier [0x00C70B97+2279047]\n\tGetHandleVerifier [0x00AC6D09+534521]\n\tGetHandleVerifier [0x00AC5DB9+530601]\n\tOrdinal0 [0x009D4FF9+2117625]\n\tOrdinal0 [0x009D98A8+2136232]\n\tOrdinal0 [0x009D99E2+2136546]\n\tOrdinal0 [0x009E3541+2176321]\n\tBaseThreadInitThunk [0x75C8FA29+25]\n\tRtlGetAppContainerNamedObjectPath [0x77CF7A9E+286]\n\tRtlGetAppContainerNamedObjectPath [0x77CF7A6E+238]\n"
     ]
    }
   ],
   "source": [
    "driver = webdriver.Chrome(\"./chromedriver.exe\")\n",
    "url= \"https://www.booking.com/index.es.html?label=gen173nr-1DCAEoggI46AdIM1gEaEaIAQGYAQq4ARfIAQzYAQPoAQGIAgGoAgO4Ar2bzI0GwAIB0gIkMTc1ODI1OWMtNmQxNi00MzU1LTk3MzUtNzI5YThhZjZhZWI12AIE4AIB;sid=2d71bfd30448fa2c53330b733f1d6768;keep_landing=1&sb_price_type=total&\"\n",
    "driver.get(url)\n",
    "driver.implicitly_wait(5)\n",
    "driver.find_element_by_css_selector(\"#onetrust-accept-btn-handler\").click()\n",
    "driver.find_element_by_css_selector(\"#ss\").send_keys(\"Sevilla\")\n",
    "driver.implicitly_wait(2)\n",
    "driver.find_element_by_css_selector(\"#frm > div.xp__fieldset.js--sb-fieldset.accommodation > div.xp__button > div.sb-searchbox-submit-col.-submit-button > button\").click()\n",
    "#driver.find_element_by_css_selector(\"#frm > div:nth-child(9) > div > div.xp-calendar > div > div > div.bui-calendar__content > div:nth-child(1) > table > tbody > tr:nth-child(5) > td:nth-child(4) > span > span\").click()\n",
    "driver.find_element_by_css_selector(\"#frm > div.sb-searchbox__row.u-clearfix.-submit.sb-searchbox__footer.-last > div.sb-searchbox-submit-col.-submit-button > button\").click()\n",
    "driver.find_element_by_css_selector(\"#frm > div:nth-child(9) > div > div.sb-dates__grid.u-clearfix > div.sb-dates__col.--checkin-field.xp__date-time > div > div > div > div.sb-date-field__display\").send_keys(\"16 de diciembre de 2021\")\n"
   ]
  },
  {
   "cell_type": "code",
   "execution_count": null,
   "id": "c70d74d0",
   "metadata": {},
   "outputs": [],
   "source": [
    "#search_results_table > div:nth-child(1) > div > div > div > div._814193827 > div:nth-child(3) > div._5d6c618c8 > div._7192d3184 > div > div:nth-child(1) > div > div._29c344764._f57705597 > div > div:nth-child(1) > div > h3 > a > div.fde444d7ef._c445487e2\n",
    "#search_results_table > div:nth-child(1) > div > div > div > div._814193827 > div:nth-child(5) > div._5d6c618c8 > div._7192d3184 > div > div:nth-child(1) > div > div._29c344764._f57705597 > div > div:nth-child(1) > div > h3 > a > div.fde444d7ef._c445487e2"
   ]
  },
  {
   "cell_type": "code",
   "execution_count": null,
   "id": "a48999fd",
   "metadata": {},
   "outputs": [],
   "source": [
    "#frm > div:nth-child(9) > div > div.xp-calendar > div > div > div.bui-calendar__content > div:nth-child(1) > table > tbody > tr:nth-child(3) > td:nth-child(2) > span > span\n",
    "#frm > div:nth-child(9) > div > div.xp-calendar > div > div > div.bui-calendar__content > div:nth-child(1) > table > tbody > tr:nth-child(5) > td:nth-child(4) > span > span"
   ]
  },
  {
   "cell_type": "code",
   "execution_count": null,
   "id": "8a62f9dd",
   "metadata": {},
   "outputs": [],
   "source": [
    "#frm > div:nth-child(9) > div > div.xp-calendar > div > div > div.bui-calendar__content > div:nth-child(1) > table > tbody > tr:nth-child(2) > td.bui-calendar__date.bui-calendar__date--today > span\n",
    "/html/body/div[3]/div/div[6]/div[1]/div[2]/div[1]/div[2]/form/div[3]/div/div[2]/div/div/div[3]/div[1]/table/tbody/tr[2]/td[5]/span\n",
    "<span aria-label=\"10 diciembre 2021\" role=\"checkbox\" aria-checked=\"false\">\n",
    "            <span aria-hidden=\"true\">10</span>\n",
    "          </span>"
   ]
  }
 ],
 "metadata": {
  "kernelspec": {
   "display_name": "ironhack",
   "language": "python",
   "name": "ironhack"
  },
  "language_info": {
   "codemirror_mode": {
    "name": "ipython",
    "version": 3
   },
   "file_extension": ".py",
   "mimetype": "text/x-python",
   "name": "python",
   "nbconvert_exporter": "python",
   "pygments_lexer": "ipython3",
   "version": "3.8.5"
  }
 },
 "nbformat": 4,
 "nbformat_minor": 5
}
