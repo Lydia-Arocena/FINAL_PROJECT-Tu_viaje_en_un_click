{
 "cells": [
  {
   "cell_type": "code",
   "execution_count": 1,
   "id": "f378174c",
   "metadata": {},
   "outputs": [],
   "source": [
    "import os\n",
    "import sys\n",
    "sys.path.append('../')\n",
    "import src.geo_functions as gf\n",
    "import src.hotels_functions as hf\n",
    "\n",
    "from dotenv import load_dotenv"
   ]
  },
  {
   "cell_type": "code",
   "execution_count": 2,
   "metadata": {},
   "outputs": [
    {
     "data": {
      "text/plain": [
       "True"
      ]
     },
     "execution_count": 2,
     "metadata": {},
     "output_type": "execute_result"
    }
   ],
   "source": [
    "load_dotenv()"
   ]
  },
  {
   "cell_type": "markdown",
   "id": "8fb05498",
   "metadata": {},
   "source": [
    "### HOTELS:"
   ]
  },
  {
   "cell_type": "code",
   "execution_count": 30,
   "metadata": {},
   "outputs": [
    {
     "name": "stdout",
     "output_type": "stream",
     "text": [
      "{'header': 'C. Rimador, 8, 34460 Osorno, Palencia, Spain', 'query': {'destination': {'id': '451697', 'value': 'C. Rimador, 8, 34460 Osorno, Palencia, Spain', 'resolvedLocation': 'GEO_LOCATION:C. Rimador, 8, 34460 Osorno, Palencia, Spain|42.41072082519531|-4.361011981964111:GEOCODE:UNKNOWN'}}, 'searchResults': {'totalCount': 6, 'results': []}, 'sortResults': {'options': [{'label': 'Featured', 'itemMeta': 'popular', 'choices': [{'label': 'Featured', 'value': 'BEST_SELLER', 'selected': False}], 'enhancedChoices': []}, {'label': 'Star rating', 'itemMeta': 'star', 'choices': [{'label': 'Stars (high to low)', 'value': 'STAR_RATING_HIGHEST_FIRST', 'selected': False}, {'label': 'Stars (low to high)', 'value': 'STAR_RATING_LOWEST_FIRST', 'selected': False}], 'enhancedChoices': []}, {'label': 'Distance', 'itemMeta': 'distance', 'choices': [{'label': 'Distance', 'value': 'DISTANCE_FROM_LANDMARK', 'selected': False}], 'enhancedChoices': [{'label': 'Landmarks', 'itemMeta': 'landmarks', 'choices': [{'label': 'Abia de las Torres', 'id': 10810460.0}, {'label': 'Arconada', 'id': 10811844.0}, {'label': 'Bárcena de Campos', 'id': 10810588.0}, {'label': 'Castrillo de Villavega', 'id': 10811754.0}, {'label': 'Espinosa de Villagonzalo', 'id': 10812145.0}, {'label': 'Itero de la Vega', 'id': 1908918.0}, {'label': 'Lantadilla', 'id': 10812304.0}, {'label': 'Melgar de Fernamental', 'id': 10811980.0}, {'label': 'Osornillo', 'id': 10811461.0}, {'label': 'Osorno', 'id': 448998.0}, {'label': 'Padilla de Abajo', 'id': 1909432.0}, {'label': 'Padilla de Arriba', 'id': 10810721.0}, {'label': 'Palacios de Riopisuerga', 'id': 10810349.0}, {'label': 'Requena de Campos', 'id': 10813101.0}, {'label': 'Rezmondo', 'id': 1909430.0}, {'label': 'San Cristóbal de Boedo', 'id': 10812894.0}, {'label': 'Santa Cruz de Boedo', 'id': 10812893.0}, {'label': 'Villaherreros', 'id': 1908909.0}, {'label': 'Villaprovedo', 'id': 10811141.0}, {'label': 'Villasarracino', 'id': 10812395.0}]}, {'label': 'Train stations', 'itemMeta': 'stations', 'choices': [{'label': 'Espinosa de Villagonzalo Station', 'id': 165453824.0}, {'label': 'Osorno Station', 'id': -1849909248.0}]}]}, {'label': 'Guest rating', 'itemMeta': 'rating', 'selectedChoiceLabel': 'Guest rating', 'choices': [{'label': 'Guest rating', 'value': 'GUEST_RATING', 'selected': True}], 'enhancedChoices': []}, {'label': 'Price', 'itemMeta': 'price', 'choices': [{'label': 'Price (high to low)', 'value': 'PRICE_HIGHEST_FIRST', 'selected': False}, {'label': 'Price (low to high)', 'value': 'PRICE', 'selected': False}], 'enhancedChoices': []}]}, 'filters': {'applied': True, 'name': {'disabled': True, 'item': {'value': ''}, 'autosuggest': {'additionalUrlParams': {'resolved-location': 'GEO_LOCATION:C. Rimador, 8, 34460 Osorno, Palencia, Spain|42.41072082519531|-4.361011981964111:GEOCODE:UNKNOWN', 'q-destination': 'C. Rimador, 8, 34460 Osorno, Palencia, Spain'}}}, 'starRating': {'applied': False, 'items': [{'value': 5, 'disabled': True}, {'value': 4, 'disabled': True}, {'value': 3, 'disabled': True}, {'value': 2, 'disabled': True}, {'value': 1, 'disabled': True}]}, 'guestRating': {'range': {'min': {'defaultValue': 0.0}, 'max': {'defaultValue': 5.0}}}, 'landmarks': {'selectedOrder': [], 'items': [{'label': 'Osorno', 'value': '448998', 'disabled': True}, {'label': 'Melgar de Fernamental', 'value': '10811980', 'disabled': True}, {'label': 'Villaherreros', 'value': '1908909', 'disabled': True}, {'label': 'Padilla de Abajo', 'value': '1909432', 'disabled': True}, {'label': 'Itero de la Vega', 'value': '1908918', 'disabled': True}, {'label': 'San Cristóbal de Boedo', 'value': '10812894', 'disabled': True}, {'label': 'Espinosa de Villagonzalo', 'value': '10812145', 'disabled': True}, {'label': 'Villasarracino', 'value': '10812395', 'disabled': True}, {'label': 'Rezmondo', 'value': '1909430', 'disabled': True}, {'label': 'Palacios de Riopisuerga', 'value': '10810349', 'disabled': True}, {'label': 'Requena de Campos', 'value': '10813101', 'disabled': True}, {'label': 'Santa Cruz de Boedo', 'value': '10812893', 'disabled': True}, {'label': 'Padilla de Arriba', 'value': '10810721', 'disabled': True}, {'label': 'Abia de las Torres', 'value': '10810460', 'disabled': True}, {'label': 'Arconada', 'value': '10811844', 'disabled': True}, {'label': 'Bárcena de Campos', 'value': '10810588', 'disabled': True}, {'label': 'Osornillo', 'value': '10811461', 'disabled': True}, {'label': 'Lantadilla', 'value': '10812304', 'disabled': True}, {'label': 'Villaprovedo', 'value': '10811141', 'disabled': True}, {'label': 'Castrillo de Villavega', 'value': '10811754', 'disabled': True}], 'distance': []}, 'accommodationType': {'applied': False, 'items': [{'label': 'Country houses', 'value': '24', 'disabled': True}, {'label': 'Hostels', 'value': '12', 'disabled': True}, {'label': 'Hotels', 'value': '1', 'disabled': True}, {'label': 'Vacation homes', 'value': '4', 'disabled': True}]}, 'facilities': {'applied': False, 'items': [{'label': '24-hour front desk', 'value': '2063', 'disabled': True}, {'label': 'Bar', 'value': '515', 'disabled': True}, {'label': 'Bathtub in room', 'value': '517', 'disabled': True}, {'label': 'Breakfast included', 'value': '2048', 'disabled': True}, {'label': 'Business facilities', 'value': '519', 'disabled': True}, {'label': 'Cribs available', 'value': '525', 'disabled': True}, {'label': 'Kitchen', 'value': '32', 'disabled': True}, {'label': 'Meeting Facilities', 'value': '1', 'disabled': True}, {'label': 'Non-smoking', 'value': '529', 'disabled': True}, {'label': 'Parking available', 'value': '16384', 'disabled': True}, {'label': 'Parking included', 'value': '134234112', 'disabled': True}, {'label': 'Pool', 'value': '128', 'disabled': True}, {'label': 'Restaurant', 'value': '256', 'disabled': True}, {'label': 'WiFi included', 'value': '527', 'disabled': True}]}, 'accessibility': {'applied': False, 'items': [{'label': 'Accessible parking', 'value': '524288', 'disabled': True}, {'label': 'Accessible path of travel', 'value': '65536', 'disabled': True}, {'label': 'In-room accessibility', 'value': '1048576', 'disabled': True}, {'label': 'Wheelchair accessible rooms', 'value': '541', 'disabled': True}]}, 'themesAndTypes': {'applied': False, 'items': [{'label': 'Business', 'value': '14', 'disabled': True}, {'label': 'Family-friendly', 'value': '25', 'disabled': True}]}, 'price': {'label': 'Nightly Price', 'range': {'min': {'defaultValue': 0, 'value': 10}, 'max': {'defaultValue': 500, 'value': 150}, 'increments': 5}, 'multiplier': 1, 'applied': True}, 'paymentPreference': {'items': [{'label': 'Free cancellation', 'value': 'fc', 'disabled': True}, {'label': 'Pay with Hotels.com gift card', 'value': 'gc', 'disabled': True}]}, 'welcomeRewards': {'label': 'Hotels.com® Rewards', 'items': [{'label': 'Collect stamps', 'value': 'collect', 'disabled': True}, {'label': 'Redeem reward* nights', 'value': 'redeem', 'disabled': True}]}}, 'pointOfSale': {'currency': {'code': 'EUR', 'symbol': '€', 'separators': '.,', 'format': '{0}€'}}}\n",
      "{'Nombre': ['No info', 'No info', 'No info', 'No info', 'No info', 'No info'], 'Estrellas': [0, 0, 0, 0, 0, 0], 'Valoración': ['No info', 'No info', 'No info', 'No info', 'No info', 'No info'], 'Precio(€)': [0, 0, 0, 0, 0, 0], 'Latitud': [0, 0, 0, 0, 0, 0], 'Longitud': [0, 0, 0, 0, 0, 0]}\n"
     ]
    },
    {
     "ename": "AttributeError",
     "evalue": "'int' object has no attribute 'split'",
     "output_type": "error",
     "traceback": [
      "\u001b[0;31m---------------------------------------------------------------------------\u001b[0m",
      "\u001b[0;31mAttributeError\u001b[0m                            Traceback (most recent call last)",
      "\u001b[0;32m<ipython-input-30-bf01136e9fed>\u001b[0m in \u001b[0;36m<module>\u001b[0;34m\u001b[0m\n\u001b[0;32m----> 1\u001b[0;31m \u001b[0mhoteles\u001b[0m\u001b[0;34m=\u001b[0m\u001b[0mhf\u001b[0m\u001b[0;34m.\u001b[0m\u001b[0mcleaning_hotel\u001b[0m\u001b[0;34m(\u001b[0m\u001b[0;34m\"Osorno\"\u001b[0m\u001b[0;34m,\u001b[0m\u001b[0;34m\"2022-01-10\"\u001b[0m\u001b[0;34m)\u001b[0m\u001b[0;34m\u001b[0m\u001b[0;34m\u001b[0m\u001b[0m\n\u001b[0m",
      "\u001b[0;32m/mnt/c/Users/lydia/OneDrive/Desktop/IRONHACK/PROYECTOS/Tu_viaje_en_un_click/src/hotels_functions.py\u001b[0m in \u001b[0;36mcleaning_hotel\u001b[0;34m(city, date_str)\u001b[0m\n\u001b[1;32m     58\u001b[0m     \u001b[0mprint\u001b[0m\u001b[0;34m(\u001b[0m\u001b[0mdicc\u001b[0m\u001b[0;34m)\u001b[0m\u001b[0;34m\u001b[0m\u001b[0;34m\u001b[0m\u001b[0m\n\u001b[1;32m     59\u001b[0m     \u001b[0mhotels\u001b[0m\u001b[0;34m=\u001b[0m\u001b[0mpd\u001b[0m\u001b[0;34m.\u001b[0m\u001b[0mDataFrame\u001b[0m\u001b[0;34m(\u001b[0m\u001b[0mdicc\u001b[0m\u001b[0;34m)\u001b[0m\u001b[0;34m\u001b[0m\u001b[0;34m\u001b[0m\u001b[0m\n\u001b[0;32m---> 60\u001b[0;31m     \u001b[0mhotels\u001b[0m\u001b[0;34m[\u001b[0m\u001b[0;34m\"Precio(€)\"\u001b[0m\u001b[0;34m]\u001b[0m\u001b[0;34m=\u001b[0m\u001b[0mhotels\u001b[0m\u001b[0;34m[\u001b[0m\u001b[0;34m\"Precio(€)\"\u001b[0m\u001b[0;34m]\u001b[0m\u001b[0;34m.\u001b[0m\u001b[0mapply\u001b[0m\u001b[0;34m(\u001b[0m\u001b[0;32mlambda\u001b[0m \u001b[0mx\u001b[0m\u001b[0;34m:\u001b[0m \u001b[0mx\u001b[0m\u001b[0;34m.\u001b[0m\u001b[0msplit\u001b[0m\u001b[0;34m(\u001b[0m\u001b[0;34m\"€\"\u001b[0m\u001b[0;34m)\u001b[0m\u001b[0;34m[\u001b[0m\u001b[0;36m0\u001b[0m\u001b[0;34m]\u001b[0m\u001b[0;34m)\u001b[0m\u001b[0;34m\u001b[0m\u001b[0;34m\u001b[0m\u001b[0m\n\u001b[0m\u001b[1;32m     61\u001b[0m     \u001b[0mhotels\u001b[0m\u001b[0;34m[\u001b[0m\u001b[0;34m\"Precio(€)\"\u001b[0m\u001b[0;34m]\u001b[0m \u001b[0;34m=\u001b[0m \u001b[0mhotels\u001b[0m\u001b[0;34m[\u001b[0m\u001b[0;34m\"Precio(€)\"\u001b[0m\u001b[0;34m]\u001b[0m\u001b[0;34m.\u001b[0m\u001b[0mastype\u001b[0m\u001b[0;34m(\u001b[0m\u001b[0mint\u001b[0m\u001b[0;34m)\u001b[0m\u001b[0;34m\u001b[0m\u001b[0;34m\u001b[0m\u001b[0m\n\u001b[1;32m     62\u001b[0m     \u001b[0mhotels\u001b[0m\u001b[0;34m[\u001b[0m\u001b[0;34m\"Estrellas\"\u001b[0m\u001b[0;34m]\u001b[0m \u001b[0;34m=\u001b[0m \u001b[0mhotels\u001b[0m\u001b[0;34m[\u001b[0m\u001b[0;34m\"Estrellas\"\u001b[0m\u001b[0;34m]\u001b[0m\u001b[0;34m.\u001b[0m\u001b[0mastype\u001b[0m\u001b[0;34m(\u001b[0m\u001b[0mint\u001b[0m\u001b[0;34m)\u001b[0m\u001b[0;34m\u001b[0m\u001b[0;34m\u001b[0m\u001b[0m\n",
      "\u001b[0;32m~/anaconda3/envs/ironhack/lib/python3.8/site-packages/pandas/core/series.py\u001b[0m in \u001b[0;36mapply\u001b[0;34m(self, func, convert_dtype, args, **kwargs)\u001b[0m\n\u001b[1;32m   4355\u001b[0m         \u001b[0mdtype\u001b[0m\u001b[0;34m:\u001b[0m \u001b[0mfloat64\u001b[0m\u001b[0;34m\u001b[0m\u001b[0;34m\u001b[0m\u001b[0m\n\u001b[1;32m   4356\u001b[0m         \"\"\"\n\u001b[0;32m-> 4357\u001b[0;31m         \u001b[0;32mreturn\u001b[0m \u001b[0mSeriesApply\u001b[0m\u001b[0;34m(\u001b[0m\u001b[0mself\u001b[0m\u001b[0;34m,\u001b[0m \u001b[0mfunc\u001b[0m\u001b[0;34m,\u001b[0m \u001b[0mconvert_dtype\u001b[0m\u001b[0;34m,\u001b[0m \u001b[0margs\u001b[0m\u001b[0;34m,\u001b[0m \u001b[0mkwargs\u001b[0m\u001b[0;34m)\u001b[0m\u001b[0;34m.\u001b[0m\u001b[0mapply\u001b[0m\u001b[0;34m(\u001b[0m\u001b[0;34m)\u001b[0m\u001b[0;34m\u001b[0m\u001b[0;34m\u001b[0m\u001b[0m\n\u001b[0m\u001b[1;32m   4358\u001b[0m \u001b[0;34m\u001b[0m\u001b[0m\n\u001b[1;32m   4359\u001b[0m     def _reduce(\n",
      "\u001b[0;32m~/anaconda3/envs/ironhack/lib/python3.8/site-packages/pandas/core/apply.py\u001b[0m in \u001b[0;36mapply\u001b[0;34m(self)\u001b[0m\n\u001b[1;32m   1041\u001b[0m             \u001b[0;32mreturn\u001b[0m \u001b[0mself\u001b[0m\u001b[0;34m.\u001b[0m\u001b[0mapply_str\u001b[0m\u001b[0;34m(\u001b[0m\u001b[0;34m)\u001b[0m\u001b[0;34m\u001b[0m\u001b[0;34m\u001b[0m\u001b[0m\n\u001b[1;32m   1042\u001b[0m \u001b[0;34m\u001b[0m\u001b[0m\n\u001b[0;32m-> 1043\u001b[0;31m         \u001b[0;32mreturn\u001b[0m \u001b[0mself\u001b[0m\u001b[0;34m.\u001b[0m\u001b[0mapply_standard\u001b[0m\u001b[0;34m(\u001b[0m\u001b[0;34m)\u001b[0m\u001b[0;34m\u001b[0m\u001b[0;34m\u001b[0m\u001b[0m\n\u001b[0m\u001b[1;32m   1044\u001b[0m \u001b[0;34m\u001b[0m\u001b[0m\n\u001b[1;32m   1045\u001b[0m     \u001b[0;32mdef\u001b[0m \u001b[0magg\u001b[0m\u001b[0;34m(\u001b[0m\u001b[0mself\u001b[0m\u001b[0;34m)\u001b[0m\u001b[0;34m:\u001b[0m\u001b[0;34m\u001b[0m\u001b[0;34m\u001b[0m\u001b[0m\n",
      "\u001b[0;32m~/anaconda3/envs/ironhack/lib/python3.8/site-packages/pandas/core/apply.py\u001b[0m in \u001b[0;36mapply_standard\u001b[0;34m(self)\u001b[0m\n\u001b[1;32m   1096\u001b[0m                 \u001b[0;31m# List[Union[Callable[..., Any], str]]]]]\"; expected\u001b[0m\u001b[0;34m\u001b[0m\u001b[0;34m\u001b[0m\u001b[0;34m\u001b[0m\u001b[0m\n\u001b[1;32m   1097\u001b[0m                 \u001b[0;31m# \"Callable[[Any], Any]\"\u001b[0m\u001b[0;34m\u001b[0m\u001b[0;34m\u001b[0m\u001b[0;34m\u001b[0m\u001b[0m\n\u001b[0;32m-> 1098\u001b[0;31m                 mapped = lib.map_infer(\n\u001b[0m\u001b[1;32m   1099\u001b[0m                     \u001b[0mvalues\u001b[0m\u001b[0;34m,\u001b[0m\u001b[0;34m\u001b[0m\u001b[0;34m\u001b[0m\u001b[0m\n\u001b[1;32m   1100\u001b[0m                     \u001b[0mf\u001b[0m\u001b[0;34m,\u001b[0m  \u001b[0;31m# type: ignore[arg-type]\u001b[0m\u001b[0;34m\u001b[0m\u001b[0;34m\u001b[0m\u001b[0m\n",
      "\u001b[0;32m~/anaconda3/envs/ironhack/lib/python3.8/site-packages/pandas/_libs/lib.pyx\u001b[0m in \u001b[0;36mpandas._libs.lib.map_infer\u001b[0;34m()\u001b[0m\n",
      "\u001b[0;32m/mnt/c/Users/lydia/OneDrive/Desktop/IRONHACK/PROYECTOS/Tu_viaje_en_un_click/src/hotels_functions.py\u001b[0m in \u001b[0;36m<lambda>\u001b[0;34m(x)\u001b[0m\n\u001b[1;32m     58\u001b[0m     \u001b[0mprint\u001b[0m\u001b[0;34m(\u001b[0m\u001b[0mdicc\u001b[0m\u001b[0;34m)\u001b[0m\u001b[0;34m\u001b[0m\u001b[0;34m\u001b[0m\u001b[0m\n\u001b[1;32m     59\u001b[0m     \u001b[0mhotels\u001b[0m\u001b[0;34m=\u001b[0m\u001b[0mpd\u001b[0m\u001b[0;34m.\u001b[0m\u001b[0mDataFrame\u001b[0m\u001b[0;34m(\u001b[0m\u001b[0mdicc\u001b[0m\u001b[0;34m)\u001b[0m\u001b[0;34m\u001b[0m\u001b[0;34m\u001b[0m\u001b[0m\n\u001b[0;32m---> 60\u001b[0;31m     \u001b[0mhotels\u001b[0m\u001b[0;34m[\u001b[0m\u001b[0;34m\"Precio(€)\"\u001b[0m\u001b[0;34m]\u001b[0m\u001b[0;34m=\u001b[0m\u001b[0mhotels\u001b[0m\u001b[0;34m[\u001b[0m\u001b[0;34m\"Precio(€)\"\u001b[0m\u001b[0;34m]\u001b[0m\u001b[0;34m.\u001b[0m\u001b[0mapply\u001b[0m\u001b[0;34m(\u001b[0m\u001b[0;32mlambda\u001b[0m \u001b[0mx\u001b[0m\u001b[0;34m:\u001b[0m \u001b[0mx\u001b[0m\u001b[0;34m.\u001b[0m\u001b[0msplit\u001b[0m\u001b[0;34m(\u001b[0m\u001b[0;34m\"€\"\u001b[0m\u001b[0;34m)\u001b[0m\u001b[0;34m[\u001b[0m\u001b[0;36m0\u001b[0m\u001b[0;34m]\u001b[0m\u001b[0;34m)\u001b[0m\u001b[0;34m\u001b[0m\u001b[0;34m\u001b[0m\u001b[0m\n\u001b[0m\u001b[1;32m     61\u001b[0m     \u001b[0mhotels\u001b[0m\u001b[0;34m[\u001b[0m\u001b[0;34m\"Precio(€)\"\u001b[0m\u001b[0;34m]\u001b[0m \u001b[0;34m=\u001b[0m \u001b[0mhotels\u001b[0m\u001b[0;34m[\u001b[0m\u001b[0;34m\"Precio(€)\"\u001b[0m\u001b[0;34m]\u001b[0m\u001b[0;34m.\u001b[0m\u001b[0mastype\u001b[0m\u001b[0;34m(\u001b[0m\u001b[0mint\u001b[0m\u001b[0;34m)\u001b[0m\u001b[0;34m\u001b[0m\u001b[0;34m\u001b[0m\u001b[0m\n\u001b[1;32m     62\u001b[0m     \u001b[0mhotels\u001b[0m\u001b[0;34m[\u001b[0m\u001b[0;34m\"Estrellas\"\u001b[0m\u001b[0;34m]\u001b[0m \u001b[0;34m=\u001b[0m \u001b[0mhotels\u001b[0m\u001b[0;34m[\u001b[0m\u001b[0;34m\"Estrellas\"\u001b[0m\u001b[0;34m]\u001b[0m\u001b[0;34m.\u001b[0m\u001b[0mastype\u001b[0m\u001b[0;34m(\u001b[0m\u001b[0mint\u001b[0m\u001b[0;34m)\u001b[0m\u001b[0;34m\u001b[0m\u001b[0;34m\u001b[0m\u001b[0m\n",
      "\u001b[0;31mAttributeError\u001b[0m: 'int' object has no attribute 'split'"
     ]
    }
   ],
   "source": [
    "hoteles=hf.cleaning_hotel(\"Osorno\",\"2022-01-10\")"
   ]
  },
  {
   "cell_type": "code",
   "execution_count": 31,
   "metadata": {},
   "outputs": [
    {
     "data": {
      "text/html": [
       "<div>\n",
       "<style scoped>\n",
       "    .dataframe tbody tr th:only-of-type {\n",
       "        vertical-align: middle;\n",
       "    }\n",
       "\n",
       "    .dataframe tbody tr th {\n",
       "        vertical-align: top;\n",
       "    }\n",
       "\n",
       "    .dataframe thead th {\n",
       "        text-align: right;\n",
       "    }\n",
       "</style>\n",
       "<table border=\"1\" class=\"dataframe\">\n",
       "  <thead>\n",
       "    <tr style=\"text-align: right;\">\n",
       "      <th></th>\n",
       "      <th>Nombre</th>\n",
       "      <th>Estrellas</th>\n",
       "      <th>Valoración</th>\n",
       "      <th>Precio(€)</th>\n",
       "      <th>Latitud</th>\n",
       "      <th>Longitud</th>\n",
       "    </tr>\n",
       "  </thead>\n",
       "  <tbody>\n",
       "    <tr>\n",
       "      <th>0</th>\n",
       "      <td>Pinzon Studios Alicante</td>\n",
       "      <td>3</td>\n",
       "      <td>5.0</td>\n",
       "      <td>85</td>\n",
       "      <td>38.344740</td>\n",
       "      <td>-0.485690</td>\n",
       "    </tr>\n",
       "    <tr>\n",
       "      <th>1</th>\n",
       "      <td>The Market Hostel Alicante</td>\n",
       "      <td>2</td>\n",
       "      <td>4.9</td>\n",
       "      <td>14</td>\n",
       "      <td>38.348800</td>\n",
       "      <td>-0.484330</td>\n",
       "    </tr>\n",
       "    <tr>\n",
       "      <th>2</th>\n",
       "      <td>Apartamentos Bárbara 3</td>\n",
       "      <td>3</td>\n",
       "      <td>4.9</td>\n",
       "      <td>118</td>\n",
       "      <td>38.344880</td>\n",
       "      <td>-0.485610</td>\n",
       "    </tr>\n",
       "    <tr>\n",
       "      <th>3</th>\n",
       "      <td>S30 Reina Victoria Suites</td>\n",
       "      <td>3</td>\n",
       "      <td>4.9</td>\n",
       "      <td>89</td>\n",
       "      <td>38.349720</td>\n",
       "      <td>-0.484720</td>\n",
       "    </tr>\n",
       "    <tr>\n",
       "      <th>4</th>\n",
       "      <td>Hostal 12 El Campello</td>\n",
       "      <td>2</td>\n",
       "      <td>4.8</td>\n",
       "      <td>30</td>\n",
       "      <td>38.426729</td>\n",
       "      <td>-0.395204</td>\n",
       "    </tr>\n",
       "    <tr>\n",
       "      <th>5</th>\n",
       "      <td>Arenal Suites Alicante</td>\n",
       "      <td>3</td>\n",
       "      <td>4.7</td>\n",
       "      <td>72</td>\n",
       "      <td>38.346444</td>\n",
       "      <td>-0.483446</td>\n",
       "    </tr>\n",
       "  </tbody>\n",
       "</table>\n",
       "</div>"
      ],
      "text/plain": [
       "                       Nombre  Estrellas Valoración  Precio(€)    Latitud  \\\n",
       "0     Pinzon Studios Alicante          3        5.0         85  38.344740   \n",
       "1  The Market Hostel Alicante          2        4.9         14  38.348800   \n",
       "2      Apartamentos Bárbara 3          3        4.9        118  38.344880   \n",
       "3   S30 Reina Victoria Suites          3        4.9         89  38.349720   \n",
       "4       Hostal 12 El Campello          2        4.8         30  38.426729   \n",
       "5      Arenal Suites Alicante          3        4.7         72  38.346444   \n",
       "\n",
       "   Longitud  \n",
       "0 -0.485690  \n",
       "1 -0.484330  \n",
       "2 -0.485610  \n",
       "3 -0.484720  \n",
       "4 -0.395204  \n",
       "5 -0.483446  "
      ]
     },
     "execution_count": 31,
     "metadata": {},
     "output_type": "execute_result"
    }
   ],
   "source": [
    "hoteles"
   ]
  },
  {
   "cell_type": "code",
   "execution_count": 10,
   "metadata": {},
   "outputs": [
    {
     "name": "stdout",
     "output_type": "stream",
     "text": [
      "<class 'pandas.core.frame.DataFrame'>\n",
      "RangeIndex: 6 entries, 0 to 5\n",
      "Data columns (total 6 columns):\n",
      " #   Column      Non-Null Count  Dtype  \n",
      "---  ------      --------------  -----  \n",
      " 0   Nombre      6 non-null      object \n",
      " 1   Estrellas   6 non-null      int64  \n",
      " 2   Valoración  6 non-null      object \n",
      " 3   Precio(€)   6 non-null      int64  \n",
      " 4   Latitud     6 non-null      float64\n",
      " 5   Longitud    6 non-null      float64\n",
      "dtypes: float64(2), int64(2), object(2)\n",
      "memory usage: 416.0+ bytes\n"
     ]
    }
   ],
   "source": [
    "hoteles.info()"
   ]
  },
  {
   "cell_type": "code",
   "execution_count": 32,
   "metadata": {},
   "outputs": [],
   "source": [
    "def cleaning_hotel(city,date_str):\n",
    "    res=api_request(city,date_str)\n",
    "    print(res)\n",
    "    dicc={\"Nombre\":[],\"Estrellas\":[],\"Precio(€)\":[],\"Latitud\":[],\"Longitud\":[]}\n",
    "    for i in range(len(res)):\n",
    "        try:\n",
    "            dicc[\"Nombre\"].append(res['searchResults']['results'][i]['name'])\n",
    "            dicc[\"Estrellas\"].append(res['searchResults']['results'][i]['starRating'])\n",
    "            #dicc[\"Valoración\"].append(res['searchResults']['results'][i]['guestReviews']['rating'])\n",
    "            dicc[\"Precio(€)\"].append(res['searchResults']['results'][i]['ratePlan']['price']['current'])\n",
    "            dicc[\"Latitud\"].append(res['searchResults']['results'][i][ 'coordinate']['lat'])\n",
    "            dicc[\"Longitud\"].append(res['searchResults']['results'][i][ 'coordinate']['lon'])\n",
    "        except: \n",
    "            dicc[\"Nombre\"].append(\"No info\")\n",
    "            dicc[\"Estrellas\"].append(0)\n",
    "            #dicc[\"Valoración\"].append(\"No info\")\n",
    "            dicc[\"Precio(€)\"].append(\"9999 €\")\n",
    "            dicc[\"Latitud\"].append(0.0)\n",
    "            dicc[\"Longitud\"].append(0.0)\n",
    "\n",
    "        #print(dicc)\n",
    "        hotels=pd.DataFrame(dicc)\n",
    "        hotels[\"Precio(€)\"]=hotels[\"Precio(€)\"].apply(lambda x: x.split(\"€\")[0])\n",
    "        hotels[\"Precio(€)\"] = hotels[\"Precio(€)\"].astype(int)\n",
    "        hotels[\"Estrellas\"] = hotels[\"Estrellas\"].astype(int)\n",
    "        hotels = hotels.sort_values(by= \"Precio(€)\")\n",
    "        precio_bajo = hotels[\"Precio(€)\"][0]\n",
    "    return precio_bajo"
   ]
  },
  {
   "cell_type": "code",
   "execution_count": 3,
   "metadata": {},
   "outputs": [
    {
     "data": {
      "text/plain": [
       "62"
      ]
     },
     "execution_count": 3,
     "metadata": {},
     "output_type": "execute_result"
    }
   ],
   "source": [
    "hf.cleaning_hotel(\"Madrid\",\"2022-01-10\")"
   ]
  },
  {
   "cell_type": "code",
   "execution_count": null,
   "metadata": {},
   "outputs": [],
   "source": [
    "lista_precios = []\n",
    "for i in ciudades:\n",
    "    barato = cleaning_hotel(i, date)\n",
    "    lista_precios.append(barato)"
   ]
  }
 ],
 "metadata": {
  "kernelspec": {
   "display_name": "ironhack",
   "language": "python",
   "name": "ironhack"
  },
  "language_info": {
   "codemirror_mode": {
    "name": "ipython",
    "version": 3
   },
   "file_extension": ".py",
   "mimetype": "text/x-python",
   "name": "python",
   "nbconvert_exporter": "python",
   "pygments_lexer": "ipython3",
   "version": "3.8.5"
  }
 },
 "nbformat": 4,
 "nbformat_minor": 5
}
