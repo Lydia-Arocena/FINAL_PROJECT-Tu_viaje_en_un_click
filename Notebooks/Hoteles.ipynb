{
 "cells": [
  {
   "cell_type": "code",
   "execution_count": 82,
   "id": "f378174c",
   "metadata": {},
   "outputs": [],
   "source": [
    "from selenium import webdriver\n",
    "from selenium.webdriver.chrome.options import Options\n",
    "import time\n",
    "import pandas as pd\n",
    "from selenium.webdriver.support.ui import Select\n",
    "from webdriver_manager.chrome import ChromeDriverManager\n",
    "from selenium.webdriver.common.keys import Keys\n",
    "import os\n",
    "import sys\n",
    "sys.path.append('../')\n",
    "import src.geo_functions as gf\n",
    "\n",
    "import requests\n",
    "from dotenv import load_dotenv\n",
    "\n",
    "import warnings\n",
    "warnings.filterwarnings(\"ignore\")\n",
    "import json, ast"
   ]
  },
  {
   "cell_type": "markdown",
   "id": "8fb05498",
   "metadata": {},
   "source": [
    "### HOTELES"
   ]
  },
  {
   "cell_type": "code",
   "execution_count": 109,
   "metadata": {},
   "outputs": [],
   "source": [
    "url = \"https://hotels-com-provider.p.rapidapi.com/v1/hotels/nearby\"\n",
    "\n",
    "querystring = {\"latitude\":\"40.4167047\",\"currency\":\"EUR\",\"longitude\":\"-3.7035825\",\"checkout_date\":\"2022-03-27\",\"sort_order\":\"STAR_RATING_HIGHEST_FIRST\",\"checkin_date\":\"2022-03-26\",\"adults_number\":\"1\",\"locale\":\"en_US\",\"page_number\":\"1\",\"price_min\":\"10\",\"price_max\":\"500\"}\n",
    "\n",
    "headers = {\n",
    "    'x-rapidapi-host': \"hotels-com-provider.p.rapidapi.com\",\n",
    "    'x-rapidapi-key': \"27104289acmshdfdd50d2d4f4075p10836ajsn9efff94d5873\"\n",
    "    }\n",
    "\n",
    "response = requests.get(url, headers=headers, params=querystring)\n",
    "\n",
    "res=json.loads(response.text)"
   ]
  },
  {
   "cell_type": "code",
   "execution_count": 116,
   "metadata": {},
   "outputs": [
    {
     "data": {
      "text/plain": [
       "'VP Plaza España Design'"
      ]
     },
     "execution_count": 116,
     "metadata": {},
     "output_type": "execute_result"
    }
   ],
   "source": [
    "res['searchResults']['results'][0]['name'] #Nombre"
   ]
  },
  {
   "cell_type": "code",
   "execution_count": 118,
   "metadata": {},
   "outputs": [
    {
     "data": {
      "text/plain": [
       "5.0"
      ]
     },
     "execution_count": 118,
     "metadata": {},
     "output_type": "execute_result"
    }
   ],
   "source": [
    "res['searchResults']['results'][0]['starRating'] #Categoría por estrellas"
   ]
  },
  {
   "cell_type": "code",
   "execution_count": 123,
   "metadata": {},
   "outputs": [
    {
     "data": {
      "text/plain": [
       "'4.8'"
      ]
     },
     "execution_count": 123,
     "metadata": {},
     "output_type": "execute_result"
    }
   ],
   "source": [
    "res['searchResults']['results'][0]['guestReviews']['rating'] #Valoración"
   ]
  },
  {
   "cell_type": "code",
   "execution_count": 127,
   "metadata": {},
   "outputs": [
    {
     "data": {
      "text/plain": [
       "'247 €'"
      ]
     },
     "execution_count": 127,
     "metadata": {},
     "output_type": "execute_result"
    }
   ],
   "source": [
    "res['searchResults']['results'][0]['ratePlan']['price']['current'] #precio"
   ]
  },
  {
   "cell_type": "code",
   "execution_count": 145,
   "metadata": {},
   "outputs": [
    {
     "data": {
      "text/plain": [
       "40.42268"
      ]
     },
     "execution_count": 145,
     "metadata": {},
     "output_type": "execute_result"
    }
   ],
   "source": [
    "res['searchResults']['results'][0][ 'coordinate']['lat'] #latitud"
   ]
  },
  {
   "cell_type": "code",
   "execution_count": 147,
   "metadata": {},
   "outputs": [
    {
     "data": {
      "text/plain": [
       "-3.71181"
      ]
     },
     "execution_count": 147,
     "metadata": {},
     "output_type": "execute_result"
    }
   ],
   "source": [
    "res['searchResults']['results'][0][ 'coordinate']['lon'] #longitud"
   ]
  },
  {
   "cell_type": "code",
   "execution_count": 156,
   "metadata": {},
   "outputs": [
    {
     "data": {
      "text/plain": [
       "True"
      ]
     },
     "execution_count": 156,
     "metadata": {},
     "output_type": "execute_result"
    }
   ],
   "source": [
    "load_dotenv()"
   ]
  },
  {
   "cell_type": "code",
   "execution_count": 172,
   "metadata": {},
   "outputs": [],
   "source": [
    "url = \"https://hotels-com-provider.p.rapidapi.com/v1/hotels/nearby\"\n",
    "\n",
    "querystring = {\"latitude\":\"40.4167047\",\"currency\":\"EUR\",\"longitude\":\"-3.7035825\",\"checkout_date\":\"2022-03-27\",\"sort_order\":\"GUEST_RATING\",\"checkin_date\":\"2022-03-26\",\"adults_number\":\"1\",\"locale\":\"en_US\",\"page_number\":\"1\",\"price_min\":\"10\",\"price_max\":\"150\"}\n",
    "\n",
    "headers = {\n",
    "    'x-rapidapi-host': \"hotels-com-provider.p.rapidapi.com\",\n",
    "    'x-rapidapi-key': os.getenv(\"API_hotel\")\n",
    "    }\n",
    "\n",
    "response = requests.get(url, headers=headers, params=querystring)\n",
    "\n",
    "res=json.loads(response.text)\n",
    "\n",
    "dicc={\"Nombre\":[],\"Estrellas\":[],\"Valoración\":[],\"Precio(€)\":[],\"Latitud\":[],\"Longitud\":[]}\n",
    "for i in range(len(res)):\n",
    "    dicc[\"Nombre\"].append(res['searchResults']['results'][i]['name'])\n",
    "    dicc[\"Estrellas\"].append(res['searchResults']['results'][i]['starRating'])\n",
    "    dicc[\"Valoración\"].append(res['searchResults']['results'][i]['guestReviews']['rating'])\n",
    "    dicc[\"Precio(€)\"].append(res['searchResults']['results'][i]['ratePlan']['price']['current'])\n",
    "    dicc[\"Latitud\"].append(res['searchResults']['results'][i][ 'coordinate']['lat'])\n",
    "    dicc[\"Longitud\"].append(res['searchResults']['results'][i][ 'coordinate']['lon'])"
   ]
  },
  {
   "cell_type": "code",
   "execution_count": 173,
   "metadata": {},
   "outputs": [],
   "source": [
    "hotels=pd.DataFrame(dicc)"
   ]
  },
  {
   "cell_type": "code",
   "execution_count": 174,
   "metadata": {},
   "outputs": [
    {
     "data": {
      "text/html": [
       "<div>\n",
       "<style scoped>\n",
       "    .dataframe tbody tr th:only-of-type {\n",
       "        vertical-align: middle;\n",
       "    }\n",
       "\n",
       "    .dataframe tbody tr th {\n",
       "        vertical-align: top;\n",
       "    }\n",
       "\n",
       "    .dataframe thead th {\n",
       "        text-align: right;\n",
       "    }\n",
       "</style>\n",
       "<table border=\"1\" class=\"dataframe\">\n",
       "  <thead>\n",
       "    <tr style=\"text-align: right;\">\n",
       "      <th></th>\n",
       "      <th>Nombre</th>\n",
       "      <th>Estrellas</th>\n",
       "      <th>Valoración</th>\n",
       "      <th>Precio(€)</th>\n",
       "      <th>Latitud</th>\n",
       "      <th>Longitud</th>\n",
       "    </tr>\n",
       "  </thead>\n",
       "  <tbody>\n",
       "    <tr>\n",
       "      <th>0</th>\n",
       "      <td>Apartosuites Jardines de Sabatini</td>\n",
       "      <td>3.0</td>\n",
       "      <td>4.8</td>\n",
       "      <td>117 €</td>\n",
       "      <td>40.420856</td>\n",
       "      <td>-3.714802</td>\n",
       "    </tr>\n",
       "    <tr>\n",
       "      <th>1</th>\n",
       "      <td>ARTIEM Madrid</td>\n",
       "      <td>4.0</td>\n",
       "      <td>4.8</td>\n",
       "      <td>79 €</td>\n",
       "      <td>40.442869</td>\n",
       "      <td>-3.648157</td>\n",
       "    </tr>\n",
       "    <tr>\n",
       "      <th>2</th>\n",
       "      <td>Artrip Hotel</td>\n",
       "      <td>2.0</td>\n",
       "      <td>4.8</td>\n",
       "      <td>135 €</td>\n",
       "      <td>40.407131</td>\n",
       "      <td>-3.700125</td>\n",
       "    </tr>\n",
       "    <tr>\n",
       "      <th>3</th>\n",
       "      <td>Catalonia Las Cortes Hotel</td>\n",
       "      <td>4.0</td>\n",
       "      <td>4.8</td>\n",
       "      <td>136 €</td>\n",
       "      <td>40.414670</td>\n",
       "      <td>-3.699430</td>\n",
       "    </tr>\n",
       "    <tr>\n",
       "      <th>4</th>\n",
       "      <td>Artistic B&amp;B</td>\n",
       "      <td>3.0</td>\n",
       "      <td>4.8</td>\n",
       "      <td>104 €</td>\n",
       "      <td>40.413900</td>\n",
       "      <td>-3.698220</td>\n",
       "    </tr>\n",
       "    <tr>\n",
       "      <th>5</th>\n",
       "      <td>Arenal Suites Preciados</td>\n",
       "      <td>3.0</td>\n",
       "      <td>4.8</td>\n",
       "      <td>108 €</td>\n",
       "      <td>40.419610</td>\n",
       "      <td>-3.706790</td>\n",
       "    </tr>\n",
       "  </tbody>\n",
       "</table>\n",
       "</div>"
      ],
      "text/plain": [
       "                              Nombre  Estrellas Valoración Precio(€)  \\\n",
       "0  Apartosuites Jardines de Sabatini        3.0        4.8     117 €   \n",
       "1                      ARTIEM Madrid        4.0        4.8      79 €   \n",
       "2                       Artrip Hotel        2.0        4.8     135 €   \n",
       "3         Catalonia Las Cortes Hotel        4.0        4.8     136 €   \n",
       "4                       Artistic B&B        3.0        4.8     104 €   \n",
       "5            Arenal Suites Preciados        3.0        4.8     108 €   \n",
       "\n",
       "     Latitud  Longitud  \n",
       "0  40.420856 -3.714802  \n",
       "1  40.442869 -3.648157  \n",
       "2  40.407131 -3.700125  \n",
       "3  40.414670 -3.699430  \n",
       "4  40.413900 -3.698220  \n",
       "5  40.419610 -3.706790  "
      ]
     },
     "execution_count": 174,
     "metadata": {},
     "output_type": "execute_result"
    }
   ],
   "source": [
    "hotels"
   ]
  },
  {
   "cell_type": "code",
   "execution_count": 175,
   "metadata": {},
   "outputs": [],
   "source": [
    "hotels[\"Precio(€)\"]=hotels[\"Precio(€)\"].apply(lambda x: x.split(\"€\")[0])"
   ]
  },
  {
   "cell_type": "code",
   "execution_count": 176,
   "metadata": {},
   "outputs": [
    {
     "name": "stdout",
     "output_type": "stream",
     "text": [
      "<class 'pandas.core.frame.DataFrame'>\n",
      "RangeIndex: 6 entries, 0 to 5\n",
      "Data columns (total 6 columns):\n",
      " #   Column      Non-Null Count  Dtype  \n",
      "---  ------      --------------  -----  \n",
      " 0   Nombre      6 non-null      object \n",
      " 1   Estrellas   6 non-null      float64\n",
      " 2   Valoración  6 non-null      object \n",
      " 3   Precio(€)   6 non-null      object \n",
      " 4   Latitud     6 non-null      float64\n",
      " 5   Longitud    6 non-null      float64\n",
      "dtypes: float64(3), object(3)\n",
      "memory usage: 416.0+ bytes\n"
     ]
    }
   ],
   "source": [
    "hotels.info()"
   ]
  },
  {
   "cell_type": "code",
   "execution_count": 177,
   "metadata": {},
   "outputs": [],
   "source": [
    "hotels[\"Precio(€)\"]=pd.to_numeric(hotels[\"Precio(€)\"], downcast=\"float\")"
   ]
  },
  {
   "cell_type": "code",
   "execution_count": 171,
   "metadata": {},
   "outputs": [
    {
     "name": "stdout",
     "output_type": "stream",
     "text": [
      "<class 'pandas.core.frame.DataFrame'>\n",
      "RangeIndex: 6 entries, 0 to 5\n",
      "Data columns (total 6 columns):\n",
      " #   Column      Non-Null Count  Dtype  \n",
      "---  ------      --------------  -----  \n",
      " 0   Nombre      6 non-null      object \n",
      " 1   Estrellas   6 non-null      float64\n",
      " 2   Valoración  6 non-null      object \n",
      " 3   Precio(€)   6 non-null      float32\n",
      " 4   Latitud     6 non-null      float64\n",
      " 5   Longitud    6 non-null      float64\n",
      "dtypes: float32(1), float64(3), object(2)\n",
      "memory usage: 392.0+ bytes\n"
     ]
    }
   ],
   "source": [
    "hotels.info()"
   ]
  },
  {
   "cell_type": "code",
   "execution_count": 178,
   "metadata": {},
   "outputs": [
    {
     "data": {
      "text/html": [
       "<div>\n",
       "<style scoped>\n",
       "    .dataframe tbody tr th:only-of-type {\n",
       "        vertical-align: middle;\n",
       "    }\n",
       "\n",
       "    .dataframe tbody tr th {\n",
       "        vertical-align: top;\n",
       "    }\n",
       "\n",
       "    .dataframe thead th {\n",
       "        text-align: right;\n",
       "    }\n",
       "</style>\n",
       "<table border=\"1\" class=\"dataframe\">\n",
       "  <thead>\n",
       "    <tr style=\"text-align: right;\">\n",
       "      <th></th>\n",
       "      <th>Nombre</th>\n",
       "      <th>Estrellas</th>\n",
       "      <th>Valoración</th>\n",
       "      <th>Precio(€)</th>\n",
       "      <th>Latitud</th>\n",
       "      <th>Longitud</th>\n",
       "    </tr>\n",
       "  </thead>\n",
       "  <tbody>\n",
       "    <tr>\n",
       "      <th>0</th>\n",
       "      <td>Apartosuites Jardines de Sabatini</td>\n",
       "      <td>3.0</td>\n",
       "      <td>4.8</td>\n",
       "      <td>117.0</td>\n",
       "      <td>40.420856</td>\n",
       "      <td>-3.714802</td>\n",
       "    </tr>\n",
       "    <tr>\n",
       "      <th>1</th>\n",
       "      <td>ARTIEM Madrid</td>\n",
       "      <td>4.0</td>\n",
       "      <td>4.8</td>\n",
       "      <td>79.0</td>\n",
       "      <td>40.442869</td>\n",
       "      <td>-3.648157</td>\n",
       "    </tr>\n",
       "    <tr>\n",
       "      <th>2</th>\n",
       "      <td>Artrip Hotel</td>\n",
       "      <td>2.0</td>\n",
       "      <td>4.8</td>\n",
       "      <td>135.0</td>\n",
       "      <td>40.407131</td>\n",
       "      <td>-3.700125</td>\n",
       "    </tr>\n",
       "    <tr>\n",
       "      <th>3</th>\n",
       "      <td>Catalonia Las Cortes Hotel</td>\n",
       "      <td>4.0</td>\n",
       "      <td>4.8</td>\n",
       "      <td>136.0</td>\n",
       "      <td>40.414670</td>\n",
       "      <td>-3.699430</td>\n",
       "    </tr>\n",
       "    <tr>\n",
       "      <th>4</th>\n",
       "      <td>Artistic B&amp;B</td>\n",
       "      <td>3.0</td>\n",
       "      <td>4.8</td>\n",
       "      <td>104.0</td>\n",
       "      <td>40.413900</td>\n",
       "      <td>-3.698220</td>\n",
       "    </tr>\n",
       "    <tr>\n",
       "      <th>5</th>\n",
       "      <td>Arenal Suites Preciados</td>\n",
       "      <td>3.0</td>\n",
       "      <td>4.8</td>\n",
       "      <td>108.0</td>\n",
       "      <td>40.419610</td>\n",
       "      <td>-3.706790</td>\n",
       "    </tr>\n",
       "  </tbody>\n",
       "</table>\n",
       "</div>"
      ],
      "text/plain": [
       "                              Nombre  Estrellas Valoración  Precio(€)  \\\n",
       "0  Apartosuites Jardines de Sabatini        3.0        4.8      117.0   \n",
       "1                      ARTIEM Madrid        4.0        4.8       79.0   \n",
       "2                       Artrip Hotel        2.0        4.8      135.0   \n",
       "3         Catalonia Las Cortes Hotel        4.0        4.8      136.0   \n",
       "4                       Artistic B&B        3.0        4.8      104.0   \n",
       "5            Arenal Suites Preciados        3.0        4.8      108.0   \n",
       "\n",
       "     Latitud  Longitud  \n",
       "0  40.420856 -3.714802  \n",
       "1  40.442869 -3.648157  \n",
       "2  40.407131 -3.700125  \n",
       "3  40.414670 -3.699430  \n",
       "4  40.413900 -3.698220  \n",
       "5  40.419610 -3.706790  "
      ]
     },
     "execution_count": 178,
     "metadata": {},
     "output_type": "execute_result"
    }
   ],
   "source": [
    "hotels"
   ]
  },
  {
   "cell_type": "code",
   "execution_count": 179,
   "metadata": {},
   "outputs": [],
   "source": [
    "hotels[\"Precio(€)\"] = hotels[\"Precio(€)\"].astype(int)"
   ]
  },
  {
   "cell_type": "code",
   "execution_count": 181,
   "metadata": {},
   "outputs": [],
   "source": [
    "hotels[\"Estrellas\"] = hotels[\"Estrellas\"].astype(int)"
   ]
  },
  {
   "cell_type": "code",
   "execution_count": 182,
   "metadata": {},
   "outputs": [
    {
     "name": "stdout",
     "output_type": "stream",
     "text": [
      "<class 'pandas.core.frame.DataFrame'>\n",
      "RangeIndex: 6 entries, 0 to 5\n",
      "Data columns (total 6 columns):\n",
      " #   Column      Non-Null Count  Dtype  \n",
      "---  ------      --------------  -----  \n",
      " 0   Nombre      6 non-null      object \n",
      " 1   Estrellas   6 non-null      int64  \n",
      " 2   Valoración  6 non-null      object \n",
      " 3   Precio(€)   6 non-null      int64  \n",
      " 4   Latitud     6 non-null      float64\n",
      " 5   Longitud    6 non-null      float64\n",
      "dtypes: float64(2), int64(2), object(2)\n",
      "memory usage: 416.0+ bytes\n"
     ]
    }
   ],
   "source": [
    "hotels.info()"
   ]
  },
  {
   "cell_type": "code",
   "execution_count": 183,
   "metadata": {},
   "outputs": [
    {
     "data": {
      "text/html": [
       "<div>\n",
       "<style scoped>\n",
       "    .dataframe tbody tr th:only-of-type {\n",
       "        vertical-align: middle;\n",
       "    }\n",
       "\n",
       "    .dataframe tbody tr th {\n",
       "        vertical-align: top;\n",
       "    }\n",
       "\n",
       "    .dataframe thead th {\n",
       "        text-align: right;\n",
       "    }\n",
       "</style>\n",
       "<table border=\"1\" class=\"dataframe\">\n",
       "  <thead>\n",
       "    <tr style=\"text-align: right;\">\n",
       "      <th></th>\n",
       "      <th>Nombre</th>\n",
       "      <th>Estrellas</th>\n",
       "      <th>Valoración</th>\n",
       "      <th>Precio(€)</th>\n",
       "      <th>Latitud</th>\n",
       "      <th>Longitud</th>\n",
       "    </tr>\n",
       "  </thead>\n",
       "  <tbody>\n",
       "    <tr>\n",
       "      <th>0</th>\n",
       "      <td>Apartosuites Jardines de Sabatini</td>\n",
       "      <td>3</td>\n",
       "      <td>4.8</td>\n",
       "      <td>117</td>\n",
       "      <td>40.420856</td>\n",
       "      <td>-3.714802</td>\n",
       "    </tr>\n",
       "    <tr>\n",
       "      <th>1</th>\n",
       "      <td>ARTIEM Madrid</td>\n",
       "      <td>4</td>\n",
       "      <td>4.8</td>\n",
       "      <td>79</td>\n",
       "      <td>40.442869</td>\n",
       "      <td>-3.648157</td>\n",
       "    </tr>\n",
       "    <tr>\n",
       "      <th>2</th>\n",
       "      <td>Artrip Hotel</td>\n",
       "      <td>2</td>\n",
       "      <td>4.8</td>\n",
       "      <td>135</td>\n",
       "      <td>40.407131</td>\n",
       "      <td>-3.700125</td>\n",
       "    </tr>\n",
       "    <tr>\n",
       "      <th>3</th>\n",
       "      <td>Catalonia Las Cortes Hotel</td>\n",
       "      <td>4</td>\n",
       "      <td>4.8</td>\n",
       "      <td>136</td>\n",
       "      <td>40.414670</td>\n",
       "      <td>-3.699430</td>\n",
       "    </tr>\n",
       "    <tr>\n",
       "      <th>4</th>\n",
       "      <td>Artistic B&amp;B</td>\n",
       "      <td>3</td>\n",
       "      <td>4.8</td>\n",
       "      <td>104</td>\n",
       "      <td>40.413900</td>\n",
       "      <td>-3.698220</td>\n",
       "    </tr>\n",
       "    <tr>\n",
       "      <th>5</th>\n",
       "      <td>Arenal Suites Preciados</td>\n",
       "      <td>3</td>\n",
       "      <td>4.8</td>\n",
       "      <td>108</td>\n",
       "      <td>40.419610</td>\n",
       "      <td>-3.706790</td>\n",
       "    </tr>\n",
       "  </tbody>\n",
       "</table>\n",
       "</div>"
      ],
      "text/plain": [
       "                              Nombre  Estrellas Valoración  Precio(€)  \\\n",
       "0  Apartosuites Jardines de Sabatini          3        4.8        117   \n",
       "1                      ARTIEM Madrid          4        4.8         79   \n",
       "2                       Artrip Hotel          2        4.8        135   \n",
       "3         Catalonia Las Cortes Hotel          4        4.8        136   \n",
       "4                       Artistic B&B          3        4.8        104   \n",
       "5            Arenal Suites Preciados          3        4.8        108   \n",
       "\n",
       "     Latitud  Longitud  \n",
       "0  40.420856 -3.714802  \n",
       "1  40.442869 -3.648157  \n",
       "2  40.407131 -3.700125  \n",
       "3  40.414670 -3.699430  \n",
       "4  40.413900 -3.698220  \n",
       "5  40.419610 -3.706790  "
      ]
     },
     "execution_count": 183,
     "metadata": {},
     "output_type": "execute_result"
    }
   ],
   "source": [
    "hotels"
   ]
  },
  {
   "cell_type": "code",
   "execution_count": 185,
   "metadata": {},
   "outputs": [],
   "source": [
    "p=\"2022-03-27\"+\"1\""
   ]
  },
  {
   "cell_type": "code",
   "execution_count": 186,
   "metadata": {},
   "outputs": [
    {
     "data": {
      "text/plain": [
       "'2022-03-271'"
      ]
     },
     "execution_count": 186,
     "metadata": {},
     "output_type": "execute_result"
    }
   ],
   "source": [
    "p"
   ]
  },
  {
   "cell_type": "code",
   "execution_count": 194,
   "metadata": {},
   "outputs": [
    {
     "name": "stdout",
     "output_type": "stream",
     "text": [
      "The type of the date is now <class 'datetime.date'>\n",
      "The date is 2020-10-27\n"
     ]
    }
   ],
   "source": [
    "from datetime import datetime\n",
    "\n",
    "date_str = '10-27-2020'\n",
    "\n",
    "dt_obj = datetime.strptime(date_str, '%m-%d-%Y').date()\n",
    "\n",
    "print(\"The type of the date is now\",  type(dt_obj))\n",
    "print(\"The date is\", dt_obj)"
   ]
  },
  {
   "cell_type": "code",
   "execution_count": 200,
   "metadata": {},
   "outputs": [],
   "source": [
    "from datetime import datetime\n",
    "from datetime import timedelta\n",
    "import src.geo_functions as gf"
   ]
  },
  {
   "cell_type": "code",
   "execution_count": 201,
   "metadata": {},
   "outputs": [],
   "source": [
    "def datatime(date_str):\n",
    "    dt_obj = datetime.strptime(date_str, '%m-%d-%Y').date()\n",
    "    return dt_obj"
   ]
  },
  {
   "cell_type": "code",
   "execution_count": 202,
   "metadata": {},
   "outputs": [],
   "source": [
    "def api_request(city,date_str):\n",
    "    coord=gf.get_coordenadas(city)\n",
    "    check_in=datatime(date_str)\n",
    "    check_out=check_in + timedelta(days=1)\n",
    "    in_string=check_in.strftime(\"%Y-%m-%d\")\n",
    "    out_string=check_out.strftime(\"%Y-%m-%d\")\n",
    "    url = \"https://hotels-com-provider.p.rapidapi.com/v1/hotels/nearby\"\n",
    "    querystring = {f\"latitude\":{coord[0]},\"currency\":\"EUR\",\"longitude\":{coord[1]},\"checkout_date\":{out_string} ,\"sort_order\":\"GUEST_RATING\",\"checkin_date\":{in_string},\"adults_number\":\"1\",\"locale\":\"en_US\",\"page_number\":\"1\",\"price_min\":\"10\",\"price_max\":\"150\"}\n",
    "    headers = {\n",
    "        'x-rapidapi-host': \"hotels-com-provider.p.rapidapi.com\",\n",
    "        'x-rapidapi-key': os.getenv(\"API_hotel\")\n",
    "    }\n",
    "    response = requests.get(url, headers=headers, params=querystring)\n",
    "    res=json.loads(response.text)\n",
    "    return res"
   ]
  },
  {
   "cell_type": "code",
   "execution_count": 203,
   "metadata": {},
   "outputs": [
    {
     "ename": "ValueError",
     "evalue": "time data '2022-03-26' does not match format '%m-%d-%Y'",
     "output_type": "error",
     "traceback": [
      "\u001b[0;31m---------------------------------------------------------------------------\u001b[0m",
      "\u001b[0;31mValueError\u001b[0m                                Traceback (most recent call last)",
      "\u001b[0;32m<ipython-input-203-b4fe5af6c8f7>\u001b[0m in \u001b[0;36m<module>\u001b[0;34m\u001b[0m\n\u001b[0;32m----> 1\u001b[0;31m \u001b[0mapi_request\u001b[0m\u001b[0;34m(\u001b[0m\u001b[0;34m\"Madrid\"\u001b[0m\u001b[0;34m,\u001b[0m\u001b[0;34m\"2022-03-26\"\u001b[0m\u001b[0;34m)\u001b[0m\u001b[0;34m\u001b[0m\u001b[0;34m\u001b[0m\u001b[0m\n\u001b[0m",
      "\u001b[0;32m<ipython-input-202-c0e51d6e5f01>\u001b[0m in \u001b[0;36mapi_request\u001b[0;34m(city, date_str)\u001b[0m\n\u001b[1;32m      1\u001b[0m \u001b[0;32mdef\u001b[0m \u001b[0mapi_request\u001b[0m\u001b[0;34m(\u001b[0m\u001b[0mcity\u001b[0m\u001b[0;34m,\u001b[0m\u001b[0mdate_str\u001b[0m\u001b[0;34m)\u001b[0m\u001b[0;34m:\u001b[0m\u001b[0;34m\u001b[0m\u001b[0;34m\u001b[0m\u001b[0m\n\u001b[1;32m      2\u001b[0m     \u001b[0mcoord\u001b[0m\u001b[0;34m=\u001b[0m\u001b[0mgf\u001b[0m\u001b[0;34m.\u001b[0m\u001b[0mget_coordenadas\u001b[0m\u001b[0;34m(\u001b[0m\u001b[0mcity\u001b[0m\u001b[0;34m)\u001b[0m\u001b[0;34m\u001b[0m\u001b[0;34m\u001b[0m\u001b[0m\n\u001b[0;32m----> 3\u001b[0;31m     \u001b[0mcheck_in\u001b[0m\u001b[0;34m=\u001b[0m\u001b[0mdatatime\u001b[0m\u001b[0;34m(\u001b[0m\u001b[0mdate_str\u001b[0m\u001b[0;34m)\u001b[0m\u001b[0;34m\u001b[0m\u001b[0;34m\u001b[0m\u001b[0m\n\u001b[0m\u001b[1;32m      4\u001b[0m     \u001b[0mcheck_out\u001b[0m\u001b[0;34m=\u001b[0m\u001b[0mcheck_in\u001b[0m \u001b[0;34m+\u001b[0m \u001b[0mtimedelta\u001b[0m\u001b[0;34m(\u001b[0m\u001b[0mdays\u001b[0m\u001b[0;34m=\u001b[0m\u001b[0;36m1\u001b[0m\u001b[0;34m)\u001b[0m\u001b[0;34m\u001b[0m\u001b[0;34m\u001b[0m\u001b[0m\n\u001b[1;32m      5\u001b[0m     \u001b[0min_string\u001b[0m\u001b[0;34m=\u001b[0m\u001b[0mcheck_in\u001b[0m\u001b[0;34m.\u001b[0m\u001b[0mstrftime\u001b[0m\u001b[0;34m(\u001b[0m\u001b[0;34m\"%Y-%m-%d\"\u001b[0m\u001b[0;34m)\u001b[0m\u001b[0;34m\u001b[0m\u001b[0;34m\u001b[0m\u001b[0m\n",
      "\u001b[0;32m<ipython-input-201-528cded55336>\u001b[0m in \u001b[0;36mdatatime\u001b[0;34m(date_str)\u001b[0m\n\u001b[1;32m      1\u001b[0m \u001b[0;32mdef\u001b[0m \u001b[0mdatatime\u001b[0m\u001b[0;34m(\u001b[0m\u001b[0mdate_str\u001b[0m\u001b[0;34m)\u001b[0m\u001b[0;34m:\u001b[0m\u001b[0;34m\u001b[0m\u001b[0;34m\u001b[0m\u001b[0m\n\u001b[0;32m----> 2\u001b[0;31m     \u001b[0mdt_obj\u001b[0m \u001b[0;34m=\u001b[0m \u001b[0mdatetime\u001b[0m\u001b[0;34m.\u001b[0m\u001b[0mstrptime\u001b[0m\u001b[0;34m(\u001b[0m\u001b[0mdate_str\u001b[0m\u001b[0;34m,\u001b[0m \u001b[0;34m'%m-%d-%Y'\u001b[0m\u001b[0;34m)\u001b[0m\u001b[0;34m.\u001b[0m\u001b[0mdate\u001b[0m\u001b[0;34m(\u001b[0m\u001b[0;34m)\u001b[0m\u001b[0;34m\u001b[0m\u001b[0;34m\u001b[0m\u001b[0m\n\u001b[0m\u001b[1;32m      3\u001b[0m     \u001b[0;32mreturn\u001b[0m \u001b[0mdt_obj\u001b[0m\u001b[0;34m\u001b[0m\u001b[0;34m\u001b[0m\u001b[0m\n",
      "\u001b[0;32m~/anaconda3/envs/ironhack/lib/python3.8/_strptime.py\u001b[0m in \u001b[0;36m_strptime_datetime\u001b[0;34m(cls, data_string, format)\u001b[0m\n\u001b[1;32m    566\u001b[0m     \"\"\"Return a class cls instance based on the input string and the\n\u001b[1;32m    567\u001b[0m     format string.\"\"\"\n\u001b[0;32m--> 568\u001b[0;31m     \u001b[0mtt\u001b[0m\u001b[0;34m,\u001b[0m \u001b[0mfraction\u001b[0m\u001b[0;34m,\u001b[0m \u001b[0mgmtoff_fraction\u001b[0m \u001b[0;34m=\u001b[0m \u001b[0m_strptime\u001b[0m\u001b[0;34m(\u001b[0m\u001b[0mdata_string\u001b[0m\u001b[0;34m,\u001b[0m \u001b[0mformat\u001b[0m\u001b[0;34m)\u001b[0m\u001b[0;34m\u001b[0m\u001b[0;34m\u001b[0m\u001b[0m\n\u001b[0m\u001b[1;32m    569\u001b[0m     \u001b[0mtzname\u001b[0m\u001b[0;34m,\u001b[0m \u001b[0mgmtoff\u001b[0m \u001b[0;34m=\u001b[0m \u001b[0mtt\u001b[0m\u001b[0;34m[\u001b[0m\u001b[0;34m-\u001b[0m\u001b[0;36m2\u001b[0m\u001b[0;34m:\u001b[0m\u001b[0;34m]\u001b[0m\u001b[0;34m\u001b[0m\u001b[0;34m\u001b[0m\u001b[0m\n\u001b[1;32m    570\u001b[0m     \u001b[0margs\u001b[0m \u001b[0;34m=\u001b[0m \u001b[0mtt\u001b[0m\u001b[0;34m[\u001b[0m\u001b[0;34m:\u001b[0m\u001b[0;36m6\u001b[0m\u001b[0;34m]\u001b[0m \u001b[0;34m+\u001b[0m \u001b[0;34m(\u001b[0m\u001b[0mfraction\u001b[0m\u001b[0;34m,\u001b[0m\u001b[0;34m)\u001b[0m\u001b[0;34m\u001b[0m\u001b[0;34m\u001b[0m\u001b[0m\n",
      "\u001b[0;32m~/anaconda3/envs/ironhack/lib/python3.8/_strptime.py\u001b[0m in \u001b[0;36m_strptime\u001b[0;34m(data_string, format)\u001b[0m\n\u001b[1;32m    347\u001b[0m     \u001b[0mfound\u001b[0m \u001b[0;34m=\u001b[0m \u001b[0mformat_regex\u001b[0m\u001b[0;34m.\u001b[0m\u001b[0mmatch\u001b[0m\u001b[0;34m(\u001b[0m\u001b[0mdata_string\u001b[0m\u001b[0;34m)\u001b[0m\u001b[0;34m\u001b[0m\u001b[0;34m\u001b[0m\u001b[0m\n\u001b[1;32m    348\u001b[0m     \u001b[0;32mif\u001b[0m \u001b[0;32mnot\u001b[0m \u001b[0mfound\u001b[0m\u001b[0;34m:\u001b[0m\u001b[0;34m\u001b[0m\u001b[0;34m\u001b[0m\u001b[0m\n\u001b[0;32m--> 349\u001b[0;31m         raise ValueError(\"time data %r does not match format %r\" %\n\u001b[0m\u001b[1;32m    350\u001b[0m                          (data_string, format))\n\u001b[1;32m    351\u001b[0m     \u001b[0;32mif\u001b[0m \u001b[0mlen\u001b[0m\u001b[0;34m(\u001b[0m\u001b[0mdata_string\u001b[0m\u001b[0;34m)\u001b[0m \u001b[0;34m!=\u001b[0m \u001b[0mfound\u001b[0m\u001b[0;34m.\u001b[0m\u001b[0mend\u001b[0m\u001b[0;34m(\u001b[0m\u001b[0;34m)\u001b[0m\u001b[0;34m:\u001b[0m\u001b[0;34m\u001b[0m\u001b[0;34m\u001b[0m\u001b[0m\n",
      "\u001b[0;31mValueError\u001b[0m: time data '2022-03-26' does not match format '%m-%d-%Y'"
     ]
    }
   ],
   "source": [
    "api_request(\"Madrid\",\"2022-03-26\")"
   ]
  },
  {
   "cell_type": "code",
   "execution_count": null,
   "metadata": {},
   "outputs": [],
   "source": []
  }
 ],
 "metadata": {
  "kernelspec": {
   "display_name": "ironhack",
   "language": "python",
   "name": "ironhack"
  },
  "language_info": {
   "codemirror_mode": {
    "name": "ipython",
    "version": 3
   },
   "file_extension": ".py",
   "mimetype": "text/x-python",
   "name": "python",
   "nbconvert_exporter": "python",
   "pygments_lexer": "ipython3",
   "version": "3.8.5"
  }
 },
 "nbformat": 4,
 "nbformat_minor": 5
}
