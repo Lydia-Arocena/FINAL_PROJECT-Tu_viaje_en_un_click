{
 "cells": [
  {
   "cell_type": "code",
   "execution_count": 3,
   "id": "58961de6",
   "metadata": {},
   "outputs": [],
   "source": [
    "from amadeus import Client, ResponseError\n",
    "import os"
   ]
  },
  {
   "cell_type": "code",
   "execution_count": 1,
   "id": "6154174a",
   "metadata": {},
   "outputs": [],
   "source": [
    "load_dotenv()"
   ]
  },
  {
   "cell_type": "code",
   "execution_count": null,
   "id": "1ccd8f63",
   "metadata": {},
   "outputs": [],
   "source": [
    "#https://github.com/amadeus4dev/amadeus-code-examples/blob/master/hotel_search/v2/get/hotel_offers/Python%20SDK/hotel_search.py"
   ]
  },
  {
   "cell_type": "markdown",
   "id": "8fb05498",
   "metadata": {},
   "source": [
    "### HOTELES"
   ]
  },
  {
   "cell_type": "code",
   "execution_count": null,
   "id": "4101794b",
   "metadata": {},
   "outputs": [],
   "source": [
    "\n",
    "\n",
    "amadeus = Client(\n",
    "    client_id= os.getenv(\"API_Key\"),\n",
    "    client_secret= os.getenv(\"API_Secret\")\n",
    ")\n",
    "\n",
    "try:\n",
    "    # Get list of Hotels by city code\n",
    "    hotels_by_city = amadeus.shopping.hotel_offers.get(cityCode='PAR')\n",
    "    print(hotels_by_city.data)\n",
    "except ResponseError as error:\n",
    "    raise error"
   ]
  }
 ],
 "metadata": {
  "kernelspec": {
   "display_name": "ironhack",
   "language": "python",
   "name": "ironhack"
  },
  "language_info": {
   "codemirror_mode": {
    "name": "ipython",
    "version": 3
   },
   "file_extension": ".py",
   "mimetype": "text/x-python",
   "name": "python",
   "nbconvert_exporter": "python",
   "pygments_lexer": "ipython3",
   "version": "3.8.5"
  }
 },
 "nbformat": 4,
 "nbformat_minor": 5
}
