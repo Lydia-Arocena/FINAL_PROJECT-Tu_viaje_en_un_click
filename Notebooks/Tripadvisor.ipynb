{
 "cells": [
  {
   "cell_type": "code",
   "execution_count": 51,
   "id": "5e40b5f2",
   "metadata": {},
   "outputs": [],
   "source": [
    "from selenium import webdriver\n",
    "from selenium.webdriver.chrome.options import Options\n",
    "import time\n",
    "import pandas as pd\n",
    "from selenium.webdriver.support.ui import Select\n",
    "from webdriver_manager.chrome import ChromeDriver*-Manager\n",
    "from selenium.webdriver.common.keys import Keys"
   ]
  },
  {
   "cell_type": "code",
   "execution_count": 56,
   "id": "f8c65663",
   "metadata": {},
   "outputs": [],
   "source": [
    "opciones=Options()\n",
    "\n",
    "opciones.add_experimental_option('excludeSwitches', ['enable-automation'])\n",
    "opciones.add_experimental_option('useAutomationExtension', False)\n",
    "opciones.headless=False    -\n",
    "opciones.add_argument('--start-maximized')           \n",
    "opciones.add_argument('--incognito')\n",
    "opciones.add_argument('--deny-permission-prompts')"
   ]
  },
  {
   "cell_type": "code",
   "execution_count": 57,
   "id": "41bfd39c",
   "metadata": {},
   "outputs": [
    {
     "name": "stderr",
     "output_type": "stream",
     "text": [
      "<ipython-input-57-21c3e561f60f>:1: DeprecationWarning: executable_path has been deprecated, please pass in a Service object\n",
      "  driver = webdriver.Chrome(\"./chromedriver.exe\", options = opciones)\n",
      "<ipython-input-57-21c3e561f60f>:5: DeprecationWarning: find_element_by_* commands are deprecated. Please use find_element() instead\n",
      "  driver.find_element_by_css_selector(\"#onetrust-accept-btn-handler\").click()\n",
      "<ipython-input-57-21c3e561f60f>:6: DeprecationWarning: find_element_by_* commands are deprecated. Please use find_element() instead\n",
      "  driver.find_element_by_css_selector(\"#lithium-root > main > div.crvbs > div.bOoyS._T.cUjdV > div > div > div:nth-child(4) > a\").click()\n",
      "<ipython-input-57-21c3e561f60f>:7: DeprecationWarning: find_element_by_* commands are deprecated. Please use find_element() instead\n",
      "  driver.find_element_by_css_selector(\"body > div.hrjYF > div > form > input.fhEMT._G.B-.z._J.Cj.R0\").send_keys(\"Málaga\")\n",
      "<ipython-input-57-21c3e561f60f>:9: DeprecationWarning: find_element_by_* commands are deprecated. Please use find_element() instead\n",
      "  driver.find_element_by_xpath(\"/html/body/div[3]/div/form/input[1]\").send_keys(Keys.ENTER)\n"
     ]
    }
   ],
   "source": [
    "driver = webdriver.Chrome(\"./chromedriver.exe\", options = opciones)\n",
    "url= \"https://www.tripadvisor.es/\"\n",
    "driver.get(url)\n",
    "driver.implicitly_wait(5)\n",
    "driver.find_element_by_css_selector(\"#onetrust-accept-btn-handler\").click()\n",
    "driver.find_element_by_css_selector(\"#lithium-root > main > div.crvbs > div.bOoyS._T.cUjdV > div > div > div:nth-child(4) > a\").click()\n",
    "driver.find_element_by_css_selector(\"body > div.hrjYF > div > form > input.fhEMT._G.B-.z._J.Cj.R0\").send_keys(\"Málaga\")\n",
    "driver.implicitly_wait(5)\n",
    "driver.find_element_by_xpath(\"/html/body/div[3]/div/form/input[1]\").send_keys(Keys.ENTER)\n",
    "#driver.find_element_by_name(\"Value\").send_keys(Keys.ENTER)\n",
    "#driver.find_element_by_xpath(\"/html/body/div[1]/main/div[3]/div/div/div[2]/form/div/a[2]\").click()"
   ]
  },
  {
   "cell_type": "code",
   "execution_count": 68,
   "id": "bac80e80",
   "metadata": {},
   "outputs": [
    {
     "name": "stdout",
     "output_type": "stream",
     "text": [
      "¿Donde quieres comer?Malaga\n"
     ]
    },
    {
     "name": "stderr",
     "output_type": "stream",
     "text": [
      "<ipython-input-68-fde50c0ac970>:7: DeprecationWarning: executable_path has been deprecated, please pass in a Service object\n",
      "  driver = webdriver.Chrome(\"./chromedriver.exe\", options = opciones)\n"
     ]
    }
   ],
   "source": [
    "ciudad = input('¿Donde quieres comer?')\n",
    "\n",
    "\n",
    "diccionario = {'Madrid': 'g187514', \n",
    "              'Malaga': 'g187438'}\n",
    "\n",
    "for key, values in diccionario.items():\n",
    "    if ciudad == key: \n",
    "        driver = webdriver.Chrome(\"./chromedriver.exe\", options = opciones)\n",
    "        url= f\"https://www.tripadvisor.es/Restaurants-{values}-{key}.html\"\n",
    "        driver.get(url)\n",
    "        driver.implicitly_wait(5)\n",
    "        driver.quit()"
   ]
  },
  {
   "cell_type": "code",
   "execution_count": 64,
   "id": "45a24d47",
   "metadata": {},
   "outputs": [
    {
     "name": "stderr",
     "output_type": "stream",
     "text": [
      "<ipython-input-64-4e98ede19353>:1: DeprecationWarning: executable_path has been deprecated, please pass in a Service object\n",
      "  driver = webdriver.Chrome(\"./chromedriver.exe\", options = opciones)\n"
     ]
    }
   ],
   "source": [
    "driver = webdriver.Chrome(\"./chromedriver.exe\", options = opciones)\n",
    "url= \"https://www.tripadvisor.es/Restaurants-g187514-Madrid.html\"\n",
    "driver.get(url)\n",
    "driver.implicitly_wait(5)\n",
    "driver.quit()"
   ]
  },
  {
   "cell_type": "code",
   "execution_count": 82,
   "id": "e07741c9",
   "metadata": {},
   "outputs": [
    {
     "name": "stderr",
     "output_type": "stream",
     "text": [
      "<ipython-input-82-075fb9d2d0e9>:1: DeprecationWarning: executable_path has been deprecated, please pass in a Service object\n",
      "  driver = webdriver.Chrome(\"./chromedriver.exe\")\n",
      "<ipython-input-82-075fb9d2d0e9>:8: DeprecationWarning: find_element_by_* commands are deprecated. Please use find_element() instead\n",
      "  driver.find_element_by_xpath(\"/html/body/div[2]/div[3]/div[1]/div/div/span/div[1]\").click()\n"
     ]
    },
    {
     "ename": "NoSuchElementException",
     "evalue": "Message: no such element: Unable to locate element: {\"method\":\"xpath\",\"selector\":\"/html/body/div[2]/div[3]/div[1]/div/div/span/div[1]\"}\n  (Session info: chrome=96.0.4664.45)\nStacktrace:\nBacktrace:\n\tOrdinal0 [0x01206903+2517251]\n\tOrdinal0 [0x0119F8E1+2095329]\n\tOrdinal0 [0x010A2848+1058888]\n\tOrdinal0 [0x010CD448+1233992]\n\tOrdinal0 [0x010CD63B+1234491]\n\tOrdinal0 [0x010F7812+1406994]\n\tOrdinal0 [0x010E650A+1336586]\n\tOrdinal0 [0x010F5BBF+1399743]\n\tOrdinal0 [0x010E639B+1336219]\n\tOrdinal0 [0x010C27A7+1189799]\n\tOrdinal0 [0x010C3609+1193481]\n\tGetHandleVerifier [0x01395904+1577972]\n\tGetHandleVerifier [0x01440B97+2279047]\n\tGetHandleVerifier [0x01296D09+534521]\n\tGetHandleVerifier [0x01295DB9+530601]\n\tOrdinal0 [0x011A4FF9+2117625]\n\tOrdinal0 [0x011A98A8+2136232]\n\tOrdinal0 [0x011A99E2+2136546]\n\tOrdinal0 [0x011B3541+2176321]\n\tBaseThreadInitThunk [0x75C8FA29+25]\n\tRtlGetAppContainerNamedObjectPath [0x77CF7A9E+286]\n\tRtlGetAppContainerNamedObjectPath [0x77CF7A6E+238]\n",
     "output_type": "error",
     "traceback": [
      "\u001b[0;31m---------------------------------------------------------------------------\u001b[0m",
      "\u001b[0;31mNoSuchElementException\u001b[0m                    Traceback (most recent call last)",
      "\u001b[0;32m<ipython-input-82-075fb9d2d0e9>\u001b[0m in \u001b[0;36m<module>\u001b[0;34m\u001b[0m\n\u001b[1;32m      6\u001b[0m \u001b[0;34m\u001b[0m\u001b[0m\n\u001b[1;32m      7\u001b[0m \u001b[0;34m\u001b[0m\u001b[0m\n\u001b[0;32m----> 8\u001b[0;31m \u001b[0mdriver\u001b[0m\u001b[0;34m.\u001b[0m\u001b[0mfind_element_by_xpath\u001b[0m\u001b[0;34m(\u001b[0m\u001b[0;34m\"/html/body/div[2]/div[3]/div[1]/div/div/span/div[1]\"\u001b[0m\u001b[0;34m)\u001b[0m\u001b[0;34m.\u001b[0m\u001b[0mclick\u001b[0m\u001b[0;34m(\u001b[0m\u001b[0;34m)\u001b[0m\u001b[0;34m\u001b[0m\u001b[0;34m\u001b[0m\u001b[0m\n\u001b[0m\u001b[1;32m      9\u001b[0m \u001b[0;34m\u001b[0m\u001b[0m\n\u001b[1;32m     10\u001b[0m \u001b[0mdriver\u001b[0m\u001b[0;34m.\u001b[0m\u001b[0mfind_element_by_css_selector\u001b[0m\u001b[0;34m(\u001b[0m\u001b[0;34m\"#whereinput\"\u001b[0m\u001b[0;34m)\u001b[0m\u001b[0;34m.\u001b[0m\u001b[0mclick\u001b[0m\u001b[0;34m(\u001b[0m\u001b[0;34m)\u001b[0m\u001b[0;34m\u001b[0m\u001b[0;34m\u001b[0m\u001b[0m\n",
      "\u001b[0;32m~/anaconda3/envs/ironhack/lib/python3.8/site-packages/selenium/webdriver/remote/webdriver.py\u001b[0m in \u001b[0;36mfind_element_by_xpath\u001b[0;34m(self, xpath)\u001b[0m\n\u001b[1;32m    512\u001b[0m             \u001b[0mstacklevel\u001b[0m\u001b[0;34m=\u001b[0m\u001b[0;36m2\u001b[0m\u001b[0;34m,\u001b[0m\u001b[0;34m\u001b[0m\u001b[0;34m\u001b[0m\u001b[0m\n\u001b[1;32m    513\u001b[0m         )\n\u001b[0;32m--> 514\u001b[0;31m         \u001b[0;32mreturn\u001b[0m \u001b[0mself\u001b[0m\u001b[0;34m.\u001b[0m\u001b[0mfind_element\u001b[0m\u001b[0;34m(\u001b[0m\u001b[0mby\u001b[0m\u001b[0;34m=\u001b[0m\u001b[0mBy\u001b[0m\u001b[0;34m.\u001b[0m\u001b[0mXPATH\u001b[0m\u001b[0;34m,\u001b[0m \u001b[0mvalue\u001b[0m\u001b[0;34m=\u001b[0m\u001b[0mxpath\u001b[0m\u001b[0;34m)\u001b[0m\u001b[0;34m\u001b[0m\u001b[0;34m\u001b[0m\u001b[0m\n\u001b[0m\u001b[1;32m    515\u001b[0m \u001b[0;34m\u001b[0m\u001b[0m\n\u001b[1;32m    516\u001b[0m     \u001b[0;32mdef\u001b[0m \u001b[0mfind_elements_by_xpath\u001b[0m\u001b[0;34m(\u001b[0m\u001b[0mself\u001b[0m\u001b[0;34m,\u001b[0m \u001b[0mxpath\u001b[0m\u001b[0;34m)\u001b[0m \u001b[0;34m->\u001b[0m \u001b[0mWebElement\u001b[0m\u001b[0;34m:\u001b[0m\u001b[0;34m\u001b[0m\u001b[0;34m\u001b[0m\u001b[0m\n",
      "\u001b[0;32m~/anaconda3/envs/ironhack/lib/python3.8/site-packages/selenium/webdriver/remote/webdriver.py\u001b[0m in \u001b[0;36mfind_element\u001b[0;34m(self, by, value)\u001b[0m\n\u001b[1;32m   1236\u001b[0m             \u001b[0mvalue\u001b[0m \u001b[0;34m=\u001b[0m \u001b[0;34m'[name=\"%s\"]'\u001b[0m \u001b[0;34m%\u001b[0m \u001b[0mvalue\u001b[0m\u001b[0;34m\u001b[0m\u001b[0;34m\u001b[0m\u001b[0m\n\u001b[1;32m   1237\u001b[0m \u001b[0;34m\u001b[0m\u001b[0m\n\u001b[0;32m-> 1238\u001b[0;31m         return self.execute(Command.FIND_ELEMENT, {\n\u001b[0m\u001b[1;32m   1239\u001b[0m             \u001b[0;34m'using'\u001b[0m\u001b[0;34m:\u001b[0m \u001b[0mby\u001b[0m\u001b[0;34m,\u001b[0m\u001b[0;34m\u001b[0m\u001b[0;34m\u001b[0m\u001b[0m\n\u001b[1;32m   1240\u001b[0m             'value': value})['value']\n",
      "\u001b[0;32m~/anaconda3/envs/ironhack/lib/python3.8/site-packages/selenium/webdriver/remote/webdriver.py\u001b[0m in \u001b[0;36mexecute\u001b[0;34m(self, driver_command, params)\u001b[0m\n\u001b[1;32m    416\u001b[0m         \u001b[0mresponse\u001b[0m \u001b[0;34m=\u001b[0m \u001b[0mself\u001b[0m\u001b[0;34m.\u001b[0m\u001b[0mcommand_executor\u001b[0m\u001b[0;34m.\u001b[0m\u001b[0mexecute\u001b[0m\u001b[0;34m(\u001b[0m\u001b[0mdriver_command\u001b[0m\u001b[0;34m,\u001b[0m \u001b[0mparams\u001b[0m\u001b[0;34m)\u001b[0m\u001b[0;34m\u001b[0m\u001b[0;34m\u001b[0m\u001b[0m\n\u001b[1;32m    417\u001b[0m         \u001b[0;32mif\u001b[0m \u001b[0mresponse\u001b[0m\u001b[0;34m:\u001b[0m\u001b[0;34m\u001b[0m\u001b[0;34m\u001b[0m\u001b[0m\n\u001b[0;32m--> 418\u001b[0;31m             \u001b[0mself\u001b[0m\u001b[0;34m.\u001b[0m\u001b[0merror_handler\u001b[0m\u001b[0;34m.\u001b[0m\u001b[0mcheck_response\u001b[0m\u001b[0;34m(\u001b[0m\u001b[0mresponse\u001b[0m\u001b[0;34m)\u001b[0m\u001b[0;34m\u001b[0m\u001b[0;34m\u001b[0m\u001b[0m\n\u001b[0m\u001b[1;32m    419\u001b[0m             response['value'] = self._unwrap_value(\n\u001b[1;32m    420\u001b[0m                 response.get('value', None))\n",
      "\u001b[0;32m~/anaconda3/envs/ironhack/lib/python3.8/site-packages/selenium/webdriver/remote/errorhandler.py\u001b[0m in \u001b[0;36mcheck_response\u001b[0;34m(self, response)\u001b[0m\n\u001b[1;32m    241\u001b[0m                 \u001b[0malert_text\u001b[0m \u001b[0;34m=\u001b[0m \u001b[0mvalue\u001b[0m\u001b[0;34m[\u001b[0m\u001b[0;34m'alert'\u001b[0m\u001b[0;34m]\u001b[0m\u001b[0;34m.\u001b[0m\u001b[0mget\u001b[0m\u001b[0;34m(\u001b[0m\u001b[0;34m'text'\u001b[0m\u001b[0;34m)\u001b[0m\u001b[0;34m\u001b[0m\u001b[0;34m\u001b[0m\u001b[0m\n\u001b[1;32m    242\u001b[0m             \u001b[0;32mraise\u001b[0m \u001b[0mexception_class\u001b[0m\u001b[0;34m(\u001b[0m\u001b[0mmessage\u001b[0m\u001b[0;34m,\u001b[0m \u001b[0mscreen\u001b[0m\u001b[0;34m,\u001b[0m \u001b[0mstacktrace\u001b[0m\u001b[0;34m,\u001b[0m \u001b[0malert_text\u001b[0m\u001b[0;34m)\u001b[0m  \u001b[0;31m# type: ignore[call-arg]  # mypy is not smart enough here\u001b[0m\u001b[0;34m\u001b[0m\u001b[0;34m\u001b[0m\u001b[0m\n\u001b[0;32m--> 243\u001b[0;31m         \u001b[0;32mraise\u001b[0m \u001b[0mexception_class\u001b[0m\u001b[0;34m(\u001b[0m\u001b[0mmessage\u001b[0m\u001b[0;34m,\u001b[0m \u001b[0mscreen\u001b[0m\u001b[0;34m,\u001b[0m \u001b[0mstacktrace\u001b[0m\u001b[0;34m)\u001b[0m\u001b[0;34m\u001b[0m\u001b[0;34m\u001b[0m\u001b[0m\n\u001b[0m\u001b[1;32m    244\u001b[0m \u001b[0;34m\u001b[0m\u001b[0m\n\u001b[1;32m    245\u001b[0m     \u001b[0;32mdef\u001b[0m \u001b[0m_value_or_default\u001b[0m\u001b[0;34m(\u001b[0m\u001b[0mself\u001b[0m\u001b[0;34m,\u001b[0m \u001b[0mobj\u001b[0m\u001b[0;34m:\u001b[0m \u001b[0mMapping\u001b[0m\u001b[0;34m[\u001b[0m\u001b[0m_KT\u001b[0m\u001b[0;34m,\u001b[0m \u001b[0m_VT\u001b[0m\u001b[0;34m]\u001b[0m\u001b[0;34m,\u001b[0m \u001b[0mkey\u001b[0m\u001b[0;34m:\u001b[0m \u001b[0m_KT\u001b[0m\u001b[0;34m,\u001b[0m \u001b[0mdefault\u001b[0m\u001b[0;34m:\u001b[0m \u001b[0m_VT\u001b[0m\u001b[0;34m)\u001b[0m \u001b[0;34m->\u001b[0m \u001b[0m_VT\u001b[0m\u001b[0;34m:\u001b[0m\u001b[0;34m\u001b[0m\u001b[0;34m\u001b[0m\u001b[0m\n",
      "\u001b[0;31mNoSuchElementException\u001b[0m: Message: no such element: Unable to locate element: {\"method\":\"xpath\",\"selector\":\"/html/body/div[2]/div[3]/div[1]/div/div/span/div[1]\"}\n  (Session info: chrome=96.0.4664.45)\nStacktrace:\nBacktrace:\n\tOrdinal0 [0x01206903+2517251]\n\tOrdinal0 [0x0119F8E1+2095329]\n\tOrdinal0 [0x010A2848+1058888]\n\tOrdinal0 [0x010CD448+1233992]\n\tOrdinal0 [0x010CD63B+1234491]\n\tOrdinal0 [0x010F7812+1406994]\n\tOrdinal0 [0x010E650A+1336586]\n\tOrdinal0 [0x010F5BBF+1399743]\n\tOrdinal0 [0x010E639B+1336219]\n\tOrdinal0 [0x010C27A7+1189799]\n\tOrdinal0 [0x010C3609+1193481]\n\tGetHandleVerifier [0x01395904+1577972]\n\tGetHandleVerifier [0x01440B97+2279047]\n\tGetHandleVerifier [0x01296D09+534521]\n\tGetHandleVerifier [0x01295DB9+530601]\n\tOrdinal0 [0x011A4FF9+2117625]\n\tOrdinal0 [0x011A98A8+2136232]\n\tOrdinal0 [0x011A99E2+2136546]\n\tOrdinal0 [0x011B3541+2176321]\n\tBaseThreadInitThunk [0x75C8FA29+25]\n\tRtlGetAppContainerNamedObjectPath [0x77CF7A9E+286]\n\tRtlGetAppContainerNamedObjectPath [0x77CF7A6E+238]\n"
     ]
    }
   ],
   "source": [
    "driver = webdriver.Chrome(\"./chromedriver.exe\")\n",
    "time.sleep(10)\n",
    "url= \"https://www.thefork.es/\"\n",
    "driver.get(url)\n",
    "time.sleep(10)\n",
    "\n",
    "\n",
    "driver.find_element_by_xpath(\"/html/body/div[2]/div[3]/div[1]/div/div/span/div[1]\").click()\n",
    "\n",
    "driver.find_element_by_css_selector(\"#whereinput\").click()\n",
    "\n",
    "driver.find_element_by_css_selector(\"#whereinput\").send_keys(\"Málaga\")\n",
    "driver.implicitly_wait(5)\n",
    "driver.find_element_by_xpath(\"/html/body/div[1]/div/main/div[2]/div/div/div/div[2]/div/div/div[2]/div/div[1]/span/span/label/span/input\").click()"
   ]
  },
  {
   "cell_type": "code",
   "execution_count": null,
   "id": "078523ae",
   "metadata": {},
   "outputs": [],
   "source": []
  }
 ],
 "metadata": {
  "kernelspec": {
   "display_name": "ironhack",
   "language": "python",
   "name": "ironhack"
  },
  "language_info": {
   "codemirror_mode": {
    "name": "ipython",
    "version": 3
   },
   "file_extension": ".py",
   "mimetype": "text/x-python",
   "name": "python",
   "nbconvert_exporter": "python",
   "pygments_lexer": "ipython3",
   "version": "3.8.5"
  }
 },
 "nbformat": 4,
 "nbformat_minor": 5
}
