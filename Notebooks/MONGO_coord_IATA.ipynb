{
 "cells": [
  {
   "cell_type": "code",
   "execution_count": 1,
   "metadata": {},
   "outputs": [],
   "source": [
    "import ast\n",
    "import pandas as pd\n",
    "from dotenv import load_dotenv\n",
    "import os\n",
    "import sys\n",
    "sys.path.append('../')\n",
    "\n",
    "import src.geo_functions as gf\n",
    "import src.flights_functions as ff\n",
    "import src.divisas_functions as divf"
   ]
  },
  {
   "cell_type": "code",
   "execution_count": 2,
   "metadata": {},
   "outputs": [],
   "source": [
    "from geopy.geocoders import Nominatim\n",
    "from geopy.distance import geodesic \n",
    "from pymongo import MongoClient\n",
    "import json\n",
    "from bson.json_util import dumps\n",
    "import pandas as pd\n",
    "import re\n",
    "import unicodedata\n",
    "from selenium import webdriver\n",
    "from selenium.webdriver.chrome.options import Options\n",
    "import time\n",
    "import pandas as pd\n",
    "from selenium.webdriver.support.ui import Select\n",
    "from webdriver_manager.chrome import ChromeDriverManager\n",
    "from selenium.webdriver.common.keys import Keys\n",
    "from deep_translator import (MyMemoryTranslator)\n",
    "import pandas as pd\n",
    "from pymongo import MongoClient\n",
    "from pymongo import GEOSPHERE\n",
    "import json\n",
    "from bson.json_util import dumps\n",
    "import ast\n",
    "from dotenv import load_dotenv\n",
    "from amadeus import Client, ResponseError\n",
    "from amadeus import Location"
   ]
  },
  {
   "cell_type": "code",
   "execution_count": 3,
   "metadata": {},
   "outputs": [
    {
     "name": "stderr",
     "output_type": "stream",
     "text": [
      "/home/lydia/anaconda3/envs/ironhack/lib/python3.8/site-packages/pandas/core/frame.py:4906: SettingWithCopyWarning: \n",
      "A value is trying to be set on a copy of a slice from a DataFrame\n",
      "\n",
      "See the caveats in the documentation: https://pandas.pydata.org/pandas-docs/stable/user_guide/indexing.html#returning-a-view-versus-a-copy\n",
      "  return super().drop(\n"
     ]
    }
   ],
   "source": [
    "df=gf.df_geonear(\"Madrid\", 800)"
   ]
  },
  {
   "cell_type": "markdown",
   "metadata": {},
   "source": [
    "kms=list(df.City)"
   ]
  },
  {
   "cell_type": "code",
   "execution_count": 4,
   "metadata": {},
   "outputs": [
    {
     "ename": "NameError",
     "evalue": "name 'kms' is not defined",
     "output_type": "error",
     "traceback": [
      "\u001b[0;31m---------------------------------------------------------------------------\u001b[0m",
      "\u001b[0;31mNameError\u001b[0m                                 Traceback (most recent call last)",
      "\u001b[0;32m<ipython-input-4-a7279947441b>\u001b[0m in \u001b[0;36m<module>\u001b[0;34m\u001b[0m\n\u001b[0;32m----> 1\u001b[0;31m \u001b[0mkms\u001b[0m\u001b[0;34m\u001b[0m\u001b[0;34m\u001b[0m\u001b[0m\n\u001b[0m",
      "\u001b[0;31mNameError\u001b[0m: name 'kms' is not defined"
     ]
    }
   ],
   "source": [
    "kms"
   ]
  },
  {
   "cell_type": "code",
   "execution_count": null,
   "metadata": {},
   "outputs": [],
   "source": [
    "#lista_va=[]\n",
    "#for k in kms:\n",
    "    #print(k)\n",
    "    #dest=ff.get_cheapest_price(\"Madrid\",k,\"2021-12-18\")\n",
    "    #lista_va.append(dest)"
   ]
  },
  {
   "cell_type": "markdown",
   "metadata": {},
   "source": [
    "### IATA CODES:"
   ]
  },
  {
   "cell_type": "code",
   "execution_count": null,
   "metadata": {},
   "outputs": [],
   "source": [
    "df=gf.dicc_to_df() "
   ]
  },
  {
   "cell_type": "code",
   "execution_count": null,
   "metadata": {},
   "outputs": [],
   "source": [
    "df.sample()"
   ]
  },
  {
   "cell_type": "code",
   "execution_count": null,
   "metadata": {},
   "outputs": [],
   "source": [
    "not_spain=df[df[\"Countries\"]!=\"Espana\"]"
   ]
  },
  {
   "cell_type": "code",
   "execution_count": null,
   "metadata": {},
   "outputs": [],
   "source": [
    "spain=df[df[\"Countries\"]==\"Espana\"]"
   ]
  },
  {
   "cell_type": "code",
   "execution_count": null,
   "metadata": {},
   "outputs": [],
   "source": [
    "not_spain[\"Cities\"]=not_spain.Cities.apply(gf.translator)"
   ]
  },
  {
   "cell_type": "code",
   "execution_count": null,
   "metadata": {},
   "outputs": [],
   "source": [
    "not_spain[\"Countries\"]=not_spain.Countries.apply(gf.translator)"
   ]
  },
  {
   "cell_type": "code",
   "execution_count": null,
   "metadata": {},
   "outputs": [],
   "source": [
    "IATA = pd.concat([not_spain,spain], axis=0)"
   ]
  },
  {
   "cell_type": "code",
   "execution_count": null,
   "metadata": {},
   "outputs": [],
   "source": [
    "IATA.to_csv(\"../Data/IATAlimpio.csv\",index=False)"
   ]
  },
  {
   "cell_type": "code",
   "execution_count": null,
   "metadata": {},
   "outputs": [],
   "source": [
    "IATA=pd.read_csv(\"../Data/IATAlimpio.csv\")"
   ]
  },
  {
   "cell_type": "code",
   "execution_count": null,
   "metadata": {
    "scrolled": true
   },
   "outputs": [],
   "source": [
    "location=IATA.Cities.apply(gf.get_coordenadas_tipo_point)"
   ]
  },
  {
   "cell_type": "code",
   "execution_count": null,
   "metadata": {},
   "outputs": [],
   "source": [
    "IATA[\"Type Point\"]=location"
   ]
  },
  {
   "cell_type": "code",
   "execution_count": null,
   "metadata": {},
   "outputs": [],
   "source": [
    "IATA[\"Type Point\"]=IATA[\"Type Point\"].apply(gf.string_dicc)"
   ]
  },
  {
   "cell_type": "code",
   "execution_count": null,
   "metadata": {},
   "outputs": [],
   "source": [
    "IATA.head()"
   ]
  },
  {
   "cell_type": "code",
   "execution_count": null,
   "metadata": {},
   "outputs": [],
   "source": [
    "#IATA[\"Type Point\"]=IATA[\"Type Point\"].apply(lambda x: ast.literal_eval(x))"
   ]
  },
  {
   "cell_type": "code",
   "execution_count": null,
   "metadata": {},
   "outputs": [],
   "source": [
    "IATA.columns=[\"IATA\",\"Country\",\"City\",\"Location\"]"
   ]
  },
  {
   "cell_type": "code",
   "execution_count": null,
   "metadata": {},
   "outputs": [],
   "source": [
    "IATA.sample()"
   ]
  },
  {
   "cell_type": "code",
   "execution_count": null,
   "metadata": {},
   "outputs": [],
   "source": [
    "IATA[\"Country\"]=IATA.Country.apply(lambda x: x.lstrip())"
   ]
  },
  {
   "cell_type": "code",
   "execution_count": null,
   "metadata": {},
   "outputs": [],
   "source": [
    "IATA.shape"
   ]
  },
  {
   "cell_type": "code",
   "execution_count": null,
   "metadata": {},
   "outputs": [],
   "source": [
    "len(list(IATA.City.unique()))\n"
   ]
  },
  {
   "cell_type": "code",
   "execution_count": null,
   "metadata": {},
   "outputs": [],
   "source": [
    "dicc_IATA=IATA.to_dict('records')"
   ]
  },
  {
   "cell_type": "code",
   "execution_count": null,
   "metadata": {},
   "outputs": [],
   "source": [
    "lista_final=list(dicc_IATA)"
   ]
  },
  {
   "cell_type": "code",
   "execution_count": 5,
   "metadata": {},
   "outputs": [],
   "source": [
    "def insert_Mongo():\n",
    "    \"\"\"\n",
    "    Esta función inserta los datos geográficos en Mongo DB.\n",
    "    \"\"\"\n",
    "    client = MongoClient(\"localhost:27017\")\n",
    "    db = client.get_database(\"Tu_viaje_ideal_en_un_click\")\n",
    "    coordenadas = db[\"coordenadas\"]  \n",
    "    coordenadas.insert_many(lista_final)\n",
    " "
   ]
  },
  {
   "cell_type": "code",
   "execution_count": null,
   "metadata": {},
   "outputs": [],
   "source": [
    "insert_Mongo()"
   ]
  },
  {
   "cell_type": "code",
   "execution_count": null,
   "metadata": {},
   "outputs": [],
   "source": [
    "#conexión con Mongo:\n",
    "client = MongoClient(\"localhost:27017\")\n",
    "db = client.get_database(\"Tu_viaje_ideal_en_un_click\")\n",
    "c = db.get_collection(\"coordenadas\")"
   ]
  },
  {
   "cell_type": "code",
   "execution_count": null,
   "metadata": {},
   "outputs": [],
   "source": [
    "#Borro:\n",
    "c.delete_many({'Location.coordinates': 'nwoknU'})"
   ]
  },
  {
   "cell_type": "code",
   "execution_count": 6,
   "metadata": {},
   "outputs": [],
   "source": [
    "def get_coordenadas(city):\n",
    "    \"\"\"\n",
    "    Esta función saca las coordenadas de la ciudad que le pases.\n",
    "    Args: una ciudad (string).\n",
    "    Return: Las coordeandas de la ciudad que le paso como argumento (latitud y longitud).\n",
    "    \"\"\"\n",
    "    try:\n",
    "        geolocator = Nominatim(user_agent=\"Lydia\")\n",
    "        location = geolocator.geocode(query=city, exactly_one=True,timeout=200)\n",
    "        return location[1]\n",
    "    except:\n",
    "        return \"Unkown\""
   ]
  },
  {
   "cell_type": "code",
   "execution_count": 7,
   "metadata": {},
   "outputs": [
    {
     "data": {
      "text/plain": [
       "(40.4167047, -3.7035825)"
      ]
     },
     "execution_count": 7,
     "metadata": {},
     "output_type": "execute_result"
    }
   ],
   "source": [
    "get_coordenadas(\"Madrid\")"
   ]
  },
  {
   "cell_type": "code",
   "execution_count": 8,
   "metadata": {},
   "outputs": [],
   "source": [
    "def geonear(city, radio):\n",
    "    \"\"\"\n",
    "    Esta función devuelve todas las ciudades contenidas dentro del radio que le paso desde el punto de origen especificado.\n",
    "    Args:city (string).\n",
    "         radio en kms (int).\n",
    "    Return: lista de ciudades contenidas en el radio especificado.\n",
    "    \"\"\"\n",
    "    \n",
    "    client = MongoClient(\"localhost:27017\")\n",
    "    db = client.get_database(\"Tu_viaje_ideal_en_un_click\")\n",
    "    coordenadas = db.get_collection(\"coordenadas\")\n",
    "    coord=get_coordenadas(city)\n",
    "    query_travel=[{\n",
    "    \"$geoNear\": {'near': list(coord[::-1]),\n",
    "             'distanceField': 'distance',\n",
    "             'maxDistance': radio,\n",
    "             'distanceMultiplier': 6371,\n",
    "             'spherical'  : True}}]\n",
    "\n",
    "    geoloc_=coordenadas.aggregate(query_travel)\n",
    "    geoquery_travel=json.loads(dumps(geoloc_))\n",
    "    return geoquery_travel"
   ]
  },
  {
   "cell_type": "code",
   "execution_count": 9,
   "metadata": {},
   "outputs": [],
   "source": [
    "def df_geonear(city, radio):\n",
    "    \"\"\"\n",
    "    Esta función sirve para obtener un df en base a la lista de diccionarios obtenida por la función \"Geonear\".\n",
    "    Args: city (string).\n",
    "          radio en kms (int)\n",
    "    Return: df con todas las ciudades que están dentro de mi radio con sus respectivas distancias.\n",
    "    \"\"\"\n",
    "    geo=geonear(city, radio)\n",
    "    df= pd.DataFrame(geo)\n",
    "    df.distance=df.distance.apply([lambda x: int(x)])\n",
    "    df2=df[df[\"distance\"] < radio]\n",
    "    df2.drop(columns=[\"_id\"], inplace=True)\n",
    "    df3=df2.drop(['IATA', 'Country', 'Location'], axis = 1)\n",
    "    df3.columns=[\"City\", \"Distance(kms)\"]\n",
    "    return df3.iloc[1:]"
   ]
  },
  {
   "cell_type": "code",
   "execution_count": 10,
   "metadata": {},
   "outputs": [
    {
     "ename": "TypeError",
     "evalue": "df_geonear() missing 1 required positional argument: 'radio'",
     "output_type": "error",
     "traceback": [
      "\u001b[0;31m---------------------------------------------------------------------------\u001b[0m",
      "\u001b[0;31mTypeError\u001b[0m                                 Traceback (most recent call last)",
      "\u001b[0;32m<ipython-input-10-31df63efa8fd>\u001b[0m in \u001b[0;36m<module>\u001b[0;34m\u001b[0m\n\u001b[0;32m----> 1\u001b[0;31m \u001b[0mdf_geonear\u001b[0m\u001b[0;34m(\u001b[0m\u001b[0;36m800\u001b[0m\u001b[0;34m)\u001b[0m\u001b[0;34m\u001b[0m\u001b[0;34m\u001b[0m\u001b[0m\n\u001b[0m",
      "\u001b[0;31mTypeError\u001b[0m: df_geonear() missing 1 required positional argument: 'radio'"
     ]
    }
   ],
   "source": [
    "df_geonear(800)"
   ]
  },
  {
   "cell_type": "code",
   "execution_count": 11,
   "metadata": {},
   "outputs": [],
   "source": [
    "def get_IATA(city):\n",
    "    \"\"\"\n",
    "    Esta función devuelve el código IATA de un aeropuerto.\n",
    "    Args: Ciudad (string).\n",
    "    Return: Código IATA (string de tres letras).\n",
    "    \"\"\"\n",
    "    client = MongoClient(\"localhost:27017\")\n",
    "    db = client.get_database(\"Tu_viaje_ideal_en_un_click\")\n",
    "    c = db.get_collection(\"coordenadas\")\n",
    "    cond={\"City\": city}\n",
    "    #pr={\"IATA\": 1,\"Country\":0, \"_id\":0, \"City\":1, \"Location\":0}\n",
    "    IATA=list(c.find(cond))\n",
    "    IATASS=[]\n",
    "    IATASS.append(IATA[0]['IATA'])\n",
    "    return IATA[0]['IATA']"
   ]
  },
  {
   "cell_type": "code",
   "execution_count": 12,
   "metadata": {},
   "outputs": [
    {
     "data": {
      "text/plain": [
       "'DBV'"
      ]
     },
     "execution_count": 12,
     "metadata": {},
     "output_type": "execute_result"
    }
   ],
   "source": [
    "get_IATA(\"Dubrovnik\")"
   ]
  },
  {
   "cell_type": "code",
   "execution_count": 13,
   "metadata": {},
   "outputs": [],
   "source": [
    "def get_cheapest_price(origen,destino,fecha):\n",
    "    \"\"\"\n",
    "    Esta función me devuelve el precio más bajo para un origen, destino y fecha dadas por el usuario.\n",
    "    Args:origen = un str de 3 letras (el código IATA del aeropuerto de origen).\n",
    "         destino = un str de 3 letras (el código IATA del aeropuerto de destino).\n",
    "         fecha = un str en formato yyyy-mm-dd con la fecha de vuelo.\n",
    "    Return: El precio más bajo para el vuelo seleccionado.\n",
    "    \n",
    "    \"\"\"\n",
    "    origen=get_IATA(origen)\n",
    "    #destino=get_IATA(destino)[0]\n",
    "    \n",
    "\n",
    "    load_dotenv()\n",
    "    amadeus = Client(\n",
    "        client_id= os.getenv(\"API_Key\"),\n",
    "        client_secret= os.getenv(\"API_Secret\")\n",
    ")\n",
    "    try:\n",
    "        response = amadeus.shopping.flight_offers_search.get(\n",
    "            originLocationCode=origen,\n",
    "            destinationLocationCode=destino,\n",
    "            departureDate=fecha,\n",
    "            adults=1)\n",
    "        #print(response.data)\n",
    "        list_prices=[]\n",
    "        for i in range(len(response.data)):\n",
    "            price=response.data[i]['price']['total']\n",
    "            list_prices.append(price)\n",
    "\n",
    "    except ResponseError as error:\n",
    "        return \"There is not any fight for the selected date\"\n",
    "    if len(list_prices)==0:\n",
    "        return \"There is not any fight for the selected date:(\"\n",
    "    else: \n",
    "        return min(list_prices)\n"
   ]
  },
  {
   "cell_type": "code",
   "execution_count": 81,
   "metadata": {},
   "outputs": [
    {
     "name": "stdout",
     "output_type": "stream",
     "text": [
      "MAD\n",
      "ZAZ\n"
     ]
    },
    {
     "data": {
      "text/plain": [
       "'102.63'"
      ]
     },
     "execution_count": 81,
     "metadata": {},
     "output_type": "execute_result"
    }
   ],
   "source": [
    "get_cheapest_price(\"Madrid\",\"ZAZ\",\"2022-02-14\")"
   ]
  },
  {
   "cell_type": "code",
   "execution_count": 14,
   "metadata": {},
   "outputs": [
    {
     "data": {
      "text/plain": [
       "'Madrid'"
      ]
     },
     "execution_count": 14,
     "metadata": {},
     "output_type": "execute_result"
    }
   ],
   "source": [
    "city = \"Madrid\"\n",
    "city"
   ]
  },
  {
   "cell_type": "code",
   "execution_count": 15,
   "metadata": {},
   "outputs": [],
   "source": [
    "radio = 1000"
   ]
  },
  {
   "cell_type": "code",
   "execution_count": 16,
   "metadata": {},
   "outputs": [],
   "source": [
    "origen=get_IATA(city)"
   ]
  },
  {
   "cell_type": "code",
   "execution_count": 17,
   "metadata": {},
   "outputs": [
    {
     "data": {
      "text/plain": [
       "'MAD'"
      ]
     },
     "execution_count": 17,
     "metadata": {},
     "output_type": "execute_result"
    }
   ],
   "source": [
    "origen"
   ]
  },
  {
   "cell_type": "code",
   "execution_count": 18,
   "metadata": {},
   "outputs": [],
   "source": [
    "destinos=df_geonear(city, radio)"
   ]
  },
  {
   "cell_type": "code",
   "execution_count": 19,
   "metadata": {},
   "outputs": [
    {
     "data": {
      "text/html": [
       "<div>\n",
       "<style scoped>\n",
       "    .dataframe tbody tr th:only-of-type {\n",
       "        vertical-align: middle;\n",
       "    }\n",
       "\n",
       "    .dataframe tbody tr th {\n",
       "        vertical-align: top;\n",
       "    }\n",
       "\n",
       "    .dataframe thead th {\n",
       "        text-align: right;\n",
       "    }\n",
       "</style>\n",
       "<table border=\"1\" class=\"dataframe\">\n",
       "  <thead>\n",
       "    <tr style=\"text-align: right;\">\n",
       "      <th></th>\n",
       "      <th>City</th>\n",
       "      <th>Distance(kms)</th>\n",
       "    </tr>\n",
       "  </thead>\n",
       "  <tbody>\n",
       "    <tr>\n",
       "      <th>1</th>\n",
       "      <td>Tambor</td>\n",
       "      <td>11</td>\n",
       "    </tr>\n",
       "    <tr>\n",
       "      <th>2</th>\n",
       "      <td>Toledo</td>\n",
       "      <td>68</td>\n",
       "    </tr>\n",
       "    <tr>\n",
       "      <th>3</th>\n",
       "      <td>Toledo</td>\n",
       "      <td>68</td>\n",
       "    </tr>\n",
       "    <tr>\n",
       "      <th>4</th>\n",
       "      <td>Buenaventura</td>\n",
       "      <td>100</td>\n",
       "    </tr>\n",
       "    <tr>\n",
       "      <th>5</th>\n",
       "      <td>Manzanillo</td>\n",
       "      <td>136</td>\n",
       "    </tr>\n",
       "  </tbody>\n",
       "</table>\n",
       "</div>"
      ],
      "text/plain": [
       "           City  Distance(kms)\n",
       "1        Tambor             11\n",
       "2        Toledo             68\n",
       "3        Toledo             68\n",
       "4  Buenaventura            100\n",
       "5    Manzanillo            136"
      ]
     },
     "execution_count": 19,
     "metadata": {},
     "output_type": "execute_result"
    }
   ],
   "source": [
    "destinos.head()"
   ]
  },
  {
   "cell_type": "code",
   "execution_count": 20,
   "metadata": {},
   "outputs": [
    {
     "data": {
      "text/plain": [
       "['Tambor',\n",
       " 'Toledo',\n",
       " 'Toledo',\n",
       " 'Buenaventura',\n",
       " 'Manzanillo',\n",
       " 'Cuenca',\n",
       " 'Valladolid',\n",
       " 'Salamanca',\n",
       " 'Trujillo',\n",
       " 'Burgos']"
      ]
     },
     "execution_count": 20,
     "metadata": {},
     "output_type": "execute_result"
    }
   ],
   "source": [
    "lista_destinos = list(destinos.City)\n",
    "lista_destinos[:10]"
   ]
  },
  {
   "cell_type": "code",
   "execution_count": 21,
   "metadata": {},
   "outputs": [],
   "source": [
    "IATAS_=[]\n",
    "\n",
    "for d in lista_destinos:\n",
    "    iata = get_IATA(d)\n",
    "    IATAS_.append(iata)\n"
   ]
  },
  {
   "cell_type": "code",
   "execution_count": 22,
   "metadata": {},
   "outputs": [
    {
     "data": {
      "text/plain": [
       "['TMU', 'TOL', 'TOL', 'BUN', 'ZLO', 'CUE', 'VLL', 'SLM', 'TRU', 'RGS']"
      ]
     },
     "execution_count": 22,
     "metadata": {},
     "output_type": "execute_result"
    }
   ],
   "source": [
    "IATAS_[:10]"
   ]
  },
  {
   "cell_type": "code",
   "execution_count": 23,
   "metadata": {},
   "outputs": [
    {
     "name": "stdout",
     "output_type": "stream",
     "text": [
      "TMU\n",
      "MAD\n",
      "TMU\n",
      "TOL\n",
      "MAD\n",
      "TOL\n",
      "TOL\n",
      "MAD\n",
      "TOL\n",
      "BUN\n",
      "MAD\n",
      "BUN\n",
      "ZLO\n",
      "MAD\n",
      "ZLO\n",
      "CUE\n",
      "MAD\n",
      "CUE\n",
      "VLL\n",
      "MAD\n",
      "VLL\n",
      "SLM\n",
      "MAD\n",
      "SLM\n",
      "TRU\n",
      "MAD\n",
      "TRU\n",
      "RGS\n",
      "MAD\n",
      "RGS\n",
      "BOJ\n",
      "MAD\n",
      "BOJ\n",
      "ZOS\n",
      "MAD\n",
      "ZOS\n",
      "IRJ\n",
      "MAD\n",
      "IRJ\n",
      "RJL\n",
      "MAD\n",
      "RJL\n",
      "ZAZ\n",
      "MAD\n",
      "ZAZ\n",
      "JAE\n",
      "MAD\n",
      "JAE\n",
      "MID\n",
      "MAD\n",
      "MID\n",
      "VIT\n",
      "MAD\n",
      "VIT\n",
      "VIT\n",
      "MAD\n",
      "VIT\n",
      "BGC\n",
      "MAD\n",
      "BGC\n",
      "CDV\n",
      "MAD\n",
      "CDV\n",
      "GRW\n",
      "MAD\n",
      "GRW\n",
      "LUO\n",
      "MAD\n",
      "LUO\n",
      "VLC\n",
      "MAD\n",
      "VLC\n",
      "VLC\n",
      "MAD\n",
      "VLC\n",
      "BJX\n",
      "MAD\n",
      "BJX\n",
      "BJX\n",
      "MAD\n",
      "BJX\n",
      "VRL\n",
      "MAD\n",
      "VRL\n",
      "LGP\n",
      "MAD\n",
      "LGP\n",
      "RMU\n",
      "MAD\n",
      "RMU\n",
      "CDT\n",
      "MAD\n",
      "CDT\n",
      "PNA\n",
      "MAD\n",
      "PNA\n",
      "BIO\n",
      "MAD\n",
      "BIO\n",
      "BUW\n",
      "MAD\n",
      "BUW\n",
      "BJZ\n",
      "MAD\n",
      "BJZ\n",
      "ATM\n",
      "MAD\n",
      "ATM\n",
      "SDR\n",
      "MAD\n",
      "SDR\n",
      "SID\n",
      "MAD\n",
      "SID\n",
      "EAS\n",
      "MAD\n",
      "EAS\n",
      "VSE\n",
      "MAD\n",
      "VSE\n",
      "ALC\n",
      "MAD\n",
      "ALC\n",
      "GRX\n",
      "MAD\n",
      "GRX\n",
      "LOH\n",
      "MAD\n",
      "LOH\n",
      "OVD\n",
      "MAD\n",
      "OVD\n",
      "IXX\n",
      "MAD\n",
      "IXX\n",
      "BIQ\n",
      "MAD\n",
      "BIQ\n",
      "ILD\n",
      "MAD\n",
      "ILD\n",
      "SVQ\n",
      "MAD\n",
      "SVQ\n",
      "EUX\n",
      "MAD\n",
      "EUX\n",
      "SMI\n",
      "MAD\n",
      "SMI\n",
      "EBA\n",
      "MAD\n",
      "EBA\n",
      "LEI\n",
      "MAD\n",
      "LEI\n",
      "REU\n",
      "MAD\n",
      "REU\n",
      "AGP\n",
      "MAD\n",
      "AGP\n",
      "GAN\n",
      "MAD\n",
      "GAN\n",
      "JSY\n",
      "MAD\n",
      "JSY\n",
      "OPO\n",
      "MAD\n",
      "OPO\n",
      "PUF\n",
      "MAD\n",
      "PUF\n",
      "LDE\n",
      "MAD\n",
      "LDE\n",
      "DLI\n",
      "MAD\n",
      "DLI\n",
      "GGF\n",
      "MAD\n",
      "GGF\n",
      "GGF\n",
      "MAD\n",
      "GGF\n",
      "STM\n",
      "MAD\n",
      "STM\n",
      "VGO\n",
      "MAD\n",
      "VGO\n",
      "XRY\n",
      "MAD\n",
      "XRY\n",
      "IBZ\n",
      "MAD\n",
      "IBZ\n",
      "OBI\n",
      "MAD\n",
      "OBI\n",
      "LEU\n",
      "MAD\n",
      "LEU\n",
      "SCQ\n",
      "MAD\n",
      "SCQ\n",
      "CVU\n",
      "MAD\n",
      "CVU\n",
      "GIB\n",
      "MAD\n",
      "GIB\n",
      "LIS\n",
      "MAD\n",
      "LIS\n",
      "BCN\n",
      "MAD\n",
      "BCN\n",
      "BCN\n",
      "MAD\n",
      "BCN\n",
      "LCG\n",
      "MAD\n",
      "LCG\n",
      "JCU\n",
      "MAD\n",
      "JCU\n",
      "VPY\n",
      "MAD\n",
      "VPY\n",
      "CAT\n",
      "MAD\n",
      "CAT\n",
      "FAO\n",
      "MAD\n",
      "FAO\n",
      "TNG\n",
      "MAD\n",
      "TNG\n",
      "PMI\n",
      "MAD\n",
      "PMI\n",
      "TOH\n",
      "MAD\n",
      "TOH\n",
      "TLS\n",
      "MAD\n",
      "TLS\n",
      "PRM\n",
      "MAD\n",
      "PRM\n",
      "BOD\n",
      "MAD\n",
      "BOD\n",
      "TTU\n",
      "MAD\n",
      "TTU\n",
      "GRO\n",
      "MAD\n",
      "GRO\n",
      "MLN\n",
      "MAD\n",
      "MLN\n",
      "AHU\n",
      "MAD\n",
      "AHU\n",
      "RHR\n",
      "MAD\n",
      "RHR\n",
      "ORN\n",
      "MAD\n",
      "ORN\n",
      "CCF\n",
      "MAD\n",
      "CCF\n",
      "EGC\n",
      "MAD\n",
      "EGC\n",
      "NDR\n",
      "MAD\n",
      "NDR\n",
      "PGF\n",
      "MAD\n",
      "PGF\n",
      "VRC\n",
      "MAD\n",
      "VRC\n",
      "CFK\n",
      "MAD\n",
      "CFK\n",
      "TLM\n",
      "MAD\n",
      "TLM\n",
      "OUD\n",
      "MAD\n",
      "OUD\n",
      "BZR\n",
      "MAD\n",
      "BZR\n",
      "MAH\n",
      "MAD\n",
      "MAH\n",
      "LRH\n",
      "MAD\n",
      "LRH\n",
      "RDZ\n",
      "MAD\n",
      "RDZ\n",
      "BVE\n",
      "MAD\n",
      "BVE\n",
      "PMW\n",
      "MAD\n",
      "PMW\n",
      "AUR\n",
      "MAD\n",
      "AUR\n",
      "ALG\n",
      "MAD\n",
      "ALG\n",
      "MPL\n",
      "MAD\n",
      "MPL\n",
      "FEZ\n",
      "MAD\n",
      "FEZ\n",
      "LIG\n",
      "MAD\n",
      "LIG\n",
      "MSR\n",
      "MAD\n",
      "MSR\n",
      "PIS\n",
      "MAD\n",
      "PIS\n",
      "RBA\n",
      "MAD\n",
      "RBA\n",
      "FNI\n",
      "MAD\n",
      "FNI\n",
      "TID\n",
      "MAD\n",
      "TID\n",
      "SNR\n",
      "MAD\n",
      "SNR\n",
      "NTE\n",
      "MAD\n",
      "NTE\n",
      "AMQ\n",
      "MAD\n",
      "AMQ\n",
      "CDR\n",
      "MAD\n",
      "CDR\n",
      "AVN\n",
      "MAD\n",
      "AVN\n",
      "LPY\n",
      "MAD\n",
      "LPY\n",
      "VNE\n",
      "MAD\n",
      "VNE\n",
      "VAN\n",
      "MAD\n",
      "VAN\n",
      "CFE\n",
      "MAD\n",
      "CFE\n",
      "LRT\n",
      "MAD\n",
      "LRT\n",
      "MRS\n",
      "MAD\n",
      "MRS\n",
      "MZW\n",
      "MAD\n",
      "MZW\n",
      "STV\n",
      "MAD\n",
      "STV\n",
      "CMN\n",
      "MAD\n",
      "CMN\n",
      "UIP\n",
      "MAD\n",
      "UIP\n",
      "TUF\n",
      "MAD\n",
      "TUF\n",
      "TLN\n",
      "MAD\n",
      "TLN\n",
      "BJA\n",
      "MAD\n",
      "BJA\n",
      "RNS\n",
      "MAD\n",
      "RNS\n",
      "BES\n",
      "MAD\n",
      "BES\n",
      "SSR\n",
      "MAD\n",
      "SSR\n",
      "LPM\n",
      "MAD\n",
      "LPM\n",
      "LYS\n",
      "MAD\n",
      "LYS\n",
      "MRZ\n",
      "MAD\n",
      "MRZ\n",
      "QSF\n",
      "MAD\n",
      "QSF\n",
      "LOO\n",
      "MAD\n",
      "LOO\n",
      "GJL\n",
      "MAD\n",
      "GJL\n",
      "GNB\n",
      "MAD\n",
      "GNB\n",
      "YBR\n",
      "MAD\n",
      "YBR\n",
      "ERH\n",
      "MAD\n",
      "ERH\n",
      "CMF\n",
      "MAD\n",
      "CMF\n",
      "EBH\n",
      "MAD\n",
      "EBH\n",
      "NCE\n",
      "MAD\n",
      "NCE\n"
     ]
    }
   ],
   "source": [
    "precios=[]\n",
    "for i in IATAS_:\n",
    "    print(i)\n",
    "    try:\n",
    "        precio=get_cheapest_price(city,i,\"2022-02-14\")\n",
    "        precios.append(precio)\n",
    "    except:\n",
    "        pass"
   ]
  },
  {
   "cell_type": "code",
   "execution_count": 24,
   "metadata": {
    "scrolled": true
   },
   "outputs": [
    {
     "data": {
      "text/plain": [
       "['There is not any fight for the selected date:(',\n",
       " '2460.96',\n",
       " 'There is not any fight for the selected date:(',\n",
       " 'There is not any fight for the selected date:(',\n",
       " '1340.75',\n",
       " '332.90',\n",
       " 'There is not any fight for the selected date:(',\n",
       " 'There is not any fight for the selected date:(',\n",
       " '1001.93',\n",
       " '312.29',\n",
       " 'There is not any fight for the selected date:(',\n",
       " '1070.19',\n",
       " '2358.86',\n",
       " 'There is not any fight for the selected date:(',\n",
       " '102.63',\n",
       " '304.31',\n",
       " '1343.73',\n",
       " 'There is not any fight for the selected date:(',\n",
       " 'There is not any fight for the selected date:(',\n",
       " 'There is not any fight for the selected date:(',\n",
       " '1645.28',\n",
       " '278.19',\n",
       " '932.80',\n",
       " '103.58',\n",
       " '103.58',\n",
       " '1340.75',\n",
       " '1340.75',\n",
       " 'There is not any fight for the selected date:(',\n",
       " '1424.42',\n",
       " 'There is not any fight for the selected date:(',\n",
       " 'There is not any fight for the selected date:(',\n",
       " '150.85',\n",
       " '124.37',\n",
       " 'There is not any fight for the selected date:(',\n",
       " '145.29',\n",
       " 'There is not any fight for the selected date:(',\n",
       " '132.49',\n",
       " '400.95',\n",
       " '107.85',\n",
       " 'There is not any fight for the selected date:(',\n",
       " '101.63',\n",
       " '103.14',\n",
       " 'There is not any fight for the selected date:(',\n",
       " '141.49',\n",
       " 'There is not any fight for the selected date',\n",
       " '1827.32',\n",
       " 'There is not any fight for the selected date:(',\n",
       " '145.49',\n",
       " '3323.13',\n",
       " '1348.27',\n",
       " 'There is not any fight for the selected date:(',\n",
       " '1018.87',\n",
       " 'There is not any fight for the selected date:(',\n",
       " '138.49',\n",
       " 'There is not any fight for the selected date:(',\n",
       " '255.99',\n",
       " '101.16',\n",
       " '1827.32',\n",
       " '1138.38',\n",
       " '531.72',\n",
       " 'There is not any fight for the selected date:(',\n",
       " 'There is not any fight for the selected date:(',\n",
       " '299.43',\n",
       " '143.49',\n",
       " '138.49',\n",
       " '100.52',\n",
       " 'There is not any fight for the selected date:(',\n",
       " 'There is not any fight for the selected date:(',\n",
       " '130.49',\n",
       " '302.80',\n",
       " 'There is not any fight for the selected date:(',\n",
       " '112.16',\n",
       " '102.85',\n",
       " '102.85',\n",
       " '148.85',\n",
       " 'There is not any fight for the selected date:(',\n",
       " 'There is not any fight for the selected date:(',\n",
       " 'There is not any fight for the selected date:(',\n",
       " '119.50',\n",
       " '1003.70',\n",
       " '100.52',\n",
       " 'There is not any fight for the selected date:(',\n",
       " '112.50',\n",
       " 'There is not any fight for the selected date:(',\n",
       " '101.16',\n",
       " 'There is not any fight for the selected date:(',\n",
       " 'There is not any fight for the selected date:(',\n",
       " '149.76',\n",
       " 'There is not any fight for the selected date:(',\n",
       " 'There is not any fight for the selected date:(',\n",
       " '1656.28',\n",
       " 'There is not any fight for the selected date:(',\n",
       " 'There is not any fight for the selected date:(',\n",
       " '1001.15',\n",
       " '1143.31',\n",
       " 'There is not any fight for the selected date:(',\n",
       " 'There is not any fight for the selected date:(',\n",
       " 'There is not any fight for the selected date:(',\n",
       " '1199.29',\n",
       " 'There is not any fight for the selected date:(',\n",
       " '109.35',\n",
       " '1352.50',\n",
       " 'There is not any fight for the selected date:(',\n",
       " '1193.31',\n",
       " '2282.05',\n",
       " '1138.38',\n",
       " '1302.48',\n",
       " '111.04',\n",
       " 'There is not any fight for the selected date:(',\n",
       " 'There is not any fight for the selected date:(',\n",
       " '1382.48',\n",
       " '366.67',\n",
       " '1187.48',\n",
       " 'There is not any fight for the selected date:(',\n",
       " 'There is not any fight for the selected date:(',\n",
       " 'There is not any fight for the selected date:(',\n",
       " '100.50',\n",
       " '615.49',\n",
       " 'There is not any fight for the selected date:(',\n",
       " 'There is not any fight for the selected date:(',\n",
       " '1284.74',\n",
       " 'There is not any fight for the selected date:(',\n",
       " '1382.48',\n",
       " '1122.69',\n",
       " 'There is not any fight for the selected date:(',\n",
       " '104.81',\n",
       " 'There is not any fight for the selected date:(',\n",
       " '1098.49',\n",
       " '103.06',\n",
       " '1281.78',\n",
       " 'There is not any fight for the selected date:(',\n",
       " 'There is not any fight for the selected date:(',\n",
       " '1322.67',\n",
       " '1046.13',\n",
       " '135.49',\n",
       " 'There is not any fight for the selected date:(',\n",
       " 'There is not any fight for the selected date:(',\n",
       " '108.95',\n",
       " '3583.25',\n",
       " 'There is not any fight for the selected date:(',\n",
       " '1338.67',\n",
       " '1329.67',\n",
       " 'There is not any fight for the selected date:(',\n",
       " '1372.50',\n",
       " 'There is not any fight for the selected date:(',\n",
       " 'There is not any fight for the selected date:(',\n",
       " 'There is not any fight for the selected date:(',\n",
       " '103.81']"
      ]
     },
     "execution_count": 24,
     "metadata": {},
     "output_type": "execute_result"
    }
   ],
   "source": [
    "precios"
   ]
  },
  {
   "cell_type": "code",
   "execution_count": 25,
   "metadata": {},
   "outputs": [],
   "source": [
    "destinos[\"Precio vuelo\"]=precios"
   ]
  },
  {
   "cell_type": "code",
   "execution_count": 26,
   "metadata": {},
   "outputs": [
    {
     "data": {
      "text/html": [
       "<div>\n",
       "<style scoped>\n",
       "    .dataframe tbody tr th:only-of-type {\n",
       "        vertical-align: middle;\n",
       "    }\n",
       "\n",
       "    .dataframe tbody tr th {\n",
       "        vertical-align: top;\n",
       "    }\n",
       "\n",
       "    .dataframe thead th {\n",
       "        text-align: right;\n",
       "    }\n",
       "</style>\n",
       "<table border=\"1\" class=\"dataframe\">\n",
       "  <thead>\n",
       "    <tr style=\"text-align: right;\">\n",
       "      <th></th>\n",
       "      <th>City</th>\n",
       "      <th>Distance(kms)</th>\n",
       "      <th>Precio vuelo</th>\n",
       "    </tr>\n",
       "  </thead>\n",
       "  <tbody>\n",
       "    <tr>\n",
       "      <th>1</th>\n",
       "      <td>Tambor</td>\n",
       "      <td>11</td>\n",
       "      <td>There is not any fight for the selected date:(</td>\n",
       "    </tr>\n",
       "    <tr>\n",
       "      <th>2</th>\n",
       "      <td>Toledo</td>\n",
       "      <td>68</td>\n",
       "      <td>2460.96</td>\n",
       "    </tr>\n",
       "    <tr>\n",
       "      <th>3</th>\n",
       "      <td>Toledo</td>\n",
       "      <td>68</td>\n",
       "      <td>There is not any fight for the selected date:(</td>\n",
       "    </tr>\n",
       "    <tr>\n",
       "      <th>4</th>\n",
       "      <td>Buenaventura</td>\n",
       "      <td>100</td>\n",
       "      <td>There is not any fight for the selected date:(</td>\n",
       "    </tr>\n",
       "    <tr>\n",
       "      <th>5</th>\n",
       "      <td>Manzanillo</td>\n",
       "      <td>136</td>\n",
       "      <td>1340.75</td>\n",
       "    </tr>\n",
       "    <tr>\n",
       "      <th>...</th>\n",
       "      <td>...</td>\n",
       "      <td>...</td>\n",
       "      <td>...</td>\n",
       "    </tr>\n",
       "    <tr>\n",
       "      <th>144</th>\n",
       "      <td>Brandon</td>\n",
       "      <td>938</td>\n",
       "      <td>1372.50</td>\n",
       "    </tr>\n",
       "    <tr>\n",
       "      <th>145</th>\n",
       "      <td>Er-Rachidia</td>\n",
       "      <td>945</td>\n",
       "      <td>There is not any fight for the selected date:(</td>\n",
       "    </tr>\n",
       "    <tr>\n",
       "      <th>146</th>\n",
       "      <td>Chambery</td>\n",
       "      <td>968</td>\n",
       "      <td>There is not any fight for the selected date:(</td>\n",
       "    </tr>\n",
       "    <tr>\n",
       "      <th>147</th>\n",
       "      <td>El Bayadh</td>\n",
       "      <td>973</td>\n",
       "      <td>There is not any fight for the selected date:(</td>\n",
       "    </tr>\n",
       "    <tr>\n",
       "      <th>148</th>\n",
       "      <td>Niza</td>\n",
       "      <td>975</td>\n",
       "      <td>103.81</td>\n",
       "    </tr>\n",
       "  </tbody>\n",
       "</table>\n",
       "<p>148 rows × 3 columns</p>\n",
       "</div>"
      ],
      "text/plain": [
       "             City  Distance(kms)  \\\n",
       "1          Tambor             11   \n",
       "2          Toledo             68   \n",
       "3          Toledo             68   \n",
       "4    Buenaventura            100   \n",
       "5      Manzanillo            136   \n",
       "..            ...            ...   \n",
       "144       Brandon            938   \n",
       "145   Er-Rachidia            945   \n",
       "146      Chambery            968   \n",
       "147     El Bayadh            973   \n",
       "148          Niza            975   \n",
       "\n",
       "                                       Precio vuelo  \n",
       "1    There is not any fight for the selected date:(  \n",
       "2                                           2460.96  \n",
       "3    There is not any fight for the selected date:(  \n",
       "4    There is not any fight for the selected date:(  \n",
       "5                                           1340.75  \n",
       "..                                              ...  \n",
       "144                                         1372.50  \n",
       "145  There is not any fight for the selected date:(  \n",
       "146  There is not any fight for the selected date:(  \n",
       "147  There is not any fight for the selected date:(  \n",
       "148                                          103.81  \n",
       "\n",
       "[148 rows x 3 columns]"
      ]
     },
     "execution_count": 26,
     "metadata": {},
     "output_type": "execute_result"
    }
   ],
   "source": [
    "destinos"
   ]
  },
  {
   "cell_type": "code",
   "execution_count": 63,
   "metadata": {},
   "outputs": [],
   "source": [
    "budget=500"
   ]
  },
  {
   "cell_type": "code",
   "execution_count": null,
   "metadata": {},
   "outputs": [],
   "source": [
    "df[\"A\"] = pd.to_numeric(df[\"A\"], downcast=\"float\")"
   ]
  },
  {
   "cell_type": "code",
   "execution_count": 54,
   "metadata": {},
   "outputs": [],
   "source": [
    "destinos_filtrados=destinos[destinos[\"Precio vuelo\"]!='There is not any fight for the selected date:(']\n"
   ]
  },
  {
   "cell_type": "code",
   "execution_count": 57,
   "metadata": {},
   "outputs": [],
   "source": [
    "diez=destinos_filtrados[:10]"
   ]
  },
  {
   "cell_type": "code",
   "execution_count": 60,
   "metadata": {},
   "outputs": [
    {
     "name": "stderr",
     "output_type": "stream",
     "text": [
      "<ipython-input-60-b8f1407fe9f2>:1: SettingWithCopyWarning: \n",
      "A value is trying to be set on a copy of a slice from a DataFrame.\n",
      "Try using .loc[row_indexer,col_indexer] = value instead\n",
      "\n",
      "See the caveats in the documentation: https://pandas.pydata.org/pandas-docs/stable/user_guide/indexing.html#returning-a-view-versus-a-copy\n",
      "  diez[\"Precio vuelo\"]=pd.to_numeric(diez[\"Precio vuelo\"], downcast=\"float\")\n"
     ]
    }
   ],
   "source": [
    "diez[\"Precio vuelo\"]=pd.to_numeric(diez[\"Precio vuelo\"], downcast=\"float\")"
   ]
  },
  {
   "cell_type": "code",
   "execution_count": 68,
   "metadata": {},
   "outputs": [
    {
     "name": "stderr",
     "output_type": "stream",
     "text": [
      "<ipython-input-68-fba151412502>:1: SettingWithCopyWarning: \n",
      "A value is trying to be set on a copy of a slice from a DataFrame.\n",
      "Try using .loc[row_indexer,col_indexer] = value instead\n",
      "\n",
      "See the caveats in the documentation: https://pandas.pydata.org/pandas-docs/stable/user_guide/indexing.html#returning-a-view-versus-a-copy\n",
      "  diez[\"Precio vuelo\"]=diez[\"Precio vuelo\"].apply(lambda x:round(x,2))\n"
     ]
    }
   ],
   "source": [
    "diez[\"Precio vuelo\"]=diez[\"Precio vuelo\"].apply(lambda x:round(x,2))"
   ]
  },
  {
   "cell_type": "code",
   "execution_count": 69,
   "metadata": {},
   "outputs": [
    {
     "data": {
      "text/html": [
       "<div>\n",
       "<style scoped>\n",
       "    .dataframe tbody tr th:only-of-type {\n",
       "        vertical-align: middle;\n",
       "    }\n",
       "\n",
       "    .dataframe tbody tr th {\n",
       "        vertical-align: top;\n",
       "    }\n",
       "\n",
       "    .dataframe thead th {\n",
       "        text-align: right;\n",
       "    }\n",
       "</style>\n",
       "<table border=\"1\" class=\"dataframe\">\n",
       "  <thead>\n",
       "    <tr style=\"text-align: right;\">\n",
       "      <th></th>\n",
       "      <th>City</th>\n",
       "      <th>Distance(kms)</th>\n",
       "      <th>Precio vuelo</th>\n",
       "    </tr>\n",
       "  </thead>\n",
       "  <tbody>\n",
       "    <tr>\n",
       "      <th>2</th>\n",
       "      <td>Toledo</td>\n",
       "      <td>68</td>\n",
       "      <td>2460.96</td>\n",
       "    </tr>\n",
       "    <tr>\n",
       "      <th>5</th>\n",
       "      <td>Manzanillo</td>\n",
       "      <td>136</td>\n",
       "      <td>1340.75</td>\n",
       "    </tr>\n",
       "    <tr>\n",
       "      <th>6</th>\n",
       "      <td>Cuenca</td>\n",
       "      <td>138</td>\n",
       "      <td>332.90</td>\n",
       "    </tr>\n",
       "    <tr>\n",
       "      <th>9</th>\n",
       "      <td>Trujillo</td>\n",
       "      <td>213</td>\n",
       "      <td>1001.93</td>\n",
       "    </tr>\n",
       "    <tr>\n",
       "      <th>10</th>\n",
       "      <td>Burgos</td>\n",
       "      <td>214</td>\n",
       "      <td>312.29</td>\n",
       "    </tr>\n",
       "  </tbody>\n",
       "</table>\n",
       "</div>"
      ],
      "text/plain": [
       "          City  Distance(kms)  Precio vuelo\n",
       "2       Toledo             68       2460.96\n",
       "5   Manzanillo            136       1340.75\n",
       "6       Cuenca            138        332.90\n",
       "9     Trujillo            213       1001.93\n",
       "10      Burgos            214        312.29"
      ]
     },
     "execution_count": 69,
     "metadata": {},
     "output_type": "execute_result"
    }
   ],
   "source": [
    "diez.head()"
   ]
  },
  {
   "cell_type": "code",
   "execution_count": 70,
   "metadata": {},
   "outputs": [],
   "source": [
    "diez=diez[diez[\"Precio vuelo\"]<500]\n"
   ]
  },
  {
   "cell_type": "code",
   "execution_count": 71,
   "metadata": {},
   "outputs": [
    {
     "data": {
      "text/html": [
       "<div>\n",
       "<style scoped>\n",
       "    .dataframe tbody tr th:only-of-type {\n",
       "        vertical-align: middle;\n",
       "    }\n",
       "\n",
       "    .dataframe tbody tr th {\n",
       "        vertical-align: top;\n",
       "    }\n",
       "\n",
       "    .dataframe thead th {\n",
       "        text-align: right;\n",
       "    }\n",
       "</style>\n",
       "<table border=\"1\" class=\"dataframe\">\n",
       "  <thead>\n",
       "    <tr style=\"text-align: right;\">\n",
       "      <th></th>\n",
       "      <th>City</th>\n",
       "      <th>Distance(kms)</th>\n",
       "      <th>Precio vuelo</th>\n",
       "    </tr>\n",
       "  </thead>\n",
       "  <tbody>\n",
       "    <tr>\n",
       "      <th>6</th>\n",
       "      <td>Cuenca</td>\n",
       "      <td>138</td>\n",
       "      <td>332.90</td>\n",
       "    </tr>\n",
       "    <tr>\n",
       "      <th>10</th>\n",
       "      <td>Burgos</td>\n",
       "      <td>214</td>\n",
       "      <td>312.29</td>\n",
       "    </tr>\n",
       "    <tr>\n",
       "      <th>15</th>\n",
       "      <td>Zaragoza</td>\n",
       "      <td>273</td>\n",
       "      <td>102.63</td>\n",
       "    </tr>\n",
       "    <tr>\n",
       "      <th>16</th>\n",
       "      <td>Jaen</td>\n",
       "      <td>274</td>\n",
       "      <td>304.31</td>\n",
       "    </tr>\n",
       "  </tbody>\n",
       "</table>\n",
       "</div>"
      ],
      "text/plain": [
       "        City  Distance(kms)  Precio vuelo\n",
       "6     Cuenca            138        332.90\n",
       "10    Burgos            214        312.29\n",
       "15  Zaragoza            273        102.63\n",
       "16      Jaen            274        304.31"
      ]
     },
     "execution_count": 71,
     "metadata": {},
     "output_type": "execute_result"
    }
   ],
   "source": [
    "diez"
   ]
  },
  {
   "cell_type": "code",
   "execution_count": 3,
   "metadata": {},
   "outputs": [],
   "source": [
    "div=divf.get_country(\"Madrid\")"
   ]
  },
  {
   "cell_type": "code",
   "execution_count": 4,
   "metadata": {},
   "outputs": [
    {
     "data": {
      "text/plain": [
       "'Espana'"
      ]
     },
     "execution_count": 4,
     "metadata": {},
     "output_type": "execute_result"
    }
   ],
   "source": [
    "div"
   ]
  },
  {
   "cell_type": "code",
   "execution_count": null,
   "metadata": {},
   "outputs": [],
   "source": []
  }
 ],
 "metadata": {
  "kernelspec": {
   "display_name": "ironhack",
   "language": "python",
   "name": "ironhack"
  },
  "language_info": {
   "codemirror_mode": {
    "name": "ipython",
    "version": 3
   },
   "file_extension": ".py",
   "mimetype": "text/x-python",
   "name": "python",
   "nbconvert_exporter": "python",
   "pygments_lexer": "ipython3",
   "version": "3.8.5"
  }
 },
 "nbformat": 4,
 "nbformat_minor": 2
}
