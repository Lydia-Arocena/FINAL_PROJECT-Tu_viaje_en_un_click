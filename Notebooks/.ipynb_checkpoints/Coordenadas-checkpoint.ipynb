{
 "cells": [
  {
   "cell_type": "code",
   "execution_count": 1,
   "metadata": {},
   "outputs": [],
   "source": [
    "from geopy.geocoders import Nominatim\n",
    "from geopy.distance import geodesic \n",
    "\n",
    "import pandas as pd\n",
    "from pymongo import MongoClient\n",
    "from pymongo import GEOSPHERE\n",
    "import json\n",
    "from bson.json_util import dumps\n",
    "\n",
    "import os\n",
    "import sys\n",
    "sys.path.append('../')\n",
    "\n",
    "import src.geo_functions as gf\n",
    "import src.flights_functions as ff"
   ]
  },
  {
   "cell_type": "markdown",
   "id": "2abfda48",
   "metadata": {},
   "source": [
    "### Mongo DB Connection:"
   ]
  },
  {
   "cell_type": "code",
   "execution_count": 6,
   "id": "061b316b",
   "metadata": {},
   "outputs": [],
   "source": [
    "client = MongoClient(\"localhost:27017\")"
   ]
  },
  {
   "cell_type": "code",
   "execution_count": 8,
   "id": "4eaa4e5e",
   "metadata": {},
   "outputs": [],
   "source": [
    "db = client.get_database(\"Tu_viaje_ideal_en_un_click\")"
   ]
  },
  {
   "cell_type": "code",
   "execution_count": 9,
   "id": "60499ec7",
   "metadata": {},
   "outputs": [
    {
     "data": {
      "text/plain": [
       "<pymongo.results.InsertManyResult at 0x7f2885e59c80>"
      ]
     },
     "execution_count": 9,
     "metadata": {},
     "output_type": "execute_result"
    }
   ],
   "source": [
    "coordenadas = db[\"coordenadas\"]\n",
    "coordenadas.insert_many(lista_dicc)"
   ]
  },
  {
   "cell_type": "code",
   "execution_count": 10,
   "id": "9a468a9a",
   "metadata": {},
   "outputs": [
    {
     "data": {
      "text/plain": [
       "'Coordinates_2dsphere'"
      ]
     },
     "execution_count": 10,
     "metadata": {},
     "output_type": "execute_result"
    }
   ],
   "source": [
    "db.coordenadas.create_index([(\"Coordinates\", GEOSPHERE)]) # Creo el index 2dsphere."
   ]
  },
  {
   "cell_type": "markdown",
   "metadata": {},
   "source": [
    "### Getting a city coordinates:"
   ]
  },
  {
   "cell_type": "code",
   "execution_count": 2,
   "metadata": {},
   "outputs": [],
   "source": [
    "coord=gf.get_coordenadas(\"Madrid\")"
   ]
  },
  {
   "cell_type": "code",
   "execution_count": 3,
   "metadata": {},
   "outputs": [
    {
     "data": {
      "text/plain": [
       "40.4167047"
      ]
     },
     "execution_count": 3,
     "metadata": {},
     "output_type": "execute_result"
    }
   ],
   "source": [
    "coord[0]"
   ]
  },
  {
   "cell_type": "code",
   "execution_count": 4,
   "metadata": {},
   "outputs": [
    {
     "data": {
      "text/plain": [
       "40.4167047"
      ]
     },
     "execution_count": 4,
     "metadata": {},
     "output_type": "execute_result"
    }
   ],
   "source": [
    "gf.get_coordenadas(\"Madrid\")[0]"
   ]
  },
  {
   "cell_type": "markdown",
   "id": "e722d478",
   "metadata": {},
   "source": [
    "###  Measuring distance between two cities:"
   ]
  },
  {
   "cell_type": "code",
   "execution_count": 3,
   "id": "f49d1050",
   "metadata": {},
   "outputs": [
    {
     "data": {
      "text/plain": [
       "18700.18740637394"
      ]
     },
     "execution_count": 3,
     "metadata": {},
     "output_type": "execute_result"
    }
   ],
   "source": [
    "gf.measure_distance(\"New York City\",\"Perth\")"
   ]
  },
  {
   "cell_type": "markdown",
   "id": "d1fad7ec",
   "metadata": {},
   "source": [
    "### Geonear - first filter:"
   ]
  },
  {
   "cell_type": "code",
   "execution_count": 5,
   "id": "121e855e",
   "metadata": {},
   "outputs": [
    {
     "name": "stderr",
     "output_type": "stream",
     "text": [
      "/home/lydia/anaconda3/envs/ironhack/lib/python3.8/site-packages/pandas/core/frame.py:4906: SettingWithCopyWarning: \n",
      "A value is trying to be set on a copy of a slice from a DataFrame\n",
      "\n",
      "See the caveats in the documentation: https://pandas.pydata.org/pandas-docs/stable/user_guide/indexing.html#returning-a-view-versus-a-copy\n",
      "  return super().drop(\n"
     ]
    }
   ],
   "source": [
    "filtro1=gf.df_geonear(\"Madrid\", 500)"
   ]
  },
  {
   "cell_type": "code",
   "execution_count": 21,
   "metadata": {},
   "outputs": [
    {
     "data": {
      "text/html": [
       "<div>\n",
       "<style scoped>\n",
       "    .dataframe tbody tr th:only-of-type {\n",
       "        vertical-align: middle;\n",
       "    }\n",
       "\n",
       "    .dataframe tbody tr th {\n",
       "        vertical-align: top;\n",
       "    }\n",
       "\n",
       "    .dataframe thead th {\n",
       "        text-align: right;\n",
       "    }\n",
       "</style>\n",
       "<table border=\"1\" class=\"dataframe\">\n",
       "  <thead>\n",
       "    <tr style=\"text-align: right;\">\n",
       "      <th></th>\n",
       "      <th>City</th>\n",
       "      <th>Distance(kms)</th>\n",
       "    </tr>\n",
       "  </thead>\n",
       "  <tbody>\n",
       "    <tr>\n",
       "      <th>1</th>\n",
       "      <td>Tambor</td>\n",
       "      <td>11</td>\n",
       "    </tr>\n",
       "    <tr>\n",
       "      <th>2</th>\n",
       "      <td>Toledo</td>\n",
       "      <td>68</td>\n",
       "    </tr>\n",
       "    <tr>\n",
       "      <th>3</th>\n",
       "      <td>Toledo</td>\n",
       "      <td>68</td>\n",
       "    </tr>\n",
       "    <tr>\n",
       "      <th>4</th>\n",
       "      <td>Buenaventura</td>\n",
       "      <td>100</td>\n",
       "    </tr>\n",
       "    <tr>\n",
       "      <th>5</th>\n",
       "      <td>Manzanillo</td>\n",
       "      <td>136</td>\n",
       "    </tr>\n",
       "  </tbody>\n",
       "</table>\n",
       "</div>"
      ],
      "text/plain": [
       "           City  Distance(kms)\n",
       "1        Tambor             11\n",
       "2        Toledo             68\n",
       "3        Toledo             68\n",
       "4  Buenaventura            100\n",
       "5    Manzanillo            136"
      ]
     },
     "execution_count": 21,
     "metadata": {},
     "output_type": "execute_result"
    }
   ],
   "source": [
    "filtro1.head()"
   ]
  },
  {
   "cell_type": "code",
   "execution_count": null,
   "metadata": {},
   "outputs": [],
   "source": []
  }
 ],
 "metadata": {
  "kernelspec": {
   "display_name": "ironhack",
   "language": "python",
   "name": "ironhack"
  },
  "language_info": {
   "codemirror_mode": {
    "name": "ipython",
    "version": 3
   },
   "file_extension": ".py",
   "mimetype": "text/x-python",
   "name": "python",
   "nbconvert_exporter": "python",
   "pygments_lexer": "ipython3",
   "version": "3.8.5"
  }
 },
 "nbformat": 4,
 "nbformat_minor": 5
}
