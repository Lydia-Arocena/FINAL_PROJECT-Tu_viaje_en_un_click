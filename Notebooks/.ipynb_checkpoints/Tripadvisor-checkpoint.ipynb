{
 "cells": [
  {
   "cell_type": "code",
   "execution_count": 51,
   "id": "5e40b5f2",
   "metadata": {},
   "outputs": [],
   "source": [
    "from selenium import webdriver\n",
    "from selenium.webdriver.chrome.options import Options\n",
    "import time\n",
    "import pandas as pd\n",
    "from selenium.webdriver.support.ui import Select\n",
    "from webdriver_manager.chrome import ChromeDriver*-Manager\n",
    "from selenium.webdriver.common.keys import Keys"
   ]
  },
  {
   "cell_type": "code",
   "execution_count": 56,
   "id": "f8c65663",
   "metadata": {},
   "outputs": [],
   "source": [
    "opciones=Options()\n",
    "\n",
    "opciones.add_experimental_option('excludeSwitches', ['enable-automation'])\n",
    "opciones.add_experimental_option('useAutomationExtension', False)\n",
    "opciones.headless=False    -\n",
    "opciones.add_argument('--start-maximized')           \n",
    "opciones.add_argument('--incognito')\n",
    "opciones.add_argument('--deny-permission-prompts')"
   ]
  },
  {
   "cell_type": "code",
   "execution_count": 57,
   "id": "41bfd39c",
   "metadata": {},
   "outputs": [
    {
     "name": "stderr",
     "output_type": "stream",
     "text": [
      "<ipython-input-57-21c3e561f60f>:1: DeprecationWarning: executable_path has been deprecated, please pass in a Service object\n",
      "  driver = webdriver.Chrome(\"./chromedriver.exe\", options = opciones)\n",
      "<ipython-input-57-21c3e561f60f>:5: DeprecationWarning: find_element_by_* commands are deprecated. Please use find_element() instead\n",
      "  driver.find_element_by_css_selector(\"#onetrust-accept-btn-handler\").click()\n",
      "<ipython-input-57-21c3e561f60f>:6: DeprecationWarning: find_element_by_* commands are deprecated. Please use find_element() instead\n",
      "  driver.find_element_by_css_selector(\"#lithium-root > main > div.crvbs > div.bOoyS._T.cUjdV > div > div > div:nth-child(4) > a\").click()\n",
      "<ipython-input-57-21c3e561f60f>:7: DeprecationWarning: find_element_by_* commands are deprecated. Please use find_element() instead\n",
      "  driver.find_element_by_css_selector(\"body > div.hrjYF > div > form > input.fhEMT._G.B-.z._J.Cj.R0\").send_keys(\"Málaga\")\n",
      "<ipython-input-57-21c3e561f60f>:9: DeprecationWarning: find_element_by_* commands are deprecated. Please use find_element() instead\n",
      "  driver.find_element_by_xpath(\"/html/body/div[3]/div/form/input[1]\").send_keys(Keys.ENTER)\n"
     ]
    }
   ],
   "source": [
    "driver = webdriver.Chrome(\"./chromedriver.exe\", options = opciones)\n",
    "url= \"https://www.tripadvisor.es/\"\n",
    "driver.get(url)\n",
    "driver.implicitly_wait(5)\n",
    "driver.find_element_by_css_selector(\"#onetrust-accept-btn-handler\").click()\n",
    "driver.find_element_by_css_selector(\"#lithium-root > main > div.crvbs > div.bOoyS._T.cUjdV > div > div > div:nth-child(4) > a\").click()\n",
    "driver.find_element_by_css_selector(\"body > div.hrjYF > div > form > input.fhEMT._G.B-.z._J.Cj.R0\").send_keys(\"Málaga\")\n",
    "driver.implicitly_wait(5)\n",
    "driver.find_element_by_xpath(\"/html/body/div[3]/div/form/input[1]\").send_keys(Keys.ENTER)\n",
    "#driver.find_element_by_name(\"Value\").send_keys(Keys.ENTER)\n",
    "#driver.find_element_by_xpath(\"/html/body/div[1]/main/div[3]/div/div/div[2]/form/div/a[2]\").click()"
   ]
  },
  {
   "cell_type": "code",
   "execution_count": 68,
   "id": "bac80e80",
   "metadata": {},
   "outputs": [
    {
     "name": "stdout",
     "output_type": "stream",
     "text": [
      "¿Donde quieres comer?Malaga\n"
     ]
    },
    {
     "name": "stderr",
     "output_type": "stream",
     "text": [
      "<ipython-input-68-fde50c0ac970>:7: DeprecationWarning: executable_path has been deprecated, please pass in a Service object\n",
      "  driver = webdriver.Chrome(\"./chromedriver.exe\", options = opciones)\n"
     ]
    }
   ],
   "source": [
    "ciudad = input('¿Donde quieres comer?')\n",
    "\n",
    "\n",
    "diccionario = {'Madrid': 'g187514', \n",
    "              'Malaga': 'g187438'}\n",
    "\n",
    "for key, values in diccionario.items():\n",
    "    if ciudad == key: \n",
    "        driver = webdriver.Chrome(\"./chromedriver.exe\", options = opciones)\n",
    "        url= f\"https://www.tripadvisor.es/Restaurants-{values}-{key}.html\"\n",
    "        driver.get(url)\n",
    "        driver.implicitly_wait(5)\n",
    "        driver.quit()"
   ]
  },
  {
   "cell_type": "code",
   "execution_count": 64,
   "id": "45a24d47",
   "metadata": {},
   "outputs": [
    {
     "name": "stderr",
     "output_type": "stream",
     "text": [
      "<ipython-input-64-4e98ede19353>:1: DeprecationWarning: executable_path has been deprecated, please pass in a Service object\n",
      "  driver = webdriver.Chrome(\"./chromedriver.exe\", options = opciones)\n"
     ]
    }
   ],
   "source": [
    "driver = webdriver.Chrome(\"./chromedriver.exe\", options = opciones)\n",
    "url= \"https://www.tripadvisor.es/Restaurants-g187514-Madrid.html\"\n",
    "driver.get(url)\n",
    "driver.implicitly_wait(5)\n",
    "driver.quit()"
   ]
  },
  {
   "cell_type": "code",
   "execution_count": 1,
   "id": "e07741c9",
   "metadata": {},
   "outputs": [
    {
     "ename": "NameError",
     "evalue": "name 'webdriver' is not defined",
     "output_type": "error",
     "traceback": [
      "\u001b[0;31m---------------------------------------------------------------------------\u001b[0m",
      "\u001b[0;31mNameError\u001b[0m                                 Traceback (most recent call last)",
      "\u001b[0;32m<ipython-input-1-075fb9d2d0e9>\u001b[0m in \u001b[0;36m<module>\u001b[0;34m\u001b[0m\n\u001b[0;32m----> 1\u001b[0;31m \u001b[0mdriver\u001b[0m \u001b[0;34m=\u001b[0m \u001b[0mwebdriver\u001b[0m\u001b[0;34m.\u001b[0m\u001b[0mChrome\u001b[0m\u001b[0;34m(\u001b[0m\u001b[0;34m\"./chromedriver.exe\"\u001b[0m\u001b[0;34m)\u001b[0m\u001b[0;34m\u001b[0m\u001b[0;34m\u001b[0m\u001b[0m\n\u001b[0m\u001b[1;32m      2\u001b[0m \u001b[0mtime\u001b[0m\u001b[0;34m.\u001b[0m\u001b[0msleep\u001b[0m\u001b[0;34m(\u001b[0m\u001b[0;36m10\u001b[0m\u001b[0;34m)\u001b[0m\u001b[0;34m\u001b[0m\u001b[0;34m\u001b[0m\u001b[0m\n\u001b[1;32m      3\u001b[0m \u001b[0murl\u001b[0m\u001b[0;34m=\u001b[0m \u001b[0;34m\"https://www.thefork.es/\"\u001b[0m\u001b[0;34m\u001b[0m\u001b[0;34m\u001b[0m\u001b[0m\n\u001b[1;32m      4\u001b[0m \u001b[0mdriver\u001b[0m\u001b[0;34m.\u001b[0m\u001b[0mget\u001b[0m\u001b[0;34m(\u001b[0m\u001b[0murl\u001b[0m\u001b[0;34m)\u001b[0m\u001b[0;34m\u001b[0m\u001b[0;34m\u001b[0m\u001b[0m\n\u001b[1;32m      5\u001b[0m \u001b[0mtime\u001b[0m\u001b[0;34m.\u001b[0m\u001b[0msleep\u001b[0m\u001b[0;34m(\u001b[0m\u001b[0;36m10\u001b[0m\u001b[0;34m)\u001b[0m\u001b[0;34m\u001b[0m\u001b[0;34m\u001b[0m\u001b[0m\n",
      "\u001b[0;31mNameError\u001b[0m: name 'webdriver' is not defined"
     ]
    }
   ],
   "source": [
    "driver = webdriver.Chrome(\"./chromedriver.exe\")\n",
    "time.sleep(10)\n",
    "url= \"https://www.thefork.es/\"\n",
    "driver.get(url)\n",
    "time.sleep(10)\n",
    "\n",
    "\n",
    "driver.find_element_by_xpath(\"/html/body/div[2]/div[3]/div[1]/div/div/span/div[1]\").click()\n",
    "\n",
    "driver.find_element_by_css_selector(\"#whereinput\").click()\n",
    "\n",
    "driver.find_element_by_css_selector(\"#whereinput\").send_keys(\"Málaga\")\n",
    "driver.implicitly_wait(5)\n",
    "driver.find_element_by_xpath(\"/html/body/div[1]/div/main/div[2]/div/div/div/div[2]/div/div/div[2]/div/div[1]/span/span/label/span/input\").click()"
   ]
  },
  {
   "cell_type": "code",
   "execution_count": null,
   "id": "078523ae",
   "metadata": {},
   "outputs": [],
   "source": []
  }
 ],
 "metadata": {
  "kernelspec": {
   "display_name": "ironhack",
   "language": "python",
   "name": "ironhack"
  },
  "language_info": {
   "codemirror_mode": {
    "name": "ipython",
    "version": 3
   },
   "file_extension": ".py",
   "mimetype": "text/x-python",
   "name": "python",
   "nbconvert_exporter": "python",
   "pygments_lexer": "ipython3",
   "version": "3.8.5"
  }
 },
 "nbformat": 4,
 "nbformat_minor": 5
}
