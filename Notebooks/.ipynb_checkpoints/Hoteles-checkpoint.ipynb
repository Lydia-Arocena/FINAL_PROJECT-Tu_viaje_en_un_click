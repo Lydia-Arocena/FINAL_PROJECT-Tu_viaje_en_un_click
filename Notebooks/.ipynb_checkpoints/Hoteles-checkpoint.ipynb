{
 "cells": [
  {
   "cell_type": "code",
   "execution_count": 35,
   "id": "f378174c",
   "metadata": {},
   "outputs": [],
   "source": [
    "from selenium import webdriver\n",
    "from selenium.webdriver.chrome.options import Options\n",
    "import time\n",
    "import pandas as pd\n",
    "from selenium.webdriver.support.ui import Select\n",
    "from webdriver_manager.chrome import ChromeDriverManager\n",
    "from selenium.webdriver.common.keys import Keys\n",
    "\n",
    "import warnings\n",
    "warnings.filterwarnings(\"ignore\")"
   ]
  },
  {
   "cell_type": "markdown",
   "id": "8fb05498",
   "metadata": {},
   "source": [
    "### HOTELES"
   ]
  },
  {
   "cell_type": "code",
   "execution_count": 36,
   "id": "1b21b046",
   "metadata": {},
   "outputs": [],
   "source": [
    "opciones=Options()\n",
    "\n",
    "opciones.add_experimental_option('excludeSwitches', ['enable-automation'])\n",
    "opciones.add_experimental_option('useAutomationExtension', False)\n",
    "opciones.headless=False    \n",
    "opciones.add_argument('--start-maximized')        \n",
    "opciones.add_argument('user-data-dir=selenium')    \n",
    "opciones.add_argument('--incognito')         "
   ]
  },
  {
   "cell_type": "code",
   "execution_count": null,
   "id": "bdadc27e",
   "metadata": {},
   "outputs": [],
   "source": [
    "driver = webdriver.Chrome(\"./chromedriver.exe\")\n",
    "url= \"https://www.booking.com/index.es.html?label=gen173nr-1DCAEoggI46AdIM1gEaEaIAQGYAQq4ARfIAQzYAQPoAQGIAgGoAgO4Ar2bzI0GwAIB0gIkMTc1ODI1OWMtNmQxNi00MzU1LTk3MzUtNzI5YThhZjZhZWI12AIE4AIB;sid=2d71bfd30448fa2c53330b733f1d6768;keep_landing=1&sb_price_type=total&\"\n",
    "driver.get(url)\n",
    "driver.implicitly_wait(5)\n",
    "driver.find_element_by_css_selector(\"#onetrust-accept-btn-handler\").click()\n",
    "driver.find_element_by_css_selector(\"#ss\").send_keys(\"Sevilla\")\n",
    "driver.implicitly_wait(2)\n",
    "driver.find_element_by_css_selector(\"#frm > div.xp__fieldset.js--sb-fieldset.accommodation > div.xp__button > div.sb-searchbox-submit-col.-submit-button > button\").click()\n",
    "#driver.find_element_by_css_selector(\"#frm > div:nth-child(9) > div > div.xp-calendar > div > div > div.bui-calendar__content > div:nth-child(1) > table > tbody > tr:nth-child(5) > td:nth-child(4) > span > span\").click()\n",
    "#driver.find_element_by_css_selector(\"#frm > div.sb-searchbox__row.u-clearfix.-submit.sb-searchbox__footer.-last > div.sb-searchbox-submit-col.-submit-button > button\").click()\n",
    "#driver.find_element_by_css_selector(\"#frm > div:nth-child(9) > div > div.sb-dates__grid.u-clearfix > div.sb-dates__col.--checkin-field.xp__date-time > div > div > div > div.sb-date-field__display\").send_keys(\"16 de diciembre de 2021\")\n"
   ]
  },
  {
   "cell_type": "code",
   "execution_count": null,
   "id": "c70d74d0",
   "metadata": {},
   "outputs": [],
   "source": [
    "#search_results_table > div:nth-child(1) > div > div > div > div._814193827 > div:nth-child(3) > div._5d6c618c8 > div._7192d3184 > div > div:nth-child(1) > div > div._29c344764._f57705597 > div > div:nth-child(1) > div > h3 > a > div.fde444d7ef._c445487e2\n",
    "#search_results_table > div:nth-child(1) > div > div > div > div._814193827 > div:nth-child(5) > div._5d6c618c8 > div._7192d3184 > div > div:nth-child(1) > div > div._29c344764._f57705597 > div > div:nth-child(1) > div > h3 > a > div.fde444d7ef._c445487e2"
   ]
  },
  {
   "cell_type": "code",
   "execution_count": null,
   "id": "a48999fd",
   "metadata": {},
   "outputs": [],
   "source": [
    "#frm > div:nth-child(9) > div > div.xp-calendar > div > div > div.bui-calendar__content > div:nth-child(1) > table > tbody > tr:nth-child(3) > td:nth-child(2) > span > span\n",
    "#frm > div:nth-child(9) > div > div.xp-calendar > div > div > div.bui-calendar__content > div:nth-child(1) > table > tbody > tr:nth-child(5) > td:nth-child(4) > span > span"
   ]
  },
  {
   "cell_type": "code",
   "execution_count": null,
   "id": "8a62f9dd",
   "metadata": {},
   "outputs": [],
   "source": [
    "#frm > div:nth-child(9) > div > div.xp-calendar > div > div > div.bui-calendar__content > div:nth-child(1) > table > tbody > tr:nth-child(2) > td.bui-calendar__date.bui-calendar__date--today > span\n",
    "/html/body/div[3]/div/div[6]/div[1]/div[2]/div[1]/div[2]/form/div[3]/div/div[2]/div/div/div[3]/div[1]/table/tbody/tr[2]/td[5]/span\n",
    "<span aria-label=\"10 diciembre 2021\" role=\"checkbox\" aria-checked=\"false\">\n",
    "            <span aria-hidden=\"true\">10</span>\n",
    "          </span>"
   ]
  }
 ],
 "metadata": {
  "kernelspec": {
   "display_name": "ironhack",
   "language": "python",
   "name": "ironhack"
  },
  "language_info": {
   "codemirror_mode": {
    "name": "ipython",
    "version": 3
   },
   "file_extension": ".py",
   "mimetype": "text/x-python",
   "name": "python",
   "nbconvert_exporter": "python",
   "pygments_lexer": "ipython3",
   "version": "3.8.5"
  }
 },
 "nbformat": 4,
 "nbformat_minor": 5
}
