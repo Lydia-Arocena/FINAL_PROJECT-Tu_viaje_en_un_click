{
 "cells": [
  {
   "cell_type": "code",
   "execution_count": 1,
   "id": "f378174c",
   "metadata": {},
   "outputs": [],
   "source": [
    "import os\n",
    "import sys\n",
    "sys.path.append('../')\n",
    "import src.geo_functions as gf\n",
    "import src.hotels_functions as hf\n",
    "\n",
    "from dotenv import load_dotenv"
   ]
  },
  {
   "cell_type": "code",
   "execution_count": 2,
   "metadata": {},
   "outputs": [
    {
     "data": {
      "text/plain": [
       "True"
      ]
     },
     "execution_count": 2,
     "metadata": {},
     "output_type": "execute_result"
    }
   ],
   "source": [
    "load_dotenv()"
   ]
  },
  {
   "cell_type": "markdown",
   "id": "8fb05498",
   "metadata": {},
   "source": [
    "### HOTELS:"
   ]
  },
  {
   "cell_type": "code",
   "execution_count": 3,
   "metadata": {},
   "outputs": [],
   "source": [
    "hoteles=hf.cleaning_hotel(\"Madrid\",\"2022-03-26\")"
   ]
  },
  {
   "cell_type": "code",
   "execution_count": 4,
   "metadata": {},
   "outputs": [
    {
     "data": {
      "text/html": [
       "<div>\n",
       "<style scoped>\n",
       "    .dataframe tbody tr th:only-of-type {\n",
       "        vertical-align: middle;\n",
       "    }\n",
       "\n",
       "    .dataframe tbody tr th {\n",
       "        vertical-align: top;\n",
       "    }\n",
       "\n",
       "    .dataframe thead th {\n",
       "        text-align: right;\n",
       "    }\n",
       "</style>\n",
       "<table border=\"1\" class=\"dataframe\">\n",
       "  <thead>\n",
       "    <tr style=\"text-align: right;\">\n",
       "      <th></th>\n",
       "      <th>Nombre</th>\n",
       "      <th>Estrellas</th>\n",
       "      <th>Valoración</th>\n",
       "      <th>Precio(€)</th>\n",
       "      <th>Latitud</th>\n",
       "      <th>Longitud</th>\n",
       "    </tr>\n",
       "  </thead>\n",
       "  <tbody>\n",
       "    <tr>\n",
       "      <th>0</th>\n",
       "      <td>Apartosuites Jardines de Sabatini</td>\n",
       "      <td>3</td>\n",
       "      <td>4.8</td>\n",
       "      <td>117</td>\n",
       "      <td>40.420856</td>\n",
       "      <td>-3.714802</td>\n",
       "    </tr>\n",
       "    <tr>\n",
       "      <th>1</th>\n",
       "      <td>ARTIEM Madrid</td>\n",
       "      <td>4</td>\n",
       "      <td>4.8</td>\n",
       "      <td>79</td>\n",
       "      <td>40.442869</td>\n",
       "      <td>-3.648157</td>\n",
       "    </tr>\n",
       "    <tr>\n",
       "      <th>2</th>\n",
       "      <td>Artrip Hotel</td>\n",
       "      <td>2</td>\n",
       "      <td>4.8</td>\n",
       "      <td>135</td>\n",
       "      <td>40.407131</td>\n",
       "      <td>-3.700125</td>\n",
       "    </tr>\n",
       "    <tr>\n",
       "      <th>3</th>\n",
       "      <td>Catalonia Las Cortes Hotel</td>\n",
       "      <td>4</td>\n",
       "      <td>4.8</td>\n",
       "      <td>136</td>\n",
       "      <td>40.414670</td>\n",
       "      <td>-3.699430</td>\n",
       "    </tr>\n",
       "    <tr>\n",
       "      <th>4</th>\n",
       "      <td>Artistic B&amp;B</td>\n",
       "      <td>3</td>\n",
       "      <td>4.8</td>\n",
       "      <td>104</td>\n",
       "      <td>40.413900</td>\n",
       "      <td>-3.698220</td>\n",
       "    </tr>\n",
       "    <tr>\n",
       "      <th>5</th>\n",
       "      <td>Arenal Suites Preciados</td>\n",
       "      <td>3</td>\n",
       "      <td>4.8</td>\n",
       "      <td>108</td>\n",
       "      <td>40.419610</td>\n",
       "      <td>-3.706790</td>\n",
       "    </tr>\n",
       "  </tbody>\n",
       "</table>\n",
       "</div>"
      ],
      "text/plain": [
       "                              Nombre  Estrellas Valoración  Precio(€)  \\\n",
       "0  Apartosuites Jardines de Sabatini          3        4.8        117   \n",
       "1                      ARTIEM Madrid          4        4.8         79   \n",
       "2                       Artrip Hotel          2        4.8        135   \n",
       "3         Catalonia Las Cortes Hotel          4        4.8        136   \n",
       "4                       Artistic B&B          3        4.8        104   \n",
       "5            Arenal Suites Preciados          3        4.8        108   \n",
       "\n",
       "     Latitud  Longitud  \n",
       "0  40.420856 -3.714802  \n",
       "1  40.442869 -3.648157  \n",
       "2  40.407131 -3.700125  \n",
       "3  40.414670 -3.699430  \n",
       "4  40.413900 -3.698220  \n",
       "5  40.419610 -3.706790  "
      ]
     },
     "execution_count": 4,
     "metadata": {},
     "output_type": "execute_result"
    }
   ],
   "source": [
    "hoteles"
   ]
  }
 ],
 "metadata": {
  "kernelspec": {
   "display_name": "ironhack",
   "language": "python",
   "name": "ironhack"
  },
  "language_info": {
   "codemirror_mode": {
    "name": "ipython",
    "version": 3
   },
   "file_extension": ".py",
   "mimetype": "text/x-python",
   "name": "python",
   "nbconvert_exporter": "python",
   "pygments_lexer": "ipython3",
   "version": "3.8.5"
  }
 },
 "nbformat": 4,
 "nbformat_minor": 5
}
