{
 "cells": [
  {
   "cell_type": "code",
   "execution_count": 4,
   "id": "62ddd617",
   "metadata": {},
   "outputs": [],
   "source": [
    "from dotenv import load_dotenv\n",
    "from amadeus import Client, ResponseError\n",
    "\n",
    "import os\n",
    "import sys\n",
    "sys.path.append('../')\n",
    "\n",
    "import src.flights_functions as ff\n",
    "import src.geo_functions as gf\n",
    "import src.points_of_interests_functions as pif"
   ]
  },
  {
   "cell_type": "code",
   "execution_count": 5,
   "id": "28bab3dd",
   "metadata": {},
   "outputs": [
    {
     "data": {
      "text/plain": [
       "True"
      ]
     },
     "execution_count": 5,
     "metadata": {},
     "output_type": "execute_result"
    }
   ],
   "source": [
    "load_dotenv()"
   ]
  },
  {
   "cell_type": "markdown",
   "id": "d2144402",
   "metadata": {},
   "source": [
    "### Points of interest given a city and a radius:"
   ]
  },
  {
   "cell_type": "code",
   "execution_count": 3,
   "id": "3d3a7e56",
   "metadata": {},
   "outputs": [
    {
     "data": {
      "text/plain": [
       "\"Points of interest in Barcelona are :['Palau de la Música Catalana', 'Can Paixano', 'Teresa Carles', 'Museu de la Xocolata', 'Parc de la Ciutadella', 'Museo Marítim de Barcelona', 'Gothic Quarter (Barri Gotic)', 'El Quim de la Boqueria', 'El Xampanyet', 'Barcelona Zoo']\""
      ]
     },
     "execution_count": 3,
     "metadata": {},
     "output_type": "execute_result"
    }
   ],
   "source": [
    "pif.get_points_interest(\"Barcelona\")"
   ]
  }
 ],
 "metadata": {
  "kernelspec": {
   "display_name": "ironhack",
   "language": "python",
   "name": "ironhack"
  },
  "language_info": {
   "codemirror_mode": {
    "name": "ipython",
    "version": 3
   },
   "file_extension": ".py",
   "mimetype": "text/x-python",
   "name": "python",
   "nbconvert_exporter": "python",
   "pygments_lexer": "ipython3",
   "version": "3.8.5"
  }
 },
 "nbformat": 4,
 "nbformat_minor": 5
}
