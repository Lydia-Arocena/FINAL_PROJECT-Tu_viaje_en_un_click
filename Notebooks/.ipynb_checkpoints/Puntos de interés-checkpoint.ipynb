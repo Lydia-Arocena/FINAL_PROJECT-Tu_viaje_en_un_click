{
 "cells": [
  {
   "cell_type": "code",
   "execution_count": 5,
   "id": "62ddd617",
   "metadata": {},
   "outputs": [],
   "source": [
    "from dotenv import load_dotenv\n",
    "from amadeus import Client, ResponseError\n",
    "import pandas as pd\n",
    "\n",
    "import os\n",
    "import sys\n",
    "sys.path.append('../')\n",
    "\n",
    "import src.flights_functions as ff\n",
    "import src.geo_functions as gf\n",
    "import src.points_of_interests_functions as pif"
   ]
  },
  {
   "cell_type": "code",
   "execution_count": 6,
   "id": "28bab3dd",
   "metadata": {},
   "outputs": [
    {
     "data": {
      "text/plain": [
       "True"
      ]
     },
     "execution_count": 6,
     "metadata": {},
     "output_type": "execute_result"
    }
   ],
   "source": [
    "load_dotenv()"
   ]
  },
  {
   "cell_type": "markdown",
   "id": "d2144402",
   "metadata": {},
   "source": [
    "### Points of interest given a city and a radius:"
   ]
  },
  {
   "cell_type": "code",
   "execution_count": 10,
   "id": "3d3a7e56",
   "metadata": {},
   "outputs": [
    {
     "name": "stdout",
     "output_type": "stream",
     "text": [
      "[{'type': 'location', 'subType': 'POINT_OF_INTEREST', 'id': '5F48B525B3', 'self': {'href': 'https://test.api.amadeus.com/v1/reference-data/locations/pois/5F48B525B3', 'methods': ['GET']}, 'geoCode': {'latitude': 41.387573, 'longitude': 2.175313}, 'name': 'Palau de la Música Catalana', 'category': 'SIGHTS', 'rank': 5, 'tags': ['sightseeing', 'landmark', 'tourguide', 'activities', 'attraction', 'events', 'theater', 'musicvenue', 'sights', 'commercialplace']}, {'type': 'location', 'subType': 'POINT_OF_INTEREST', 'id': '6035E12F63', 'self': {'href': 'https://test.api.amadeus.com/v1/reference-data/locations/pois/6035E12F63', 'methods': ['GET']}, 'geoCode': {'latitude': 41.381752, 'longitude': 2.183442}, 'name': 'Can Paixano', 'category': 'RESTAURANT', 'rank': 15, 'tags': ['restaurant', 'tapas', 'cheap', 'bar', 'sightseeing', 'shopping', 'transport', 'activities']}, {'type': 'location', 'subType': 'POINT_OF_INTEREST', 'id': 'FE0693CF7A', 'self': {'href': 'https://test.api.amadeus.com/v1/reference-data/locations/pois/FE0693CF7A', 'methods': ['GET']}, 'geoCode': {'latitude': 41.38504, 'longitude': 2.167985}, 'name': 'Teresa Carles', 'category': 'RESTAURANT', 'rank': 15, 'tags': ['restaurant', 'vegetarian', 'market', 'bar', 'liquor', 'professionalservices', 'transport', 'health&medical', 'sightseeing', 'commercialplace']}, {'type': 'location', 'subType': 'POINT_OF_INTEREST', 'id': '5CD47D35C4', 'self': {'href': 'https://test.api.amadeus.com/v1/reference-data/locations/pois/5CD47D35C4', 'methods': ['GET']}, 'geoCode': {'latitude': 41.387016, 'longitude': 2.18187}, 'name': 'Museu de la Xocolata', 'category': 'SIGHTS', 'rank': 30, 'tags': ['museum', 'sightseeing', 'tourguide', 'sights', 'attraction', 'commercialplace', 'activities']}, {'type': 'location', 'subType': 'POINT_OF_INTEREST', 'id': '88D046A0CD', 'self': {'href': 'https://test.api.amadeus.com/v1/reference-data/locations/pois/88D046A0CD', 'methods': ['GET']}, 'geoCode': {'latitude': 41.387966, 'longitude': 2.187235}, 'name': 'Parc de la Ciutadella', 'category': 'SIGHTS', 'rank': 30, 'tags': ['sightseeing', 'sights', 'park', 'tourguide', 'landmark', 'historicplace', 'historic', 'attraction', 'activities', 'restaurant', 'hiking', 'beauty&spas', 'garden', 'transport', 'bus']}, {'type': 'location', 'subType': 'POINT_OF_INTEREST', 'id': 'A128E6C52D', 'self': {'href': 'https://test.api.amadeus.com/v1/reference-data/locations/pois/A128E6C52D', 'methods': ['GET']}, 'geoCode': {'latitude': 41.3764, 'longitude': 2.17456}, 'name': 'Museo Marítim de Barcelona', 'category': 'SIGHTS', 'rank': 30, 'tags': ['museum', 'tourguide', 'sightseeing', 'landmark', 'cheap', 'sights', 'historicplace', 'historic', 'restaurant', 'attraction', 'shopping', 'transport', 'activities']}, {'type': 'location', 'subType': 'POINT_OF_INTEREST', 'id': '65AB547222', 'self': {'href': 'https://test.api.amadeus.com/v1/reference-data/locations/pois/65AB547222', 'methods': ['GET']}, 'geoCode': {'latitude': 41.3827, 'longitude': 2.177113}, 'name': 'Gothic Quarter (Barri Gotic)', 'category': 'SIGHTS', 'rank': 30, 'tags': ['restaurant', 'landmark', 'sightseeing', 'historicplace', 'sights', 'historic', 'tourguide', 'attraction', 'activities']}, {'type': 'location', 'subType': 'POINT_OF_INTEREST', 'id': '7F6AD2D04F', 'self': {'href': 'https://test.api.amadeus.com/v1/reference-data/locations/pois/7F6AD2D04F', 'methods': ['GET']}, 'geoCode': {'latitude': 41.381897, 'longitude': 2.172124}, 'name': 'El Quim de la Boqueria', 'category': 'RESTAURANT', 'rank': 30, 'tags': ['restaurant', 'tapas', 'breakfast', 'bar', 'sightseeing', 'commercialplace', 'grills']}, {'type': 'location', 'subType': 'POINT_OF_INTEREST', 'id': '22097DBB00', 'self': {'href': 'https://test.api.amadeus.com/v1/reference-data/locations/pois/22097DBB00', 'methods': ['GET']}, 'geoCode': {'latitude': 41.3845, 'longitude': 2.18174}, 'name': 'El Xampanyet', 'category': 'RESTAURANT', 'rank': 50, 'tags': ['restaurant', 'bar', 'tapas', 'sightseeing', 'nightlife', 'shopping', 'transport', 'commercialplace', 'activities']}, {'type': 'location', 'subType': 'POINT_OF_INTEREST', 'id': '78F6DEB52A', 'self': {'href': 'https://test.api.amadeus.com/v1/reference-data/locations/pois/78F6DEB52A', 'methods': ['GET']}, 'geoCode': {'latitude': 41.38565, 'longitude': 2.18586}, 'name': 'Barcelona Zoo', 'category': 'RESTAURANT', 'rank': 50, 'tags': ['restaurant', 'sightseeing', 'zoo', 'tourguide', 'cheap', 'attraction', 'activities', 'fairground', 'commercialplace', 'hiking', 'aquarium', 'food', 'shopping', 'beauty&spas', 'park']}]\n"
     ]
    },
    {
     "data": {
      "text/html": [
       "<div>\n",
       "<style scoped>\n",
       "    .dataframe tbody tr th:only-of-type {\n",
       "        vertical-align: middle;\n",
       "    }\n",
       "\n",
       "    .dataframe tbody tr th {\n",
       "        vertical-align: top;\n",
       "    }\n",
       "\n",
       "    .dataframe thead th {\n",
       "        text-align: right;\n",
       "    }\n",
       "</style>\n",
       "<table border=\"1\" class=\"dataframe\">\n",
       "  <thead>\n",
       "    <tr style=\"text-align: right;\">\n",
       "      <th></th>\n",
       "      <th>Name</th>\n",
       "      <th>Latitud</th>\n",
       "      <th>Longitud</th>\n",
       "      <th>Category</th>\n",
       "    </tr>\n",
       "  </thead>\n",
       "  <tbody>\n",
       "    <tr>\n",
       "      <th>0</th>\n",
       "      <td>Palau de la Música Catalana</td>\n",
       "      <td>41.387573</td>\n",
       "      <td>2.175313</td>\n",
       "      <td>sightseeing</td>\n",
       "    </tr>\n",
       "    <tr>\n",
       "      <th>1</th>\n",
       "      <td>Can Paixano</td>\n",
       "      <td>41.381752</td>\n",
       "      <td>2.183442</td>\n",
       "      <td>restaurant</td>\n",
       "    </tr>\n",
       "    <tr>\n",
       "      <th>2</th>\n",
       "      <td>Teresa Carles</td>\n",
       "      <td>41.385040</td>\n",
       "      <td>2.167985</td>\n",
       "      <td>restaurant</td>\n",
       "    </tr>\n",
       "    <tr>\n",
       "      <th>3</th>\n",
       "      <td>Museu de la Xocolata</td>\n",
       "      <td>41.387016</td>\n",
       "      <td>2.181870</td>\n",
       "      <td>museum</td>\n",
       "    </tr>\n",
       "    <tr>\n",
       "      <th>4</th>\n",
       "      <td>Parc de la Ciutadella</td>\n",
       "      <td>41.387966</td>\n",
       "      <td>2.187235</td>\n",
       "      <td>sightseeing</td>\n",
       "    </tr>\n",
       "    <tr>\n",
       "      <th>5</th>\n",
       "      <td>Museo Marítim de Barcelona</td>\n",
       "      <td>41.376400</td>\n",
       "      <td>2.174560</td>\n",
       "      <td>museum</td>\n",
       "    </tr>\n",
       "    <tr>\n",
       "      <th>6</th>\n",
       "      <td>Gothic Quarter (Barri Gotic)</td>\n",
       "      <td>41.382700</td>\n",
       "      <td>2.177113</td>\n",
       "      <td>restaurant</td>\n",
       "    </tr>\n",
       "    <tr>\n",
       "      <th>7</th>\n",
       "      <td>El Quim de la Boqueria</td>\n",
       "      <td>41.381897</td>\n",
       "      <td>2.172124</td>\n",
       "      <td>restaurant</td>\n",
       "    </tr>\n",
       "    <tr>\n",
       "      <th>8</th>\n",
       "      <td>El Xampanyet</td>\n",
       "      <td>41.384500</td>\n",
       "      <td>2.181740</td>\n",
       "      <td>restaurant</td>\n",
       "    </tr>\n",
       "    <tr>\n",
       "      <th>9</th>\n",
       "      <td>Barcelona Zoo</td>\n",
       "      <td>41.385650</td>\n",
       "      <td>2.185860</td>\n",
       "      <td>restaurant</td>\n",
       "    </tr>\n",
       "  </tbody>\n",
       "</table>\n",
       "</div>"
      ],
      "text/plain": [
       "                           Name    Latitud  Longitud     Category\n",
       "0   Palau de la Música Catalana  41.387573  2.175313  sightseeing\n",
       "1                   Can Paixano  41.381752  2.183442   restaurant\n",
       "2                 Teresa Carles  41.385040  2.167985   restaurant\n",
       "3          Museu de la Xocolata  41.387016  2.181870       museum\n",
       "4         Parc de la Ciutadella  41.387966  2.187235  sightseeing\n",
       "5    Museo Marítim de Barcelona  41.376400  2.174560       museum\n",
       "6  Gothic Quarter (Barri Gotic)  41.382700  2.177113   restaurant\n",
       "7        El Quim de la Boqueria  41.381897  2.172124   restaurant\n",
       "8                  El Xampanyet  41.384500  2.181740   restaurant\n",
       "9                 Barcelona Zoo  41.385650  2.185860   restaurant"
      ]
     },
     "execution_count": 10,
     "metadata": {},
     "output_type": "execute_result"
    }
   ],
   "source": [
    "pif.get_points_interest(\"Barcelona\")"
   ]
  }
 ],
 "metadata": {
  "kernelspec": {
   "display_name": "ironhack",
   "language": "python",
   "name": "ironhack"
  },
  "language_info": {
   "codemirror_mode": {
    "name": "ipython",
    "version": 3
   },
   "file_extension": ".py",
   "mimetype": "text/x-python",
   "name": "python",
   "nbconvert_exporter": "python",
   "pygments_lexer": "ipython3",
   "version": "3.8.5"
  }
 },
 "nbformat": 4,
 "nbformat_minor": 5
}
