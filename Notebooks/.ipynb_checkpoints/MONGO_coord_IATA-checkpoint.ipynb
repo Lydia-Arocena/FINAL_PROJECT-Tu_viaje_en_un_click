{
 "cells": [
  {
   "cell_type": "code",
   "execution_count": 1,
   "metadata": {},
   "outputs": [],
   "source": [
    "import ast\n",
    "import pandas as pd\n",
    "from dotenv import load_dotenv\n",
    "import os\n",
    "import sys\n",
    "sys.path.append('../')\n",
    "\n",
    "import src.geo_functions as gf\n",
    "import src.flights_functions as ff"
   ]
  },
  {
   "cell_type": "code",
   "execution_count": 18,
   "metadata": {},
   "outputs": [],
   "source": [
    "from geopy.geocoders import Nominatim\n",
    "from geopy.distance import geodesic \n",
    "from pymongo import MongoClient\n",
    "import json\n",
    "from bson.json_util import dumps\n",
    "import pandas as pd\n",
    "import re\n",
    "import unicodedata\n",
    "from selenium import webdriver\n",
    "from selenium.webdriver.chrome.options import Options\n",
    "import time\n",
    "import pandas as pd\n",
    "from selenium.webdriver.support.ui import Select\n",
    "from webdriver_manager.chrome import ChromeDriverManager\n",
    "from selenium.webdriver.common.keys import Keys\n",
    "from deep_translator import (MyMemoryTranslator)\n",
    "import pandas as pd\n",
    "from pymongo import MongoClient\n",
    "from pymongo import GEOSPHERE\n",
    "import json\n",
    "from bson.json_util import dumps\n",
    "import ast\n",
    "           "
   ]
  },
  {
   "cell_type": "code",
   "execution_count": 6,
   "metadata": {},
   "outputs": [
    {
     "name": "stderr",
     "output_type": "stream",
     "text": [
      "/home/lydia/anaconda3/envs/ironhack/lib/python3.8/site-packages/pandas/core/frame.py:4906: SettingWithCopyWarning: \n",
      "A value is trying to be set on a copy of a slice from a DataFrame\n",
      "\n",
      "See the caveats in the documentation: https://pandas.pydata.org/pandas-docs/stable/user_guide/indexing.html#returning-a-view-versus-a-copy\n",
      "  return super().drop(\n"
     ]
    }
   ],
   "source": [
    "df=gf.df_geonear(\"Madrid\", 800)"
   ]
  },
  {
   "cell_type": "markdown",
   "metadata": {},
   "source": [
    "kms=list(df.City)"
   ]
  },
  {
   "cell_type": "code",
   "execution_count": 9,
   "metadata": {},
   "outputs": [
    {
     "data": {
      "text/plain": [
       "['Córdoba',\n",
       " 'Valencia',\n",
       " 'Seville',\n",
       " 'Andorra la Vella',\n",
       " 'Lisbon',\n",
       " 'Barcelona',\n",
       " 'Algiers',\n",
       " 'Rabat']"
      ]
     },
     "execution_count": 9,
     "metadata": {},
     "output_type": "execute_result"
    }
   ],
   "source": [
    "kms"
   ]
  },
  {
   "cell_type": "code",
   "execution_count": 16,
   "metadata": {},
   "outputs": [],
   "source": [
    "#lista_va=[]\n",
    "#for k in kms:\n",
    "    #print(k)\n",
    "    #dest=ff.get_cheapest_price(\"Madrid\",k,\"2021-12-18\")\n",
    "    #lista_va.append(dest)"
   ]
  },
  {
   "cell_type": "markdown",
   "metadata": {},
   "source": [
    "### IATA CODES:"
   ]
  },
  {
   "cell_type": "code",
   "execution_count": 3,
   "metadata": {},
   "outputs": [
    {
     "name": "stderr",
     "output_type": "stream",
     "text": [
      "../src/geo_functions.py:147: UserWarning: Pandas doesn't allow columns to be created via a new attribute name - see https://pandas.pydata.org/pandas-docs/stable/indexing.html#attribute-access\n",
      "  df.Cities=df.Lugar.apply(lambda x: x.split(\",\")[0])\n",
      "../src/geo_functions.py:148: UserWarning: Pandas doesn't allow columns to be created via a new attribute name - see https://pandas.pydata.org/pandas-docs/stable/indexing.html#attribute-access\n",
      "  df.Countries=df.Lugar.apply(lambda x: x.split(\",\")[1])\n"
     ]
    }
   ],
   "source": [
    "df=gf.dicc_to_df() "
   ]
  },
  {
   "cell_type": "code",
   "execution_count": 21,
   "metadata": {},
   "outputs": [],
   "source": [
    "df.sample()"
   ]
  },
  {
   "cell_type": "code",
   "execution_count": 6,
   "metadata": {},
   "outputs": [],
   "source": [
    "not_spain=df[df[\"Countries\"]!=\"Espana\"]"
   ]
  },
  {
   "cell_type": "code",
   "execution_count": 7,
   "metadata": {},
   "outputs": [],
   "source": [
    "spain=df[df[\"Countries\"]==\"Espana\"]"
   ]
  },
  {
   "cell_type": "code",
   "execution_count": 8,
   "metadata": {},
   "outputs": [],
   "source": [
    "not_spain[\"Cities\"]=not_spain.Cities.apply(gf.translator)"
   ]
  },
  {
   "cell_type": "code",
   "execution_count": 9,
   "metadata": {},
   "outputs": [],
   "source": [
    "not_spain[\"Countries\"]=not_spain.Countries.apply(gf.translator)"
   ]
  },
  {
   "cell_type": "code",
   "execution_count": 12,
   "metadata": {},
   "outputs": [],
   "source": [
    "IATA = pd.concat([not_spain,spain], axis=0)"
   ]
  },
  {
   "cell_type": "code",
   "execution_count": 21,
   "metadata": {},
   "outputs": [],
   "source": [
    "IATA.to_csv(\"../Data/IATAlimpio.csv\",index=False)"
   ]
  },
  {
   "cell_type": "code",
   "execution_count": 3,
   "metadata": {},
   "outputs": [],
   "source": [
    "IATA=pd.read_csv(\"../Data/IATAlimpio.csv\")"
   ]
  },
  {
   "cell_type": "code",
   "execution_count": 4,
   "metadata": {
    "scrolled": true
   },
   "outputs": [],
   "source": [
    "location=IATA.Cities.apply(gf.get_coordenadas_tipo_point)"
   ]
  },
  {
   "cell_type": "code",
   "execution_count": 5,
   "metadata": {},
   "outputs": [],
   "source": [
    "IATA[\"Type Point\"]=location"
   ]
  },
  {
   "cell_type": "code",
   "execution_count": 6,
   "metadata": {},
   "outputs": [],
   "source": [
    "IATA[\"Type Point\"]=IATA[\"Type Point\"].apply(gf.string_dicc)"
   ]
  },
  {
   "cell_type": "code",
   "execution_count": 7,
   "metadata": {},
   "outputs": [
    {
     "data": {
      "text/html": [
       "<div>\n",
       "<style scoped>\n",
       "    .dataframe tbody tr th:only-of-type {\n",
       "        vertical-align: middle;\n",
       "    }\n",
       "\n",
       "    .dataframe tbody tr th {\n",
       "        vertical-align: top;\n",
       "    }\n",
       "\n",
       "    .dataframe thead th {\n",
       "        text-align: right;\n",
       "    }\n",
       "</style>\n",
       "<table border=\"1\" class=\"dataframe\">\n",
       "  <thead>\n",
       "    <tr style=\"text-align: right;\">\n",
       "      <th></th>\n",
       "      <th>IATA</th>\n",
       "      <th>Countries</th>\n",
       "      <th>Cities</th>\n",
       "      <th>Type Point</th>\n",
       "    </tr>\n",
       "  </thead>\n",
       "  <tbody>\n",
       "    <tr>\n",
       "      <th>0</th>\n",
       "      <td>AAA</td>\n",
       "      <td>Polinesia frances</td>\n",
       "      <td>Anaa</td>\n",
       "      <td>{'type': 'Point', 'coordinates': (-145.521919,...</td>\n",
       "    </tr>\n",
       "    <tr>\n",
       "      <th>1</th>\n",
       "      <td>AAD</td>\n",
       "      <td>Somalia</td>\n",
       "      <td>Adado</td>\n",
       "      <td>{'type': 'Point', 'coordinates': (47.068920688...</td>\n",
       "    </tr>\n",
       "    <tr>\n",
       "      <th>2</th>\n",
       "      <td>AAE</td>\n",
       "      <td>Argelia</td>\n",
       "      <td>Annaba</td>\n",
       "      <td>{'type': 'Point', 'coordinates': (7.7549272, 3...</td>\n",
       "    </tr>\n",
       "    <tr>\n",
       "      <th>3</th>\n",
       "      <td>AAK</td>\n",
       "      <td>Kiribati</td>\n",
       "      <td>Aranuka</td>\n",
       "      <td>{'type': 'Point', 'coordinates': (173.62125479...</td>\n",
       "    </tr>\n",
       "    <tr>\n",
       "      <th>4</th>\n",
       "      <td>AAL</td>\n",
       "      <td>Dinamarca</td>\n",
       "      <td>Aalborg</td>\n",
       "      <td>{'type': 'Point', 'coordinates': (9.9215263, 5...</td>\n",
       "    </tr>\n",
       "  </tbody>\n",
       "</table>\n",
       "</div>"
      ],
      "text/plain": [
       "  IATA           Countries   Cities  \\\n",
       "0  AAA   Polinesia frances     Anaa   \n",
       "1  AAD             Somalia    Adado   \n",
       "2  AAE             Argelia   Annaba   \n",
       "3  AAK            Kiribati  Aranuka   \n",
       "4  AAL           Dinamarca  Aalborg   \n",
       "\n",
       "                                          Type Point  \n",
       "0  {'type': 'Point', 'coordinates': (-145.521919,...  \n",
       "1  {'type': 'Point', 'coordinates': (47.068920688...  \n",
       "2  {'type': 'Point', 'coordinates': (7.7549272, 3...  \n",
       "3  {'type': 'Point', 'coordinates': (173.62125479...  \n",
       "4  {'type': 'Point', 'coordinates': (9.9215263, 5...  "
      ]
     },
     "execution_count": 7,
     "metadata": {},
     "output_type": "execute_result"
    }
   ],
   "source": [
    "IATA.head()"
   ]
  },
  {
   "cell_type": "code",
   "execution_count": 2,
   "metadata": {},
   "outputs": [],
   "source": [
    "#IATA[\"Type Point\"]=IATA[\"Type Point\"].apply(lambda x: ast.literal_eval(x))"
   ]
  },
  {
   "cell_type": "code",
   "execution_count": 8,
   "metadata": {},
   "outputs": [],
   "source": [
    "IATA.columns=[\"IATA\",\"Country\",\"City\",\"Location\"]"
   ]
  },
  {
   "cell_type": "code",
   "execution_count": 9,
   "metadata": {},
   "outputs": [
    {
     "data": {
      "text/html": [
       "<div>\n",
       "<style scoped>\n",
       "    .dataframe tbody tr th:only-of-type {\n",
       "        vertical-align: middle;\n",
       "    }\n",
       "\n",
       "    .dataframe tbody tr th {\n",
       "        vertical-align: top;\n",
       "    }\n",
       "\n",
       "    .dataframe thead th {\n",
       "        text-align: right;\n",
       "    }\n",
       "</style>\n",
       "<table border=\"1\" class=\"dataframe\">\n",
       "  <thead>\n",
       "    <tr style=\"text-align: right;\">\n",
       "      <th></th>\n",
       "      <th>IATA</th>\n",
       "      <th>Country</th>\n",
       "      <th>City</th>\n",
       "      <th>Location</th>\n",
       "    </tr>\n",
       "  </thead>\n",
       "  <tbody>\n",
       "    <tr>\n",
       "      <th>0</th>\n",
       "      <td>AAA</td>\n",
       "      <td>Polinesia frances</td>\n",
       "      <td>Anaa</td>\n",
       "      <td>{'type': 'Point', 'coordinates': (-145.521919,...</td>\n",
       "    </tr>\n",
       "    <tr>\n",
       "      <th>1</th>\n",
       "      <td>AAD</td>\n",
       "      <td>Somalia</td>\n",
       "      <td>Adado</td>\n",
       "      <td>{'type': 'Point', 'coordinates': (47.068920688...</td>\n",
       "    </tr>\n",
       "    <tr>\n",
       "      <th>2</th>\n",
       "      <td>AAE</td>\n",
       "      <td>Argelia</td>\n",
       "      <td>Annaba</td>\n",
       "      <td>{'type': 'Point', 'coordinates': (7.7549272, 3...</td>\n",
       "    </tr>\n",
       "    <tr>\n",
       "      <th>3</th>\n",
       "      <td>AAK</td>\n",
       "      <td>Kiribati</td>\n",
       "      <td>Aranuka</td>\n",
       "      <td>{'type': 'Point', 'coordinates': (173.62125479...</td>\n",
       "    </tr>\n",
       "    <tr>\n",
       "      <th>4</th>\n",
       "      <td>AAL</td>\n",
       "      <td>Dinamarca</td>\n",
       "      <td>Aalborg</td>\n",
       "      <td>{'type': 'Point', 'coordinates': (9.9215263, 5...</td>\n",
       "    </tr>\n",
       "  </tbody>\n",
       "</table>\n",
       "</div>"
      ],
      "text/plain": [
       "  IATA             Country     City  \\\n",
       "0  AAA   Polinesia frances     Anaa   \n",
       "1  AAD             Somalia    Adado   \n",
       "2  AAE             Argelia   Annaba   \n",
       "3  AAK            Kiribati  Aranuka   \n",
       "4  AAL           Dinamarca  Aalborg   \n",
       "\n",
       "                                            Location  \n",
       "0  {'type': 'Point', 'coordinates': (-145.521919,...  \n",
       "1  {'type': 'Point', 'coordinates': (47.068920688...  \n",
       "2  {'type': 'Point', 'coordinates': (7.7549272, 3...  \n",
       "3  {'type': 'Point', 'coordinates': (173.62125479...  \n",
       "4  {'type': 'Point', 'coordinates': (9.9215263, 5...  "
      ]
     },
     "execution_count": 9,
     "metadata": {},
     "output_type": "execute_result"
    }
   ],
   "source": [
    "IATA.head()"
   ]
  },
  {
   "cell_type": "code",
   "execution_count": 22,
   "metadata": {},
   "outputs": [],
   "source": [
    "IATA[\"Country\"]=IATA.Country.apply(lambda x: x.lstrip())"
   ]
  },
  {
   "cell_type": "code",
   "execution_count": 23,
   "metadata": {},
   "outputs": [],
   "source": [
    "dicc_IATA=IATA.to_dict('records')"
   ]
  },
  {
   "cell_type": "code",
   "execution_count": 24,
   "metadata": {},
   "outputs": [],
   "source": [
    "lista_final=list(dicc_IATA)"
   ]
  },
  {
   "cell_type": "code",
   "execution_count": 25,
   "metadata": {},
   "outputs": [],
   "source": [
    "def insert_Mongo():\n",
    "    \"\"\"\n",
    "    Esta función inserta los datos geográficos en Mongo DB.\n",
    "    \"\"\"\n",
    "    client = MongoClient(\"localhost:27017\")\n",
    "    db = client.get_database(\"Tu_viaje_ideal_en_un_click\")\n",
    "    coordenadas = db[\"coordenadas\"]  \n",
    "    coordenadas.insert_many(lista_final)\n",
    " "
   ]
  },
  {
   "cell_type": "code",
   "execution_count": 26,
   "metadata": {},
   "outputs": [],
   "source": [
    "insert_Mongo()"
   ]
  },
  {
   "cell_type": "code",
   "execution_count": null,
   "metadata": {},
   "outputs": [],
   "source": []
  }
 ],
 "metadata": {
  "kernelspec": {
   "display_name": "ironhack",
   "language": "python",
   "name": "ironhack"
  },
  "language_info": {
   "codemirror_mode": {
    "name": "ipython",
    "version": 3
   },
   "file_extension": ".py",
   "mimetype": "text/x-python",
   "name": "python",
   "nbconvert_exporter": "python",
   "pygments_lexer": "ipython3",
   "version": "3.8.5"
  }
 },
 "nbformat": 4,
 "nbformat_minor": 2
}
