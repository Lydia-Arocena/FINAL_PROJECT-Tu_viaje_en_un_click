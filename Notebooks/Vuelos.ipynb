{
 "cells": [
  {
   "cell_type": "code",
   "execution_count": 1,
   "id": "24fa50ad",
   "metadata": {},
   "outputs": [],
   "source": [
    "from dotenv import load_dotenv\n",
    "from amadeus import Client, ResponseError\n",
    "from amadeus import Location\n",
    "\n",
    "import os\n",
    "import sys\n",
    "sys.path.append('../')\n",
    "\n",
    "import src.flights_functions as ff"
   ]
  },
  {
   "cell_type": "code",
   "execution_count": 2,
   "id": "6ceebde2",
   "metadata": {},
   "outputs": [
    {
     "data": {
      "text/plain": [
       "True"
      ]
     },
     "execution_count": 2,
     "metadata": {},
     "output_type": "execute_result"
    }
   ],
   "source": [
    "load_dotenv()"
   ]
  },
  {
   "cell_type": "markdown",
   "id": "4e2aa4d6",
   "metadata": {},
   "source": [
    "### Getting the cheapest flight given a date, origin city and destination city."
   ]
  },
  {
   "cell_type": "code",
   "execution_count": 6,
   "id": "433aeb76",
   "metadata": {},
   "outputs": [
    {
     "data": {
      "text/plain": [
       "'The minimun price among all available flights from MAD to LGW is 132.81 euros'"
      ]
     },
     "execution_count": 6,
     "metadata": {},
     "output_type": "execute_result"
    }
   ],
   "source": [
    "ff.get_cheapest_price(\"Madrid\",\"Gatwick\",\"2021-12-18\")"
   ]
  },
  {
   "cell_type": "markdown",
   "id": "3a27c58e",
   "metadata": {},
   "source": [
    "### Getting the shortest flight given a date, origin city and destination city."
   ]
  },
  {
   "cell_type": "code",
   "execution_count": 3,
   "id": "d0d73fb7",
   "metadata": {},
   "outputs": [
    {
     "data": {
      "text/plain": [
       "'The fastest flight lasts 2.4 hours.'"
      ]
     },
     "execution_count": 3,
     "metadata": {},
     "output_type": "execute_result"
    }
   ],
   "source": [
    "ff.get_min_duration(\"Madrid\",\"Gatwick\",\"2021-12-18\")"
   ]
  },
  {
   "cell_type": "markdown",
   "id": "16771dbd",
   "metadata": {},
   "source": [
    "### Converting cities to IATA code."
   ]
  },
  {
   "cell_type": "code",
   "execution_count": 3,
   "id": "b0603706",
   "metadata": {},
   "outputs": [
    {
     "data": {
      "text/plain": [
       "'LGW'"
      ]
     },
     "execution_count": 3,
     "metadata": {},
     "output_type": "execute_result"
    }
   ],
   "source": [
    "ff.get_IATA(\"Gatwick\")"
   ]
  }
 ],
 "metadata": {
  "kernelspec": {
   "display_name": "ironhack",
   "language": "python",
   "name": "ironhack"
  },
  "language_info": {
   "codemirror_mode": {
    "name": "ipython",
    "version": 3
   },
   "file_extension": ".py",
   "mimetype": "text/x-python",
   "name": "python",
   "nbconvert_exporter": "python",
   "pygments_lexer": "ipython3",
   "version": "3.8.5"
  }
 },
 "nbformat": 4,
 "nbformat_minor": 5
}
