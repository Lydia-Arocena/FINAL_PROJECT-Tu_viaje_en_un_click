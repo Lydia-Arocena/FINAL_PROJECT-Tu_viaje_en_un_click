{
 "cells": [
  {
   "cell_type": "code",
   "execution_count": 1,
   "id": "24fa50ad",
   "metadata": {},
   "outputs": [],
   "source": [
    "from dotenv import load_dotenv\n",
    "from amadeus import Client, ResponseError\n",
    "\n",
    "import os\n",
    "import sys\n",
    "sys.path.append('../')\n",
    "\n",
    "import src.flights_functions as ff"
   ]
  },
  {
   "cell_type": "code",
   "execution_count": 2,
   "id": "6ceebde2",
   "metadata": {},
   "outputs": [
    {
     "data": {
      "text/plain": [
       "True"
      ]
     },
     "execution_count": 2,
     "metadata": {},
     "output_type": "execute_result"
    }
   ],
   "source": [
    "load_dotenv()"
   ]
  },
  {
   "cell_type": "markdown",
   "id": "4e2aa4d6",
   "metadata": {},
   "source": [
    "### Especifico una fecha concreta y un origen y destino: me devuelve el precio más barato."
   ]
  },
  {
   "cell_type": "code",
   "execution_count": 3,
   "id": "433aeb76",
   "metadata": {},
   "outputs": [
    {
     "data": {
      "text/plain": [
       "'The minimun price among all available flights is 136.85 euros'"
      ]
     },
     "execution_count": 3,
     "metadata": {},
     "output_type": "execute_result"
    }
   ],
   "source": [
    "ff.get_cheapest_price(\"MAD\",\"AGP\",\"2021-12-18\")"
   ]
  },
  {
   "cell_type": "markdown",
   "id": "3a27c58e",
   "metadata": {},
   "source": [
    "### Especifico una fecha concreta y un origen y destino: me devuelve la duración más corta."
   ]
  },
  {
   "cell_type": "code",
   "execution_count": 4,
   "id": "d0d73fb7",
   "metadata": {},
   "outputs": [
    {
     "data": {
      "text/plain": [
       "'The fastest flight lasts 3.6 hours.'"
      ]
     },
     "execution_count": 4,
     "metadata": {},
     "output_type": "execute_result"
    }
   ],
   "source": [
    "ff.get_min_duration(\"MAD\",\"ATH\",\"2021-12-18\")"
   ]
  },
  {
   "cell_type": "code",
   "execution_count": 21,
   "id": "43214bdf",
   "metadata": {},
   "outputs": [
    {
     "data": {
      "text/plain": [
       "True"
      ]
     },
     "execution_count": 21,
     "metadata": {},
     "output_type": "execute_result"
    }
   ],
   "source": [
    "load_dotenv()"
   ]
  },
  {
   "cell_type": "code",
   "execution_count": null,
   "id": "4fe9c97c",
   "metadata": {},
   "outputs": [],
   "source": []
  },
  {
   "cell_type": "code",
   "execution_count": null,
   "id": "d33a275b",
   "metadata": {},
   "outputs": [],
   "source": []
  }
 ],
 "metadata": {
  "kernelspec": {
   "display_name": "ironhack",
   "language": "python",
   "name": "ironhack"
  },
  "language_info": {
   "codemirror_mode": {
    "name": "ipython",
    "version": 3
   },
   "file_extension": ".py",
   "mimetype": "text/x-python",
   "name": "python",
   "nbconvert_exporter": "python",
   "pygments_lexer": "ipython3",
   "version": "3.8.5"
  }
 },
 "nbformat": 4,
 "nbformat_minor": 5
}
