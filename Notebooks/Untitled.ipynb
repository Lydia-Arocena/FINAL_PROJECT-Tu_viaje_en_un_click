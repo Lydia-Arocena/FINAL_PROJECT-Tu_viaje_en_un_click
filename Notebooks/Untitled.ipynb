{
 "cells": [
  {
   "cell_type": "code",
   "execution_count": 1,
   "metadata": {},
   "outputs": [],
   "source": [
    "import ast\n",
    "import pandas as pd\n",
    "from dotenv import load_dotenv\n",
    "import os\n",
    "import sys\n",
    "sys.path.append('../')\n",
    "\n",
    "import src.geo_functions as gf\n",
    "import src.flights_functions as ff"
   ]
  },
  {
   "cell_type": "code",
   "execution_count": 6,
   "metadata": {},
   "outputs": [
    {
     "name": "stderr",
     "output_type": "stream",
     "text": [
      "/home/lydia/anaconda3/envs/ironhack/lib/python3.8/site-packages/pandas/core/frame.py:4906: SettingWithCopyWarning: \n",
      "A value is trying to be set on a copy of a slice from a DataFrame\n",
      "\n",
      "See the caveats in the documentation: https://pandas.pydata.org/pandas-docs/stable/user_guide/indexing.html#returning-a-view-versus-a-copy\n",
      "  return super().drop(\n"
     ]
    }
   ],
   "source": [
    "df=gf.df_geonear(\"Madrid\", 800)"
   ]
  },
  {
   "cell_type": "markdown",
   "metadata": {},
   "source": [
    "kms=list(df.City)"
   ]
  },
  {
   "cell_type": "code",
   "execution_count": 9,
   "metadata": {},
   "outputs": [
    {
     "data": {
      "text/plain": [
       "['Córdoba',\n",
       " 'Valencia',\n",
       " 'Seville',\n",
       " 'Andorra la Vella',\n",
       " 'Lisbon',\n",
       " 'Barcelona',\n",
       " 'Algiers',\n",
       " 'Rabat']"
      ]
     },
     "execution_count": 9,
     "metadata": {},
     "output_type": "execute_result"
    }
   ],
   "source": [
    "kms"
   ]
  },
  {
   "cell_type": "code",
   "execution_count": 16,
   "metadata": {},
   "outputs": [],
   "source": [
    "#lista_va=[]\n",
    "#for k in kms:\n",
    "    #print(k)\n",
    "    #dest=ff.get_cheapest_price(\"Madrid\",k,\"2021-12-18\")\n",
    "    #lista_va.append(dest)"
   ]
  },
  {
   "cell_type": "markdown",
   "metadata": {},
   "source": [
    "### IATA CODES:"
   ]
  },
  {
   "cell_type": "code",
   "execution_count": 3,
   "metadata": {},
   "outputs": [
    {
     "name": "stderr",
     "output_type": "stream",
     "text": [
      "../src/geo_functions.py:147: UserWarning: Pandas doesn't allow columns to be created via a new attribute name - see https://pandas.pydata.org/pandas-docs/stable/indexing.html#attribute-access\n",
      "  df.Cities=df.Lugar.apply(lambda x: x.split(\",\")[0])\n",
      "../src/geo_functions.py:148: UserWarning: Pandas doesn't allow columns to be created via a new attribute name - see https://pandas.pydata.org/pandas-docs/stable/indexing.html#attribute-access\n",
      "  df.Countries=df.Lugar.apply(lambda x: x.split(\",\")[1])\n"
     ]
    }
   ],
   "source": [
    "df=gf.dicc_to_df() "
   ]
  },
  {
   "cell_type": "code",
   "execution_count": 5,
   "metadata": {},
   "outputs": [
    {
     "data": {
      "text/html": [
       "<div>\n",
       "<style scoped>\n",
       "    .dataframe tbody tr th:only-of-type {\n",
       "        vertical-align: middle;\n",
       "    }\n",
       "\n",
       "    .dataframe tbody tr th {\n",
       "        vertical-align: top;\n",
       "    }\n",
       "\n",
       "    .dataframe thead th {\n",
       "        text-align: right;\n",
       "    }\n",
       "</style>\n",
       "<table border=\"1\" class=\"dataframe\">\n",
       "  <thead>\n",
       "    <tr style=\"text-align: right;\">\n",
       "      <th></th>\n",
       "      <th>IATA</th>\n",
       "      <th>Countries</th>\n",
       "      <th>Cities</th>\n",
       "    </tr>\n",
       "  </thead>\n",
       "  <tbody>\n",
       "    <tr>\n",
       "      <th>1896</th>\n",
       "      <td>LUO</td>\n",
       "      <td>Angola</td>\n",
       "      <td>Luena</td>\n",
       "    </tr>\n",
       "    <tr>\n",
       "      <th>2507</th>\n",
       "      <td>PMO</td>\n",
       "      <td>Italia</td>\n",
       "      <td>Palermo</td>\n",
       "    </tr>\n",
       "    <tr>\n",
       "      <th>1105</th>\n",
       "      <td>GRY</td>\n",
       "      <td>Islandia</td>\n",
       "      <td>Grimsey</td>\n",
       "    </tr>\n",
       "    <tr>\n",
       "      <th>219</th>\n",
       "      <td>AZR</td>\n",
       "      <td>Argelia</td>\n",
       "      <td>Adrar</td>\n",
       "    </tr>\n",
       "    <tr>\n",
       "      <th>3129</th>\n",
       "      <td>TLM</td>\n",
       "      <td>Argelia</td>\n",
       "      <td>Tlemcen</td>\n",
       "    </tr>\n",
       "    <tr>\n",
       "      <th>2139</th>\n",
       "      <td>MWQ</td>\n",
       "      <td>Myanmar (Burma)</td>\n",
       "      <td>Magway</td>\n",
       "    </tr>\n",
       "    <tr>\n",
       "      <th>2925</th>\n",
       "      <td>SPS</td>\n",
       "      <td>Estados Unidos</td>\n",
       "      <td>Wichita Falls</td>\n",
       "    </tr>\n",
       "    <tr>\n",
       "      <th>1964</th>\n",
       "      <td>MCV</td>\n",
       "      <td>Australia</td>\n",
       "      <td>McArthur River zinc mine</td>\n",
       "    </tr>\n",
       "    <tr>\n",
       "      <th>1675</th>\n",
       "      <td>KSM</td>\n",
       "      <td>Estados Unidos</td>\n",
       "      <td>St. Mary s</td>\n",
       "    </tr>\n",
       "    <tr>\n",
       "      <th>3253</th>\n",
       "      <td>UCB</td>\n",
       "      <td>China</td>\n",
       "      <td>Ulanqab</td>\n",
       "    </tr>\n",
       "    <tr>\n",
       "      <th>1110</th>\n",
       "      <td>GST</td>\n",
       "      <td>Estados Unidos</td>\n",
       "      <td>Gustavus</td>\n",
       "    </tr>\n",
       "    <tr>\n",
       "      <th>797</th>\n",
       "      <td>DTW</td>\n",
       "      <td>Estados Unidos</td>\n",
       "      <td>Detroit</td>\n",
       "    </tr>\n",
       "    <tr>\n",
       "      <th>1558</th>\n",
       "      <td>KGK</td>\n",
       "      <td>Estados Unidos</td>\n",
       "      <td>Koliganek</td>\n",
       "    </tr>\n",
       "    <tr>\n",
       "      <th>3164</th>\n",
       "      <td>TOL</td>\n",
       "      <td>Estados Unidos</td>\n",
       "      <td>Toledo</td>\n",
       "    </tr>\n",
       "    <tr>\n",
       "      <th>3361</th>\n",
       "      <td>VHC</td>\n",
       "      <td>Angola</td>\n",
       "      <td>Saurimo</td>\n",
       "    </tr>\n",
       "    <tr>\n",
       "      <th>987</th>\n",
       "      <td>FUJ</td>\n",
       "      <td>Japon</td>\n",
       "      <td>Fukue Island</td>\n",
       "    </tr>\n",
       "    <tr>\n",
       "      <th>2786</th>\n",
       "      <td>SCQ</td>\n",
       "      <td>Espana</td>\n",
       "      <td>Santiago de Compostela</td>\n",
       "    </tr>\n",
       "    <tr>\n",
       "      <th>2326</th>\n",
       "      <td>OKR</td>\n",
       "      <td>Australia</td>\n",
       "      <td>Yorke</td>\n",
       "    </tr>\n",
       "    <tr>\n",
       "      <th>1933</th>\n",
       "      <td>MAD</td>\n",
       "      <td>Espana</td>\n",
       "      <td>Madrid</td>\n",
       "    </tr>\n",
       "    <tr>\n",
       "      <th>2548</th>\n",
       "      <td>PRC</td>\n",
       "      <td>Estados Unidos</td>\n",
       "      <td>Prescott</td>\n",
       "    </tr>\n",
       "    <tr>\n",
       "      <th>1287</th>\n",
       "      <td>IAO</td>\n",
       "      <td>Filipinas</td>\n",
       "      <td>Del Carmen</td>\n",
       "    </tr>\n",
       "    <tr>\n",
       "      <th>1914</th>\n",
       "      <td>LXG</td>\n",
       "      <td>Laos</td>\n",
       "      <td>Luang Namtha</td>\n",
       "    </tr>\n",
       "    <tr>\n",
       "      <th>269</th>\n",
       "      <td>BFJ</td>\n",
       "      <td>China</td>\n",
       "      <td>Bijie</td>\n",
       "    </tr>\n",
       "    <tr>\n",
       "      <th>1711</th>\n",
       "      <td>KVO</td>\n",
       "      <td>Serbia</td>\n",
       "      <td>Kraljevo</td>\n",
       "    </tr>\n",
       "    <tr>\n",
       "      <th>267</th>\n",
       "      <td>BFF</td>\n",
       "      <td>Estados Unidos</td>\n",
       "      <td>Scottsbluff</td>\n",
       "    </tr>\n",
       "    <tr>\n",
       "      <th>3295</th>\n",
       "      <td>URA</td>\n",
       "      <td>Kazajstan</td>\n",
       "      <td>Oral</td>\n",
       "    </tr>\n",
       "    <tr>\n",
       "      <th>982</th>\n",
       "      <td>FTA</td>\n",
       "      <td>Vanuatu</td>\n",
       "      <td>Futuna</td>\n",
       "    </tr>\n",
       "    <tr>\n",
       "      <th>3353</th>\n",
       "      <td>VEE</td>\n",
       "      <td>Estados Unidos</td>\n",
       "      <td>Venetie</td>\n",
       "    </tr>\n",
       "    <tr>\n",
       "      <th>175</th>\n",
       "      <td>ATD</td>\n",
       "      <td>Islas Salomon</td>\n",
       "      <td>Atoifi</td>\n",
       "    </tr>\n",
       "    <tr>\n",
       "      <th>2055</th>\n",
       "      <td>MMG</td>\n",
       "      <td>Australia</td>\n",
       "      <td>Mount Magnet</td>\n",
       "    </tr>\n",
       "  </tbody>\n",
       "</table>\n",
       "</div>"
      ],
      "text/plain": [
       "     IATA         Countries                    Cities\n",
       "1896  LUO            Angola                     Luena\n",
       "2507  PMO            Italia                   Palermo\n",
       "1105  GRY          Islandia                   Grimsey\n",
       "219   AZR           Argelia                     Adrar\n",
       "3129  TLM           Argelia                   Tlemcen\n",
       "2139  MWQ   Myanmar (Burma)                    Magway\n",
       "2925  SPS    Estados Unidos             Wichita Falls\n",
       "1964  MCV         Australia  McArthur River zinc mine\n",
       "1675  KSM    Estados Unidos                St. Mary s\n",
       "3253  UCB             China                   Ulanqab\n",
       "1110  GST    Estados Unidos                  Gustavus\n",
       "797   DTW    Estados Unidos                   Detroit\n",
       "1558  KGK    Estados Unidos                 Koliganek\n",
       "3164  TOL    Estados Unidos                    Toledo\n",
       "3361  VHC            Angola                   Saurimo\n",
       "987   FUJ             Japon              Fukue Island\n",
       "2786  SCQ            Espana    Santiago de Compostela\n",
       "2326  OKR         Australia                     Yorke\n",
       "1933  MAD            Espana                    Madrid\n",
       "2548  PRC    Estados Unidos                  Prescott\n",
       "1287  IAO         Filipinas                Del Carmen\n",
       "1914  LXG              Laos              Luang Namtha\n",
       "269   BFJ             China                     Bijie\n",
       "1711  KVO            Serbia                  Kraljevo\n",
       "267   BFF    Estados Unidos               Scottsbluff\n",
       "3295  URA         Kazajstan                      Oral\n",
       "982   FTA           Vanuatu                    Futuna\n",
       "3353  VEE    Estados Unidos                   Venetie\n",
       "175   ATD     Islas Salomon                    Atoifi\n",
       "2055  MMG         Australia              Mount Magnet"
      ]
     },
     "execution_count": 5,
     "metadata": {},
     "output_type": "execute_result"
    }
   ],
   "source": [
    "df.sample(30)"
   ]
  },
  {
   "cell_type": "code",
   "execution_count": 6,
   "metadata": {},
   "outputs": [],
   "source": [
    "not_spain=df[df[\"Countries\"]!=\"Espana\"]"
   ]
  },
  {
   "cell_type": "code",
   "execution_count": 7,
   "metadata": {},
   "outputs": [],
   "source": [
    "spain=df[df[\"Countries\"]==\"Espana\"]"
   ]
  },
  {
   "cell_type": "code",
   "execution_count": 8,
   "metadata": {},
   "outputs": [],
   "source": [
    "not_spain[\"Cities\"]=not_spain.Cities.apply(gf.translator)"
   ]
  },
  {
   "cell_type": "code",
   "execution_count": 9,
   "metadata": {},
   "outputs": [],
   "source": [
    "not_spain[\"Countries\"]=not_spain.Countries.apply(gf.translator)"
   ]
  },
  {
   "cell_type": "code",
   "execution_count": 12,
   "metadata": {},
   "outputs": [],
   "source": [
    "IATA = pd.concat([not_spain,spain], axis=0)"
   ]
  },
  {
   "cell_type": "code",
   "execution_count": 21,
   "metadata": {},
   "outputs": [],
   "source": [
    "IATA.to_csv(\"../Data/IATAlimpio.csv\",index=False)"
   ]
  },
  {
   "cell_type": "code",
   "execution_count": 7,
   "metadata": {},
   "outputs": [],
   "source": [
    "IATA=pd.read_csv(\"../Data/IATAlimpio.csv\")"
   ]
  },
  {
   "cell_type": "code",
   "execution_count": 8,
   "metadata": {},
   "outputs": [
    {
     "name": "stdout",
     "output_type": "stream",
     "text": [
      "<class 'pandas.core.frame.DataFrame'>\n",
      "RangeIndex: 3780 entries, 0 to 3779\n",
      "Data columns (total 3 columns):\n",
      " #   Column     Non-Null Count  Dtype \n",
      "---  ------     --------------  ----- \n",
      " 0   IATA       3780 non-null   object\n",
      " 1   Countries  3780 non-null   object\n",
      " 2   Cities     3765 non-null   object\n",
      "dtypes: object(3)\n",
      "memory usage: 88.7+ KB\n"
     ]
    }
   ],
   "source": [
    "IATA.info()"
   ]
  },
  {
   "cell_type": "code",
   "execution_count": 9,
   "metadata": {},
   "outputs": [
    {
     "data": {
      "text/plain": [
       "0                       Anaa\n",
       "1                      Adado\n",
       "2                     Annaba\n",
       "3                    Aranuka\n",
       "4                    Aalborg\n",
       "                ...         \n",
       "3775             Savannakhet\n",
       "3776          Wollaston Lake\n",
       "3777                   Zunyi\n",
       "3778                  Sylhet\n",
       "3779    Tymovskoye Zonalnoye\n",
       "Name: Cities, Length: 3780, dtype: object"
      ]
     },
     "execution_count": 9,
     "metadata": {},
     "output_type": "execute_result"
    }
   ],
   "source": [
    "IATA.Cities"
   ]
  },
  {
   "cell_type": "code",
   "execution_count": null,
   "metadata": {
    "scrolled": true
   },
   "outputs": [],
   "source": [
    "location=IATA.Cities.apply(gf.get_coordenadas_tipo_point)"
   ]
  },
  {
   "cell_type": "code",
   "execution_count": null,
   "metadata": {},
   "outputs": [],
   "source": [
    "IATA[\"Type Point\"]=location"
   ]
  },
  {
   "cell_type": "code",
   "execution_count": null,
   "metadata": {},
   "outputs": [],
   "source": [
    "IATA[\"Type Point\"]=IATA[\"Type Point\"].apply(lambda x: ast.literal_eval(x))"
   ]
  },
  {
   "cell_type": "code",
   "execution_count": 10,
   "metadata": {},
   "outputs": [],
   "source": [
    "IATA.to_csv(\"../Data/IATAcoord.csv\",index=False)"
   ]
  },
  {
   "cell_type": "code",
   "execution_count": 2,
   "metadata": {},
   "outputs": [],
   "source": [
    "gf.insert_Mongo()"
   ]
  },
  {
   "cell_type": "code",
   "execution_count": null,
   "metadata": {},
   "outputs": [],
   "source": []
  }
 ],
 "metadata": {
  "kernelspec": {
   "display_name": "ironhack",
   "language": "python",
   "name": "ironhack"
  },
  "language_info": {
   "codemirror_mode": {
    "name": "ipython",
    "version": 3
   },
   "file_extension": ".py",
   "mimetype": "text/x-python",
   "name": "python",
   "nbconvert_exporter": "python",
   "pygments_lexer": "ipython3",
   "version": "3.8.5"
  }
 },
 "nbformat": 4,
 "nbformat_minor": 2
}
